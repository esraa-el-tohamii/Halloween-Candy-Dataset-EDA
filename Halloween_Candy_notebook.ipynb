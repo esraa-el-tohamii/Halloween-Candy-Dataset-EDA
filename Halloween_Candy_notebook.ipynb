{
  "nbformat": 4,
  "nbformat_minor": 0,
  "metadata": {
    "colab": {
      "provenance": [],
      "authorship_tag": "ABX9TyPDdK3enB5oBMrR4zuRWTr/"
    },
    "kernelspec": {
      "name": "python3",
      "display_name": "Python 3"
    },
    "language_info": {
      "name": "python"
    }
  },
  "cells": [
    {
      "cell_type": "code",
      "execution_count": 446,
      "metadata": {
        "id": "VU4CAi4fz7R2"
      },
      "outputs": [],
      "source": [
        "import pandas as pd\n",
        "import numpy as np\n",
        "import matplotlib.pyplot as plt\n",
        "import seaborn as sns"
      ]
    },
    {
      "cell_type": "code",
      "source": [
        "df=pd.read_excel('/content/Halloween_candy.xlsx')\n",
        "df.head()"
      ],
      "metadata": {
        "colab": {
          "base_uri": "https://localhost:8080/",
          "height": 568
        },
        "id": "BDRwtTW50sHS",
        "outputId": "d02e1884-ae81-45e5-ad88-0453de079f34"
      },
      "execution_count": 447,
      "outputs": [
        {
          "output_type": "execute_result",
          "data": {
            "text/plain": [
              "         ID Q1: going out? Q2: gender Q3: age Q4: country Q5: state/province  \\\n",
              "0  90258773            NaN        NaN     NaN         NaN                NaN   \n",
              "1  90272821             No       Male      44         USA                 NM   \n",
              "2  90272829            NaN       Male      49         USA           Virginia   \n",
              "3  90272840             No       Male      40          us                 or   \n",
              "4  90272841             No       Male      23         usa           exton pa   \n",
              "\n",
              "  Q6 | 100 Grand Bar  \\\n",
              "0                NaN   \n",
              "1                MEH   \n",
              "2                NaN   \n",
              "3                MEH   \n",
              "4                JOY   \n",
              "\n",
              "  Q6 | Anonymous brown globs that come in black and orange wrappers\\t(a.k.a. Mary Janes)  \\\n",
              "0                                                NaN                                       \n",
              "1                                            DESPAIR                                       \n",
              "2                                                NaN                                       \n",
              "3                                            DESPAIR                                       \n",
              "4                                            DESPAIR                                       \n",
              "\n",
              "  Q6 | Any full-sized candy bar Q6 | Black Jacks  ... Q6 | Vicodin  \\\n",
              "0                           NaN              NaN  ...          NaN   \n",
              "1                           JOY              MEH  ...      DESPAIR   \n",
              "2                           NaN              NaN  ...          NaN   \n",
              "3                           JOY              MEH  ...          JOY   \n",
              "4                           JOY          DESPAIR  ...          JOY   \n",
              "\n",
              "  Q6 | Whatchamacallit Bars Q6 | White Bread Q6 | Whole Wheat anything  \\\n",
              "0                       NaN              NaN                       NaN   \n",
              "1                   DESPAIR          DESPAIR                   DESPAIR   \n",
              "2                       NaN              NaN                       NaN   \n",
              "3                       JOY          DESPAIR                   DESPAIR   \n",
              "4                       JOY          DESPAIR                   DESPAIR   \n",
              "\n",
              "  Q6 | York Peppermint Patties  \\\n",
              "0                          NaN   \n",
              "1                      DESPAIR   \n",
              "2                          NaN   \n",
              "3                      DESPAIR   \n",
              "4                          JOY   \n",
              "\n",
              "                                       Q7: joy other Q8: despair other  \\\n",
              "0                                                NaN               NaN   \n",
              "1                                             Mounds               NaN   \n",
              "2                                                NaN               NaN   \n",
              "3  Reese's crispy crunchy bars, 5th avenue bars, ...               NaN   \n",
              "4                                                NaN               NaN   \n",
              "\n",
              "                                  Q9: other comments      Q10: dress Q11: day  \n",
              "0                                                NaN             NaN      NaN  \n",
              "1  Bottom line is Twix is really the only candy w...  White and gold   Sunday  \n",
              "2                                                NaN             NaN      NaN  \n",
              "3                             Raisins can go to hell  White and gold   Sunday  \n",
              "4                                                NaN  White and gold   Friday  \n",
              "\n",
              "[5 rows x 114 columns]"
            ],
            "text/html": [
              "\n",
              "  <div id=\"df-ee479210-8b8f-4aac-90d7-18e23bd8d857\" class=\"colab-df-container\">\n",
              "    <div>\n",
              "<style scoped>\n",
              "    .dataframe tbody tr th:only-of-type {\n",
              "        vertical-align: middle;\n",
              "    }\n",
              "\n",
              "    .dataframe tbody tr th {\n",
              "        vertical-align: top;\n",
              "    }\n",
              "\n",
              "    .dataframe thead th {\n",
              "        text-align: right;\n",
              "    }\n",
              "</style>\n",
              "<table border=\"1\" class=\"dataframe\">\n",
              "  <thead>\n",
              "    <tr style=\"text-align: right;\">\n",
              "      <th></th>\n",
              "      <th>ID</th>\n",
              "      <th>Q1: going out?</th>\n",
              "      <th>Q2: gender</th>\n",
              "      <th>Q3: age</th>\n",
              "      <th>Q4: country</th>\n",
              "      <th>Q5: state/province</th>\n",
              "      <th>Q6 | 100 Grand Bar</th>\n",
              "      <th>Q6 | Anonymous brown globs that come in black and orange wrappers\\t(a.k.a. Mary Janes)</th>\n",
              "      <th>Q6 | Any full-sized candy bar</th>\n",
              "      <th>Q6 | Black Jacks</th>\n",
              "      <th>...</th>\n",
              "      <th>Q6 | Vicodin</th>\n",
              "      <th>Q6 | Whatchamacallit Bars</th>\n",
              "      <th>Q6 | White Bread</th>\n",
              "      <th>Q6 | Whole Wheat anything</th>\n",
              "      <th>Q6 | York Peppermint Patties</th>\n",
              "      <th>Q7: joy other</th>\n",
              "      <th>Q8: despair other</th>\n",
              "      <th>Q9: other comments</th>\n",
              "      <th>Q10: dress</th>\n",
              "      <th>Q11: day</th>\n",
              "    </tr>\n",
              "  </thead>\n",
              "  <tbody>\n",
              "    <tr>\n",
              "      <th>0</th>\n",
              "      <td>90258773</td>\n",
              "      <td>NaN</td>\n",
              "      <td>NaN</td>\n",
              "      <td>NaN</td>\n",
              "      <td>NaN</td>\n",
              "      <td>NaN</td>\n",
              "      <td>NaN</td>\n",
              "      <td>NaN</td>\n",
              "      <td>NaN</td>\n",
              "      <td>NaN</td>\n",
              "      <td>...</td>\n",
              "      <td>NaN</td>\n",
              "      <td>NaN</td>\n",
              "      <td>NaN</td>\n",
              "      <td>NaN</td>\n",
              "      <td>NaN</td>\n",
              "      <td>NaN</td>\n",
              "      <td>NaN</td>\n",
              "      <td>NaN</td>\n",
              "      <td>NaN</td>\n",
              "      <td>NaN</td>\n",
              "    </tr>\n",
              "    <tr>\n",
              "      <th>1</th>\n",
              "      <td>90272821</td>\n",
              "      <td>No</td>\n",
              "      <td>Male</td>\n",
              "      <td>44</td>\n",
              "      <td>USA</td>\n",
              "      <td>NM</td>\n",
              "      <td>MEH</td>\n",
              "      <td>DESPAIR</td>\n",
              "      <td>JOY</td>\n",
              "      <td>MEH</td>\n",
              "      <td>...</td>\n",
              "      <td>DESPAIR</td>\n",
              "      <td>DESPAIR</td>\n",
              "      <td>DESPAIR</td>\n",
              "      <td>DESPAIR</td>\n",
              "      <td>DESPAIR</td>\n",
              "      <td>Mounds</td>\n",
              "      <td>NaN</td>\n",
              "      <td>Bottom line is Twix is really the only candy w...</td>\n",
              "      <td>White and gold</td>\n",
              "      <td>Sunday</td>\n",
              "    </tr>\n",
              "    <tr>\n",
              "      <th>2</th>\n",
              "      <td>90272829</td>\n",
              "      <td>NaN</td>\n",
              "      <td>Male</td>\n",
              "      <td>49</td>\n",
              "      <td>USA</td>\n",
              "      <td>Virginia</td>\n",
              "      <td>NaN</td>\n",
              "      <td>NaN</td>\n",
              "      <td>NaN</td>\n",
              "      <td>NaN</td>\n",
              "      <td>...</td>\n",
              "      <td>NaN</td>\n",
              "      <td>NaN</td>\n",
              "      <td>NaN</td>\n",
              "      <td>NaN</td>\n",
              "      <td>NaN</td>\n",
              "      <td>NaN</td>\n",
              "      <td>NaN</td>\n",
              "      <td>NaN</td>\n",
              "      <td>NaN</td>\n",
              "      <td>NaN</td>\n",
              "    </tr>\n",
              "    <tr>\n",
              "      <th>3</th>\n",
              "      <td>90272840</td>\n",
              "      <td>No</td>\n",
              "      <td>Male</td>\n",
              "      <td>40</td>\n",
              "      <td>us</td>\n",
              "      <td>or</td>\n",
              "      <td>MEH</td>\n",
              "      <td>DESPAIR</td>\n",
              "      <td>JOY</td>\n",
              "      <td>MEH</td>\n",
              "      <td>...</td>\n",
              "      <td>JOY</td>\n",
              "      <td>JOY</td>\n",
              "      <td>DESPAIR</td>\n",
              "      <td>DESPAIR</td>\n",
              "      <td>DESPAIR</td>\n",
              "      <td>Reese's crispy crunchy bars, 5th avenue bars, ...</td>\n",
              "      <td>NaN</td>\n",
              "      <td>Raisins can go to hell</td>\n",
              "      <td>White and gold</td>\n",
              "      <td>Sunday</td>\n",
              "    </tr>\n",
              "    <tr>\n",
              "      <th>4</th>\n",
              "      <td>90272841</td>\n",
              "      <td>No</td>\n",
              "      <td>Male</td>\n",
              "      <td>23</td>\n",
              "      <td>usa</td>\n",
              "      <td>exton pa</td>\n",
              "      <td>JOY</td>\n",
              "      <td>DESPAIR</td>\n",
              "      <td>JOY</td>\n",
              "      <td>DESPAIR</td>\n",
              "      <td>...</td>\n",
              "      <td>JOY</td>\n",
              "      <td>JOY</td>\n",
              "      <td>DESPAIR</td>\n",
              "      <td>DESPAIR</td>\n",
              "      <td>JOY</td>\n",
              "      <td>NaN</td>\n",
              "      <td>NaN</td>\n",
              "      <td>NaN</td>\n",
              "      <td>White and gold</td>\n",
              "      <td>Friday</td>\n",
              "    </tr>\n",
              "  </tbody>\n",
              "</table>\n",
              "<p>5 rows × 114 columns</p>\n",
              "</div>\n",
              "    <div class=\"colab-df-buttons\">\n",
              "\n",
              "  <div class=\"colab-df-container\">\n",
              "    <button class=\"colab-df-convert\" onclick=\"convertToInteractive('df-ee479210-8b8f-4aac-90d7-18e23bd8d857')\"\n",
              "            title=\"Convert this dataframe to an interactive table.\"\n",
              "            style=\"display:none;\">\n",
              "\n",
              "  <svg xmlns=\"http://www.w3.org/2000/svg\" height=\"24px\" viewBox=\"0 -960 960 960\">\n",
              "    <path d=\"M120-120v-720h720v720H120Zm60-500h600v-160H180v160Zm220 220h160v-160H400v160Zm0 220h160v-160H400v160ZM180-400h160v-160H180v160Zm440 0h160v-160H620v160ZM180-180h160v-160H180v160Zm440 0h160v-160H620v160Z\"/>\n",
              "  </svg>\n",
              "    </button>\n",
              "\n",
              "  <style>\n",
              "    .colab-df-container {\n",
              "      display:flex;\n",
              "      gap: 12px;\n",
              "    }\n",
              "\n",
              "    .colab-df-convert {\n",
              "      background-color: #E8F0FE;\n",
              "      border: none;\n",
              "      border-radius: 50%;\n",
              "      cursor: pointer;\n",
              "      display: none;\n",
              "      fill: #1967D2;\n",
              "      height: 32px;\n",
              "      padding: 0 0 0 0;\n",
              "      width: 32px;\n",
              "    }\n",
              "\n",
              "    .colab-df-convert:hover {\n",
              "      background-color: #E2EBFA;\n",
              "      box-shadow: 0px 1px 2px rgba(60, 64, 67, 0.3), 0px 1px 3px 1px rgba(60, 64, 67, 0.15);\n",
              "      fill: #174EA6;\n",
              "    }\n",
              "\n",
              "    .colab-df-buttons div {\n",
              "      margin-bottom: 4px;\n",
              "    }\n",
              "\n",
              "    [theme=dark] .colab-df-convert {\n",
              "      background-color: #3B4455;\n",
              "      fill: #D2E3FC;\n",
              "    }\n",
              "\n",
              "    [theme=dark] .colab-df-convert:hover {\n",
              "      background-color: #434B5C;\n",
              "      box-shadow: 0px 1px 3px 1px rgba(0, 0, 0, 0.15);\n",
              "      filter: drop-shadow(0px 1px 2px rgba(0, 0, 0, 0.3));\n",
              "      fill: #FFFFFF;\n",
              "    }\n",
              "  </style>\n",
              "\n",
              "    <script>\n",
              "      const buttonEl =\n",
              "        document.querySelector('#df-ee479210-8b8f-4aac-90d7-18e23bd8d857 button.colab-df-convert');\n",
              "      buttonEl.style.display =\n",
              "        google.colab.kernel.accessAllowed ? 'block' : 'none';\n",
              "\n",
              "      async function convertToInteractive(key) {\n",
              "        const element = document.querySelector('#df-ee479210-8b8f-4aac-90d7-18e23bd8d857');\n",
              "        const dataTable =\n",
              "          await google.colab.kernel.invokeFunction('convertToInteractive',\n",
              "                                                    [key], {});\n",
              "        if (!dataTable) return;\n",
              "\n",
              "        const docLinkHtml = 'Like what you see? Visit the ' +\n",
              "          '<a target=\"_blank\" href=https://colab.research.google.com/notebooks/data_table.ipynb>data table notebook</a>'\n",
              "          + ' to learn more about interactive tables.';\n",
              "        element.innerHTML = '';\n",
              "        dataTable['output_type'] = 'display_data';\n",
              "        await google.colab.output.renderOutput(dataTable, element);\n",
              "        const docLink = document.createElement('div');\n",
              "        docLink.innerHTML = docLinkHtml;\n",
              "        element.appendChild(docLink);\n",
              "      }\n",
              "    </script>\n",
              "  </div>\n",
              "\n",
              "\n",
              "    <div id=\"df-327309f9-c192-49c4-9cbc-c181b9ae1608\">\n",
              "      <button class=\"colab-df-quickchart\" onclick=\"quickchart('df-327309f9-c192-49c4-9cbc-c181b9ae1608')\"\n",
              "                title=\"Suggest charts\"\n",
              "                style=\"display:none;\">\n",
              "\n",
              "<svg xmlns=\"http://www.w3.org/2000/svg\" height=\"24px\"viewBox=\"0 0 24 24\"\n",
              "     width=\"24px\">\n",
              "    <g>\n",
              "        <path d=\"M19 3H5c-1.1 0-2 .9-2 2v14c0 1.1.9 2 2 2h14c1.1 0 2-.9 2-2V5c0-1.1-.9-2-2-2zM9 17H7v-7h2v7zm4 0h-2V7h2v10zm4 0h-2v-4h2v4z\"/>\n",
              "    </g>\n",
              "</svg>\n",
              "      </button>\n",
              "\n",
              "<style>\n",
              "  .colab-df-quickchart {\n",
              "      --bg-color: #E8F0FE;\n",
              "      --fill-color: #1967D2;\n",
              "      --hover-bg-color: #E2EBFA;\n",
              "      --hover-fill-color: #174EA6;\n",
              "      --disabled-fill-color: #AAA;\n",
              "      --disabled-bg-color: #DDD;\n",
              "  }\n",
              "\n",
              "  [theme=dark] .colab-df-quickchart {\n",
              "      --bg-color: #3B4455;\n",
              "      --fill-color: #D2E3FC;\n",
              "      --hover-bg-color: #434B5C;\n",
              "      --hover-fill-color: #FFFFFF;\n",
              "      --disabled-bg-color: #3B4455;\n",
              "      --disabled-fill-color: #666;\n",
              "  }\n",
              "\n",
              "  .colab-df-quickchart {\n",
              "    background-color: var(--bg-color);\n",
              "    border: none;\n",
              "    border-radius: 50%;\n",
              "    cursor: pointer;\n",
              "    display: none;\n",
              "    fill: var(--fill-color);\n",
              "    height: 32px;\n",
              "    padding: 0;\n",
              "    width: 32px;\n",
              "  }\n",
              "\n",
              "  .colab-df-quickchart:hover {\n",
              "    background-color: var(--hover-bg-color);\n",
              "    box-shadow: 0 1px 2px rgba(60, 64, 67, 0.3), 0 1px 3px 1px rgba(60, 64, 67, 0.15);\n",
              "    fill: var(--button-hover-fill-color);\n",
              "  }\n",
              "\n",
              "  .colab-df-quickchart-complete:disabled,\n",
              "  .colab-df-quickchart-complete:disabled:hover {\n",
              "    background-color: var(--disabled-bg-color);\n",
              "    fill: var(--disabled-fill-color);\n",
              "    box-shadow: none;\n",
              "  }\n",
              "\n",
              "  .colab-df-spinner {\n",
              "    border: 2px solid var(--fill-color);\n",
              "    border-color: transparent;\n",
              "    border-bottom-color: var(--fill-color);\n",
              "    animation:\n",
              "      spin 1s steps(1) infinite;\n",
              "  }\n",
              "\n",
              "  @keyframes spin {\n",
              "    0% {\n",
              "      border-color: transparent;\n",
              "      border-bottom-color: var(--fill-color);\n",
              "      border-left-color: var(--fill-color);\n",
              "    }\n",
              "    20% {\n",
              "      border-color: transparent;\n",
              "      border-left-color: var(--fill-color);\n",
              "      border-top-color: var(--fill-color);\n",
              "    }\n",
              "    30% {\n",
              "      border-color: transparent;\n",
              "      border-left-color: var(--fill-color);\n",
              "      border-top-color: var(--fill-color);\n",
              "      border-right-color: var(--fill-color);\n",
              "    }\n",
              "    40% {\n",
              "      border-color: transparent;\n",
              "      border-right-color: var(--fill-color);\n",
              "      border-top-color: var(--fill-color);\n",
              "    }\n",
              "    60% {\n",
              "      border-color: transparent;\n",
              "      border-right-color: var(--fill-color);\n",
              "    }\n",
              "    80% {\n",
              "      border-color: transparent;\n",
              "      border-right-color: var(--fill-color);\n",
              "      border-bottom-color: var(--fill-color);\n",
              "    }\n",
              "    90% {\n",
              "      border-color: transparent;\n",
              "      border-bottom-color: var(--fill-color);\n",
              "    }\n",
              "  }\n",
              "</style>\n",
              "\n",
              "      <script>\n",
              "        async function quickchart(key) {\n",
              "          const quickchartButtonEl =\n",
              "            document.querySelector('#' + key + ' button');\n",
              "          quickchartButtonEl.disabled = true;  // To prevent multiple clicks.\n",
              "          quickchartButtonEl.classList.add('colab-df-spinner');\n",
              "          try {\n",
              "            const charts = await google.colab.kernel.invokeFunction(\n",
              "                'suggestCharts', [key], {});\n",
              "          } catch (error) {\n",
              "            console.error('Error during call to suggestCharts:', error);\n",
              "          }\n",
              "          quickchartButtonEl.classList.remove('colab-df-spinner');\n",
              "          quickchartButtonEl.classList.add('colab-df-quickchart-complete');\n",
              "        }\n",
              "        (() => {\n",
              "          let quickchartButtonEl =\n",
              "            document.querySelector('#df-327309f9-c192-49c4-9cbc-c181b9ae1608 button');\n",
              "          quickchartButtonEl.style.display =\n",
              "            google.colab.kernel.accessAllowed ? 'block' : 'none';\n",
              "        })();\n",
              "      </script>\n",
              "    </div>\n",
              "\n",
              "    </div>\n",
              "  </div>\n"
            ],
            "application/vnd.google.colaboratory.intrinsic+json": {
              "type": "dataframe",
              "variable_name": "df"
            }
          },
          "metadata": {},
          "execution_count": 447
        }
      ]
    },
    {
      "cell_type": "code",
      "source": [
        "df.info()"
      ],
      "metadata": {
        "colab": {
          "base_uri": "https://localhost:8080/"
        },
        "id": "ljMjpohX016Z",
        "outputId": "c942d3eb-5de8-4b37-8abd-f8c30595b7a3"
      },
      "execution_count": 448,
      "outputs": [
        {
          "output_type": "stream",
          "name": "stdout",
          "text": [
            "<class 'pandas.core.frame.DataFrame'>\n",
            "RangeIndex: 2460 entries, 0 to 2459\n",
            "Columns: 114 entries, ID to Q11: day\n",
            "dtypes: int64(1), object(113)\n",
            "memory usage: 2.1+ MB\n"
          ]
        }
      ]
    },
    {
      "cell_type": "code",
      "source": [
        "df.shape"
      ],
      "metadata": {
        "colab": {
          "base_uri": "https://localhost:8080/"
        },
        "id": "sicIgXlO7yrG",
        "outputId": "2946dccc-b32a-42bc-a62e-8bbc9aa9fc71"
      },
      "execution_count": 449,
      "outputs": [
        {
          "output_type": "execute_result",
          "data": {
            "text/plain": [
              "(2460, 114)"
            ]
          },
          "metadata": {},
          "execution_count": 449
        }
      ]
    },
    {
      "cell_type": "code",
      "source": [
        "df.duplicated().sum()"
      ],
      "metadata": {
        "colab": {
          "base_uri": "https://localhost:8080/"
        },
        "id": "ieGcArmkazHK",
        "outputId": "ea81bf86-4883-43fd-89cd-21d7a089e31e"
      },
      "execution_count": 450,
      "outputs": [
        {
          "output_type": "execute_result",
          "data": {
            "text/plain": [
              "np.int64(0)"
            ]
          },
          "metadata": {},
          "execution_count": 450
        }
      ]
    },
    {
      "cell_type": "code",
      "source": [
        "df['ID'].duplicated().sum()"
      ],
      "metadata": {
        "colab": {
          "base_uri": "https://localhost:8080/"
        },
        "id": "CdzVXEV-atgy",
        "outputId": "18f1d0ac-3bb6-4b98-85a6-cc5f9023dc65"
      },
      "execution_count": 451,
      "outputs": [
        {
          "output_type": "execute_result",
          "data": {
            "text/plain": [
              "np.int64(0)"
            ]
          },
          "metadata": {},
          "execution_count": 451
        }
      ]
    },
    {
      "cell_type": "code",
      "source": [
        "columns= [col for col in df.columns if col != 'ID']\n",
        "\n",
        "len(df[df[columns].isna().all(axis=1) & df['ID'].notna()])"
      ],
      "metadata": {
        "colab": {
          "base_uri": "https://localhost:8080/"
        },
        "id": "NYR0RsukctVE",
        "outputId": "44ab70cc-bc2c-4458-925e-06eef39a38d2"
      },
      "execution_count": 452,
      "outputs": [
        {
          "output_type": "execute_result",
          "data": {
            "text/plain": [
              "21"
            ]
          },
          "metadata": {},
          "execution_count": 452
        }
      ]
    },
    {
      "cell_type": "code",
      "source": [
        "df=df.drop(df[df[columns].isna().all(axis=1) & df['ID'].notna()].index)"
      ],
      "metadata": {
        "id": "ZxDSjjvvdro-"
      },
      "execution_count": 453,
      "outputs": []
    },
    {
      "cell_type": "code",
      "source": [
        "df.shape"
      ],
      "metadata": {
        "colab": {
          "base_uri": "https://localhost:8080/"
        },
        "id": "P0AdXbpWd2dT",
        "outputId": "b1b5284d-3d9f-4bcf-801c-8661905da31e"
      },
      "execution_count": 454,
      "outputs": [
        {
          "output_type": "execute_result",
          "data": {
            "text/plain": [
              "(2439, 114)"
            ]
          },
          "metadata": {},
          "execution_count": 454
        }
      ]
    },
    {
      "cell_type": "code",
      "source": [
        "df=df.drop(columns=['ID'])"
      ],
      "metadata": {
        "id": "kfa9ZbF8cjjR"
      },
      "execution_count": 455,
      "outputs": []
    },
    {
      "cell_type": "code",
      "source": [
        "df.duplicated().sum()"
      ],
      "metadata": {
        "colab": {
          "base_uri": "https://localhost:8080/"
        },
        "id": "a95yI0nZbpti",
        "outputId": "dc59fe89-6174-4065-f707-8b260353cde0"
      },
      "execution_count": 456,
      "outputs": [
        {
          "output_type": "execute_result",
          "data": {
            "text/plain": [
              "np.int64(18)"
            ]
          },
          "metadata": {},
          "execution_count": 456
        }
      ]
    },
    {
      "cell_type": "code",
      "source": [
        "df['Q1: going out?'].unique()"
      ],
      "metadata": {
        "colab": {
          "base_uri": "https://localhost:8080/"
        },
        "id": "6CPif1Ap75GS",
        "outputId": "9ede1bab-7f19-4fb7-b91d-d36b9df5278d"
      },
      "execution_count": 457,
      "outputs": [
        {
          "output_type": "execute_result",
          "data": {
            "text/plain": [
              "array(['No', nan, 'Yes'], dtype=object)"
            ]
          },
          "metadata": {},
          "execution_count": 457
        }
      ]
    },
    {
      "cell_type": "code",
      "source": [
        "df['Q1: going out?'].dtype"
      ],
      "metadata": {
        "colab": {
          "base_uri": "https://localhost:8080/"
        },
        "id": "6B36HthoArbr",
        "outputId": "404c4891-6a35-4bfb-faf3-df3d38f64a06"
      },
      "execution_count": 458,
      "outputs": [
        {
          "output_type": "execute_result",
          "data": {
            "text/plain": [
              "dtype('O')"
            ]
          },
          "metadata": {},
          "execution_count": 458
        }
      ]
    },
    {
      "cell_type": "code",
      "source": [
        "df['Q1: going out?'].isnull().sum()"
      ],
      "metadata": {
        "colab": {
          "base_uri": "https://localhost:8080/"
        },
        "id": "cYYXKsZSA-hG",
        "outputId": "dcbdf24b-412f-4d11-d119-cc96e14c743f"
      },
      "execution_count": 459,
      "outputs": [
        {
          "output_type": "execute_result",
          "data": {
            "text/plain": [
              "np.int64(89)"
            ]
          },
          "metadata": {},
          "execution_count": 459
        }
      ]
    },
    {
      "cell_type": "code",
      "source": [
        "df['Q1: going out?'].value_counts()"
      ],
      "metadata": {
        "colab": {
          "base_uri": "https://localhost:8080/",
          "height": 178
        },
        "id": "QXFBluzxBKeb",
        "outputId": "b41eafc1-a22f-47e2-82f7-532a985164a8"
      },
      "execution_count": 460,
      "outputs": [
        {
          "output_type": "execute_result",
          "data": {
            "text/plain": [
              "Q1: going out?\n",
              "No     2038\n",
              "Yes     312\n",
              "Name: count, dtype: int64"
            ],
            "text/html": [
              "<div>\n",
              "<style scoped>\n",
              "    .dataframe tbody tr th:only-of-type {\n",
              "        vertical-align: middle;\n",
              "    }\n",
              "\n",
              "    .dataframe tbody tr th {\n",
              "        vertical-align: top;\n",
              "    }\n",
              "\n",
              "    .dataframe thead th {\n",
              "        text-align: right;\n",
              "    }\n",
              "</style>\n",
              "<table border=\"1\" class=\"dataframe\">\n",
              "  <thead>\n",
              "    <tr style=\"text-align: right;\">\n",
              "      <th></th>\n",
              "      <th>count</th>\n",
              "    </tr>\n",
              "    <tr>\n",
              "      <th>Q1: going out?</th>\n",
              "      <th></th>\n",
              "    </tr>\n",
              "  </thead>\n",
              "  <tbody>\n",
              "    <tr>\n",
              "      <th>No</th>\n",
              "      <td>2038</td>\n",
              "    </tr>\n",
              "    <tr>\n",
              "      <th>Yes</th>\n",
              "      <td>312</td>\n",
              "    </tr>\n",
              "  </tbody>\n",
              "</table>\n",
              "</div><br><label><b>dtype:</b> int64</label>"
            ]
          },
          "metadata": {},
          "execution_count": 460
        }
      ]
    },
    {
      "cell_type": "code",
      "source": [
        "df['Q1: going out?'].replace(np.nan,'Unknown',inplace=True)"
      ],
      "metadata": {
        "colab": {
          "base_uri": "https://localhost:8080/"
        },
        "id": "jcnxN1w_BiB-",
        "outputId": "32e695d8-161a-493c-d827-848051b50d58"
      },
      "execution_count": 461,
      "outputs": [
        {
          "output_type": "stream",
          "name": "stderr",
          "text": [
            "/tmp/ipython-input-461-2642988228.py:1: FutureWarning: A value is trying to be set on a copy of a DataFrame or Series through chained assignment using an inplace method.\n",
            "The behavior will change in pandas 3.0. This inplace method will never work because the intermediate object on which we are setting values always behaves as a copy.\n",
            "\n",
            "For example, when doing 'df[col].method(value, inplace=True)', try using 'df.method({col: value}, inplace=True)' or df[col] = df[col].method(value) instead, to perform the operation inplace on the original object.\n",
            "\n",
            "\n",
            "  df['Q1: going out?'].replace(np.nan,'Unknown',inplace=True)\n"
          ]
        }
      ]
    },
    {
      "cell_type": "code",
      "source": [
        "df['Q1: going out?'].value_counts()"
      ],
      "metadata": {
        "colab": {
          "base_uri": "https://localhost:8080/",
          "height": 209
        },
        "id": "3wPDGiZJChyb",
        "outputId": "7f2f9c44-ff4e-4a29-9339-22c0f64d49ae"
      },
      "execution_count": 462,
      "outputs": [
        {
          "output_type": "execute_result",
          "data": {
            "text/plain": [
              "Q1: going out?\n",
              "No         2038\n",
              "Yes         312\n",
              "Unknown      89\n",
              "Name: count, dtype: int64"
            ],
            "text/html": [
              "<div>\n",
              "<style scoped>\n",
              "    .dataframe tbody tr th:only-of-type {\n",
              "        vertical-align: middle;\n",
              "    }\n",
              "\n",
              "    .dataframe tbody tr th {\n",
              "        vertical-align: top;\n",
              "    }\n",
              "\n",
              "    .dataframe thead th {\n",
              "        text-align: right;\n",
              "    }\n",
              "</style>\n",
              "<table border=\"1\" class=\"dataframe\">\n",
              "  <thead>\n",
              "    <tr style=\"text-align: right;\">\n",
              "      <th></th>\n",
              "      <th>count</th>\n",
              "    </tr>\n",
              "    <tr>\n",
              "      <th>Q1: going out?</th>\n",
              "      <th></th>\n",
              "    </tr>\n",
              "  </thead>\n",
              "  <tbody>\n",
              "    <tr>\n",
              "      <th>No</th>\n",
              "      <td>2038</td>\n",
              "    </tr>\n",
              "    <tr>\n",
              "      <th>Yes</th>\n",
              "      <td>312</td>\n",
              "    </tr>\n",
              "    <tr>\n",
              "      <th>Unknown</th>\n",
              "      <td>89</td>\n",
              "    </tr>\n",
              "  </tbody>\n",
              "</table>\n",
              "</div><br><label><b>dtype:</b> int64</label>"
            ]
          },
          "metadata": {},
          "execution_count": 462
        }
      ]
    },
    {
      "cell_type": "code",
      "source": [
        "df['Q2: gender'].value_counts()"
      ],
      "metadata": {
        "colab": {
          "base_uri": "https://localhost:8080/",
          "height": 241
        },
        "id": "qGIzE_GBBrsX",
        "outputId": "460d9a7d-25f6-4a48-daf9-0ea6796a0f9b"
      },
      "execution_count": 463,
      "outputs": [
        {
          "output_type": "execute_result",
          "data": {
            "text/plain": [
              "Q2: gender\n",
              "Male                  1467\n",
              "Female                 839\n",
              "I'd rather not say      83\n",
              "Other                   30\n",
              "Name: count, dtype: int64"
            ],
            "text/html": [
              "<div>\n",
              "<style scoped>\n",
              "    .dataframe tbody tr th:only-of-type {\n",
              "        vertical-align: middle;\n",
              "    }\n",
              "\n",
              "    .dataframe tbody tr th {\n",
              "        vertical-align: top;\n",
              "    }\n",
              "\n",
              "    .dataframe thead th {\n",
              "        text-align: right;\n",
              "    }\n",
              "</style>\n",
              "<table border=\"1\" class=\"dataframe\">\n",
              "  <thead>\n",
              "    <tr style=\"text-align: right;\">\n",
              "      <th></th>\n",
              "      <th>count</th>\n",
              "    </tr>\n",
              "    <tr>\n",
              "      <th>Q2: gender</th>\n",
              "      <th></th>\n",
              "    </tr>\n",
              "  </thead>\n",
              "  <tbody>\n",
              "    <tr>\n",
              "      <th>Male</th>\n",
              "      <td>1467</td>\n",
              "    </tr>\n",
              "    <tr>\n",
              "      <th>Female</th>\n",
              "      <td>839</td>\n",
              "    </tr>\n",
              "    <tr>\n",
              "      <th>I'd rather not say</th>\n",
              "      <td>83</td>\n",
              "    </tr>\n",
              "    <tr>\n",
              "      <th>Other</th>\n",
              "      <td>30</td>\n",
              "    </tr>\n",
              "  </tbody>\n",
              "</table>\n",
              "</div><br><label><b>dtype:</b> int64</label>"
            ]
          },
          "metadata": {},
          "execution_count": 463
        }
      ]
    },
    {
      "cell_type": "code",
      "source": [
        "df['Q2: gender'].isnull().sum()"
      ],
      "metadata": {
        "colab": {
          "base_uri": "https://localhost:8080/"
        },
        "id": "NUqENKFQB4dN",
        "outputId": "c1a44bc4-5a77-40a2-ffa3-76764217afd4"
      },
      "execution_count": 464,
      "outputs": [
        {
          "output_type": "execute_result",
          "data": {
            "text/plain": [
              "np.int64(20)"
            ]
          },
          "metadata": {},
          "execution_count": 464
        }
      ]
    },
    {
      "cell_type": "code",
      "source": [
        "df['Q2: gender'].replace(np.nan,\"I'd rather not say\",inplace=True)"
      ],
      "metadata": {
        "colab": {
          "base_uri": "https://localhost:8080/"
        },
        "id": "PJUlt_3vB8_y",
        "outputId": "c21d1d30-f06f-41c1-f2e0-6e2564abb3e7"
      },
      "execution_count": 465,
      "outputs": [
        {
          "output_type": "stream",
          "name": "stderr",
          "text": [
            "/tmp/ipython-input-465-2565006767.py:1: FutureWarning: A value is trying to be set on a copy of a DataFrame or Series through chained assignment using an inplace method.\n",
            "The behavior will change in pandas 3.0. This inplace method will never work because the intermediate object on which we are setting values always behaves as a copy.\n",
            "\n",
            "For example, when doing 'df[col].method(value, inplace=True)', try using 'df.method({col: value}, inplace=True)' or df[col] = df[col].method(value) instead, to perform the operation inplace on the original object.\n",
            "\n",
            "\n",
            "  df['Q2: gender'].replace(np.nan,\"I'd rather not say\",inplace=True)\n"
          ]
        }
      ]
    },
    {
      "cell_type": "code",
      "source": [
        "df['Q2: gender'].value_counts()"
      ],
      "metadata": {
        "colab": {
          "base_uri": "https://localhost:8080/",
          "height": 241
        },
        "id": "_qlztOVaCV6N",
        "outputId": "6e6c342d-79d9-4023-cd25-42ec87f49b00"
      },
      "execution_count": 466,
      "outputs": [
        {
          "output_type": "execute_result",
          "data": {
            "text/plain": [
              "Q2: gender\n",
              "Male                  1467\n",
              "Female                 839\n",
              "I'd rather not say     103\n",
              "Other                   30\n",
              "Name: count, dtype: int64"
            ],
            "text/html": [
              "<div>\n",
              "<style scoped>\n",
              "    .dataframe tbody tr th:only-of-type {\n",
              "        vertical-align: middle;\n",
              "    }\n",
              "\n",
              "    .dataframe tbody tr th {\n",
              "        vertical-align: top;\n",
              "    }\n",
              "\n",
              "    .dataframe thead th {\n",
              "        text-align: right;\n",
              "    }\n",
              "</style>\n",
              "<table border=\"1\" class=\"dataframe\">\n",
              "  <thead>\n",
              "    <tr style=\"text-align: right;\">\n",
              "      <th></th>\n",
              "      <th>count</th>\n",
              "    </tr>\n",
              "    <tr>\n",
              "      <th>Q2: gender</th>\n",
              "      <th></th>\n",
              "    </tr>\n",
              "  </thead>\n",
              "  <tbody>\n",
              "    <tr>\n",
              "      <th>Male</th>\n",
              "      <td>1467</td>\n",
              "    </tr>\n",
              "    <tr>\n",
              "      <th>Female</th>\n",
              "      <td>839</td>\n",
              "    </tr>\n",
              "    <tr>\n",
              "      <th>I'd rather not say</th>\n",
              "      <td>103</td>\n",
              "    </tr>\n",
              "    <tr>\n",
              "      <th>Other</th>\n",
              "      <td>30</td>\n",
              "    </tr>\n",
              "  </tbody>\n",
              "</table>\n",
              "</div><br><label><b>dtype:</b> int64</label>"
            ]
          },
          "metadata": {},
          "execution_count": 466
        }
      ]
    },
    {
      "cell_type": "code",
      "source": [
        "df['Q2: gender'].replace('Other',\"I'd rather not say\",inplace=True)"
      ],
      "metadata": {
        "colab": {
          "base_uri": "https://localhost:8080/"
        },
        "id": "I_7aCKNFCZDF",
        "outputId": "16963d09-f597-4c31-b059-327a106d0b1b"
      },
      "execution_count": 467,
      "outputs": [
        {
          "output_type": "stream",
          "name": "stderr",
          "text": [
            "/tmp/ipython-input-467-2551116041.py:1: FutureWarning: A value is trying to be set on a copy of a DataFrame or Series through chained assignment using an inplace method.\n",
            "The behavior will change in pandas 3.0. This inplace method will never work because the intermediate object on which we are setting values always behaves as a copy.\n",
            "\n",
            "For example, when doing 'df[col].method(value, inplace=True)', try using 'df.method({col: value}, inplace=True)' or df[col] = df[col].method(value) instead, to perform the operation inplace on the original object.\n",
            "\n",
            "\n",
            "  df['Q2: gender'].replace('Other',\"I'd rather not say\",inplace=True)\n"
          ]
        }
      ]
    },
    {
      "cell_type": "code",
      "source": [
        "df['Q2: gender'].value_counts()"
      ],
      "metadata": {
        "colab": {
          "base_uri": "https://localhost:8080/",
          "height": 209
        },
        "id": "Mq0QABYbDO75",
        "outputId": "6309f7f4-e907-4cc3-95d5-599f382df681"
      },
      "execution_count": 468,
      "outputs": [
        {
          "output_type": "execute_result",
          "data": {
            "text/plain": [
              "Q2: gender\n",
              "Male                  1467\n",
              "Female                 839\n",
              "I'd rather not say     133\n",
              "Name: count, dtype: int64"
            ],
            "text/html": [
              "<div>\n",
              "<style scoped>\n",
              "    .dataframe tbody tr th:only-of-type {\n",
              "        vertical-align: middle;\n",
              "    }\n",
              "\n",
              "    .dataframe tbody tr th {\n",
              "        vertical-align: top;\n",
              "    }\n",
              "\n",
              "    .dataframe thead th {\n",
              "        text-align: right;\n",
              "    }\n",
              "</style>\n",
              "<table border=\"1\" class=\"dataframe\">\n",
              "  <thead>\n",
              "    <tr style=\"text-align: right;\">\n",
              "      <th></th>\n",
              "      <th>count</th>\n",
              "    </tr>\n",
              "    <tr>\n",
              "      <th>Q2: gender</th>\n",
              "      <th></th>\n",
              "    </tr>\n",
              "  </thead>\n",
              "  <tbody>\n",
              "    <tr>\n",
              "      <th>Male</th>\n",
              "      <td>1467</td>\n",
              "    </tr>\n",
              "    <tr>\n",
              "      <th>Female</th>\n",
              "      <td>839</td>\n",
              "    </tr>\n",
              "    <tr>\n",
              "      <th>I'd rather not say</th>\n",
              "      <td>133</td>\n",
              "    </tr>\n",
              "  </tbody>\n",
              "</table>\n",
              "</div><br><label><b>dtype:</b> int64</label>"
            ]
          },
          "metadata": {},
          "execution_count": 468
        }
      ]
    },
    {
      "cell_type": "code",
      "source": [
        "df['Q3: age'].isnull().sum()"
      ],
      "metadata": {
        "colab": {
          "base_uri": "https://localhost:8080/"
        },
        "id": "l7ELmMvtDRqs",
        "outputId": "75045fde-38f3-4a4c-a740-856b74ca8ffd"
      },
      "execution_count": 469,
      "outputs": [
        {
          "output_type": "execute_result",
          "data": {
            "text/plain": [
              "np.int64(63)"
            ]
          },
          "metadata": {},
          "execution_count": 469
        }
      ]
    },
    {
      "cell_type": "code",
      "source": [
        "df['Q3: age'].dtype"
      ],
      "metadata": {
        "colab": {
          "base_uri": "https://localhost:8080/"
        },
        "id": "rQxD3KDDDaxm",
        "outputId": "7b129e0f-6f56-4f6d-ab89-d55d21264bbd"
      },
      "execution_count": 470,
      "outputs": [
        {
          "output_type": "execute_result",
          "data": {
            "text/plain": [
              "dtype('O')"
            ]
          },
          "metadata": {},
          "execution_count": 470
        }
      ]
    },
    {
      "cell_type": "code",
      "source": [
        "df['Q3: age'].value_counts()"
      ],
      "metadata": {
        "colab": {
          "base_uri": "https://localhost:8080/",
          "height": 489
        },
        "id": "_baK2-KlDz2i",
        "outputId": "71f2887a-8e8c-42d8-a33f-eecc133ef58d"
      },
      "execution_count": 471,
      "outputs": [
        {
          "output_type": "execute_result",
          "data": {
            "text/plain": [
              "Q3: age\n",
              "40                                                  92\n",
              "34                                                  90\n",
              "37                                                  89\n",
              "43                                                  86\n",
              "36                                                  79\n",
              "                                                    ..\n",
              "59 on the day after Halloween                        1\n",
              "old enough                                           1\n",
              "your mom                                             1\n",
              "I can remember when Java was a cool new language     1\n",
              "60+                                                  1\n",
              "Name: count, Length: 106, dtype: int64"
            ],
            "text/html": [
              "<div>\n",
              "<style scoped>\n",
              "    .dataframe tbody tr th:only-of-type {\n",
              "        vertical-align: middle;\n",
              "    }\n",
              "\n",
              "    .dataframe tbody tr th {\n",
              "        vertical-align: top;\n",
              "    }\n",
              "\n",
              "    .dataframe thead th {\n",
              "        text-align: right;\n",
              "    }\n",
              "</style>\n",
              "<table border=\"1\" class=\"dataframe\">\n",
              "  <thead>\n",
              "    <tr style=\"text-align: right;\">\n",
              "      <th></th>\n",
              "      <th>count</th>\n",
              "    </tr>\n",
              "    <tr>\n",
              "      <th>Q3: age</th>\n",
              "      <th></th>\n",
              "    </tr>\n",
              "  </thead>\n",
              "  <tbody>\n",
              "    <tr>\n",
              "      <th>40</th>\n",
              "      <td>92</td>\n",
              "    </tr>\n",
              "    <tr>\n",
              "      <th>34</th>\n",
              "      <td>90</td>\n",
              "    </tr>\n",
              "    <tr>\n",
              "      <th>37</th>\n",
              "      <td>89</td>\n",
              "    </tr>\n",
              "    <tr>\n",
              "      <th>43</th>\n",
              "      <td>86</td>\n",
              "    </tr>\n",
              "    <tr>\n",
              "      <th>36</th>\n",
              "      <td>79</td>\n",
              "    </tr>\n",
              "    <tr>\n",
              "      <th>...</th>\n",
              "      <td>...</td>\n",
              "    </tr>\n",
              "    <tr>\n",
              "      <th>59 on the day after Halloween</th>\n",
              "      <td>1</td>\n",
              "    </tr>\n",
              "    <tr>\n",
              "      <th>old enough</th>\n",
              "      <td>1</td>\n",
              "    </tr>\n",
              "    <tr>\n",
              "      <th>your mom</th>\n",
              "      <td>1</td>\n",
              "    </tr>\n",
              "    <tr>\n",
              "      <th>I can remember when Java was a cool new language</th>\n",
              "      <td>1</td>\n",
              "    </tr>\n",
              "    <tr>\n",
              "      <th>60+</th>\n",
              "      <td>1</td>\n",
              "    </tr>\n",
              "  </tbody>\n",
              "</table>\n",
              "<p>106 rows × 1 columns</p>\n",
              "</div><br><label><b>dtype:</b> int64</label>"
            ]
          },
          "metadata": {},
          "execution_count": 471
        }
      ]
    },
    {
      "cell_type": "code",
      "source": [
        "df['Q3: age'].unique()"
      ],
      "metadata": {
        "colab": {
          "base_uri": "https://localhost:8080/"
        },
        "id": "bH_vouYdEFJm",
        "outputId": "71873c24-86bc-49ab-db16-8f2ffeaef251"
      },
      "execution_count": 472,
      "outputs": [
        {
          "output_type": "execute_result",
          "data": {
            "text/plain": [
              "array([44, 49, 40, 23, nan, 53, 33, 43, 56, 64, 37, 59, 48, 54, 36, 45,\n",
              "       25, 34, 35, 38, 58, 50, 47, 16, 52, 63, 65, 41, 27, 31, 61, 46, 42,\n",
              "       62, 29, 39, 32, 28, 69, 67, 30, 22, 26, 51, 70, 24, 18, 19,\n",
              "       'Old enough', 57, 60, 66, 12, 'Many', 55, 72, '?', 21, 11, 'no', 9,\n",
              "       68, 20, 6, 10, 71, 90, 13, '45-55', 312, 99, 7, 'hahahahaha', 88,\n",
              "       '39.4', 74, 102, 'older than dirt', 17, 15, 8, 75, '5u', 'Enough',\n",
              "       'See question 2', '24-50', 14, 'Over 50', 100, 76, 1000,\n",
              "       'sixty-nine', '46 Halloweens.', 'ancient', 77, 'OLD', 'old', 73,\n",
              "       '70 1/2', 1, 'MY NAME JEFF', 4, '59 on the day after Halloween',\n",
              "       'old enough', 'your mom',\n",
              "       'I can remember when Java was a cool new language', '60+'],\n",
              "      dtype=object)"
            ]
          },
          "metadata": {},
          "execution_count": 472
        }
      ]
    },
    {
      "cell_type": "code",
      "source": [
        "def clean_age(age):\n",
        "    if pd.isna(age):\n",
        "        return np.nan\n",
        "    age = str(age).strip().lower()\n",
        "    words = age.split()\n",
        "    for word in words:\n",
        "        if word.isdigit():\n",
        "            return int(word)\n",
        "        else:\n",
        "            return np.nan\n",
        "    if age == \"60+\":\n",
        "        return 60\n",
        "    elif age in [\"old enough\", \"Enough\"]:\n",
        "        return np.nan\n",
        "    elif '-' in age:\n",
        "        numbers = [int(x) for x in age.split('-') if x.isdigit()]\n",
        "        if len(numbers) == 2:\n",
        "            return (numbers[0] + numbers[1]) // 2\n",
        "    else:\n",
        "        return np.nan"
      ],
      "metadata": {
        "id": "crVt36iJEalu"
      },
      "execution_count": 473,
      "outputs": []
    },
    {
      "cell_type": "code",
      "source": [
        "df['Q3: age'] = df['Q3: age'].apply(clean_age)"
      ],
      "metadata": {
        "id": "-AItexglHNhM"
      },
      "execution_count": 474,
      "outputs": []
    },
    {
      "cell_type": "code",
      "source": [
        "df['Q3: age'] = pd.to_numeric(df['Q3: age'], errors='coerce')"
      ],
      "metadata": {
        "id": "PM_AyrqnHR_b"
      },
      "execution_count": 475,
      "outputs": []
    },
    {
      "cell_type": "code",
      "source": [
        "df['Q3: age'].unique()"
      ],
      "metadata": {
        "colab": {
          "base_uri": "https://localhost:8080/"
        },
        "id": "SdlJv183HV_u",
        "outputId": "0bf91f2c-6e4d-4c51-b7fb-6ed41997cfd6"
      },
      "execution_count": 476,
      "outputs": [
        {
          "output_type": "execute_result",
          "data": {
            "text/plain": [
              "array([  44.,   49.,   40.,   23.,   nan,   53.,   33.,   43.,   56.,\n",
              "         64.,   37.,   59.,   48.,   54.,   36.,   45.,   25.,   34.,\n",
              "         35.,   38.,   58.,   50.,   47.,   16.,   52.,   63.,   65.,\n",
              "         41.,   27.,   31.,   61.,   46.,   42.,   62.,   29.,   39.,\n",
              "         32.,   28.,   69.,   67.,   30.,   22.,   26.,   51.,   70.,\n",
              "         24.,   18.,   19.,   57.,   60.,   66.,   12.,   55.,   72.,\n",
              "         21.,   11.,    9.,   68.,   20.,    6.,   10.,   71.,   90.,\n",
              "         13.,  312.,   99.,    7.,   88.,   74.,  102.,   17.,   15.,\n",
              "          8.,   75.,   14.,  100.,   76., 1000.,   77.,   73.,    1.,\n",
              "          4.])"
            ]
          },
          "metadata": {},
          "execution_count": 476
        }
      ]
    },
    {
      "cell_type": "code",
      "source": [
        "df['Q3: age'].isnull().sum()"
      ],
      "metadata": {
        "colab": {
          "base_uri": "https://localhost:8080/"
        },
        "id": "TDZzBPPnIFi0",
        "outputId": "2c7d0b12-0b30-430a-8bca-061f5a6eedd1"
      },
      "execution_count": 477,
      "outputs": [
        {
          "output_type": "execute_result",
          "data": {
            "text/plain": [
              "np.int64(86)"
            ]
          },
          "metadata": {},
          "execution_count": 477
        }
      ]
    },
    {
      "cell_type": "code",
      "source": [
        "df['Q3: age']=df['Q3: age'].apply(lambda x: np.nan if x>90 else x).astype('Int64')\n",
        "df['Q3: age'].unique()"
      ],
      "metadata": {
        "colab": {
          "base_uri": "https://localhost:8080/"
        },
        "id": "0jW4hxCmZ6gb",
        "outputId": "c6543e62-3365-47d3-97f0-6243891a7b9a"
      },
      "execution_count": 478,
      "outputs": [
        {
          "output_type": "execute_result",
          "data": {
            "text/plain": [
              "<IntegerArray>\n",
              "[  44,   49,   40,   23, <NA>,   53,   33,   43,   56,   64,   37,   59,   48,\n",
              "   54,   36,   45,   25,   34,   35,   38,   58,   50,   47,   16,   52,   63,\n",
              "   65,   41,   27,   31,   61,   46,   42,   62,   29,   39,   32,   28,   69,\n",
              "   67,   30,   22,   26,   51,   70,   24,   18,   19,   57,   60,   66,   12,\n",
              "   55,   72,   21,   11,    9,   68,   20,    6,   10,   71,   90,   13,    7,\n",
              "   88,   74,   17,   15,    8,   75,   14,   76,   77,   73,    1,    4]\n",
              "Length: 77, dtype: Int64"
            ]
          },
          "metadata": {},
          "execution_count": 478
        }
      ]
    },
    {
      "cell_type": "code",
      "source": [
        "df['Q3: age'].isnull().sum()"
      ],
      "metadata": {
        "colab": {
          "base_uri": "https://localhost:8080/"
        },
        "id": "sU0iwHF8brVm",
        "outputId": "9d55dffe-cb93-408a-c82d-a79ae6ee65a1"
      },
      "execution_count": 479,
      "outputs": [
        {
          "output_type": "execute_result",
          "data": {
            "text/plain": [
              "np.int64(92)"
            ]
          },
          "metadata": {},
          "execution_count": 479
        }
      ]
    },
    {
      "cell_type": "code",
      "source": [
        "df['Q4: country'].unique()"
      ],
      "metadata": {
        "colab": {
          "base_uri": "https://localhost:8080/"
        },
        "id": "12wCb7h9IL2R",
        "outputId": "f35e021d-5331-4925-826c-ce35239b1c74"
      },
      "execution_count": 480,
      "outputs": [
        {
          "output_type": "execute_result",
          "data": {
            "text/plain": [
              "array(['USA', 'us', 'usa', nan, 'canada', 'Canada', 'Us', 'US', 'Murica',\n",
              "       'United States', 'uk', 'United Kingdom', 'united states', 'Usa',\n",
              "       'United staes', 'United States of America', 'UAE', 'England', 'UK',\n",
              "       'Mexico', 'United states', 'u.s.a.', 'USAUSAUSA', 'america', 35,\n",
              "       'france', 'U.S.A.', 'finland', 'unhinged states',\n",
              "       'united states of america', 'US of A', 'Unites States',\n",
              "       'The United States', 'North Carolina', 'Unied States',\n",
              "       'Netherlands', 'germany', 'Europe', 'Earth', 'U S', 'u.s.', 'U.K.',\n",
              "       'Costa Rica', 'The United States of America', 'unite states',\n",
              "       'U.S.', 46, 'cascadia', 'Australia', 'insanity lately', 'Greece',\n",
              "       'USA? Hard to tell anymore..', 'merica', 'usas', 'Pittsburgh', 45,\n",
              "       'United State', 32, 'France', 'australia', 'A', 'Can', 'Canae',\n",
              "       'New York', 'Trumpistan', 'Ireland', 'United Sates', 'Korea',\n",
              "       'California', 'Japan', 'USa', 'South africa',\n",
              "       'I pretend to be from Canada, but I am really from the United States.',\n",
              "       'Uk', 'Iceland', 'Germany', 'Canada`', 'Scotland', 'Denmark',\n",
              "       'United Stated', 'Switzerland', 'Ahem....Amerca', 'UD',\n",
              "       'South Korea', 'New Jersey', 'CANADA', 'Indonesia',\n",
              "       'United ststes', 'America', 'The Netherlands', 'United Statss',\n",
              "       'endland', 'Atlantis', 'murrika', 'USA! USA! USA!', 'USAA',\n",
              "       'Alaska', 'united States', 'soviet canuckistan', 'N. America',\n",
              "       'Singapore', 'USSA', 'China', 'Taiwan', 'hong kong', 'spain',\n",
              "       'Sweden', 'Hong Kong', 'Narnia', 'u s a', 'United Statea',\n",
              "       'united ststes', 1, 'subscribe to dm4uz3 on youtube',\n",
              "       'United kingdom', 'USA USA USA!!!!', \"I don't know anymore\",\n",
              "       'Fear and Loathing'], dtype=object)"
            ]
          },
          "metadata": {},
          "execution_count": 480
        }
      ]
    },
    {
      "cell_type": "code",
      "source": [
        "country_mapping = {\n",
        "    'usa': 'United States', 'us': 'United States', 'united states': 'United States',\n",
        "    'murica': 'United States', 'u.s.': 'United States', 'united states of america': 'United States',\n",
        "    'unites states': 'United States', 'united staes': 'United States', 'u s': 'United States',\n",
        "    'america': 'United States', 'us of a': 'United States', 'u.s.a': 'United States',\n",
        "    'canada': 'Canada', 'canada ': 'Canada',\n",
        "    'france': 'France', 'franc': 'France',\n",
        "    'germany': 'Germany', 'germ': 'Germany',\n",
        "    'uk': 'United Kingdom', 'united kingdom': 'United Kingdom', 'england': 'United Kingdom',\n",
        "    'britain': 'United Kingdom', 'u.k.': 'United Kingdom',\n",
        "    'australia': 'Australia', 'austral': 'Australia',\n",
        "    'mexico': 'Mexico',\n",
        "    'italy': 'Italy',\n",
        "    'japan': 'Japan',\n",
        "    'korea': 'South Korea', 'south korea': 'South Korea',\n",
        "    'switzerland': 'Switzerland', 'swiss': 'Switzerland',\n",
        "    'denmark': 'Denmark',\n",
        "    'sweden': 'Sweden',\n",
        "    'finland': 'Finland',\n",
        "    'netherlands': 'Netherlands', 'holland': 'Netherlands',\n",
        "    'belgium': 'Belgium',\n",
        "    'austria': 'Austria',\n",
        "    'norway': 'Norway',\n",
        "    'spain': 'Spain',\n",
        "    'singapore': 'Singapore',\n",
        "    'hong kong': 'Hong Kong',\n",
        "    'new york': 'United States', 'california': 'United States', 'new jersey': 'United States',\n",
        "    'pittsburgh': 'United States', 'trumpistan': 'United States', 'cascadia': 'United States',\n",
        "}"
      ],
      "metadata": {
        "id": "nb58jlQJIVCn"
      },
      "execution_count": 481,
      "outputs": []
    },
    {
      "cell_type": "code",
      "source": [
        "df['Q4: country'] = df['Q4: country'].apply(\n",
        "    lambda x: country_mapping.get(str(x).strip().lower() if pd.notna(x) else np.nan, np.nan)\n",
        ")"
      ],
      "metadata": {
        "id": "8zkV09ZsPRsX"
      },
      "execution_count": 482,
      "outputs": []
    },
    {
      "cell_type": "code",
      "source": [
        "df['Q4: country'].unique()"
      ],
      "metadata": {
        "colab": {
          "base_uri": "https://localhost:8080/"
        },
        "id": "I7LYpVfbTBru",
        "outputId": "89d4dd98-2b7f-47c5-dc9d-c3f7c88f23ec"
      },
      "execution_count": 483,
      "outputs": [
        {
          "output_type": "execute_result",
          "data": {
            "text/plain": [
              "array(['United States', nan, 'Canada', 'United Kingdom', 'Mexico',\n",
              "       'France', 'Finland', 'Netherlands', 'Germany', 'Australia',\n",
              "       'South Korea', 'Japan', 'Denmark', 'Switzerland', 'Singapore',\n",
              "       'Hong Kong', 'Spain', 'Sweden'], dtype=object)"
            ]
          },
          "metadata": {},
          "execution_count": 483
        }
      ]
    },
    {
      "cell_type": "code",
      "source": [
        "df['Q4: country'].isnull().sum()"
      ],
      "metadata": {
        "colab": {
          "base_uri": "https://localhost:8080/"
        },
        "id": "Sk0g54gSTPR4",
        "outputId": "12de4c6a-7fcd-4feb-8a38-5e12667aa67f"
      },
      "execution_count": 484,
      "outputs": [
        {
          "output_type": "execute_result",
          "data": {
            "text/plain": [
              "np.int64(120)"
            ]
          },
          "metadata": {},
          "execution_count": 484
        }
      ]
    },
    {
      "cell_type": "code",
      "source": [
        "df['Q4: country'].replace(np.nan,'Unknown',inplace=True)"
      ],
      "metadata": {
        "colab": {
          "base_uri": "https://localhost:8080/"
        },
        "id": "44IMxjVMUfnS",
        "outputId": "e6d2ad45-ca1f-495a-f956-cd9c00ecdd08"
      },
      "execution_count": 485,
      "outputs": [
        {
          "output_type": "stream",
          "name": "stderr",
          "text": [
            "/tmp/ipython-input-485-3294763023.py:1: FutureWarning: A value is trying to be set on a copy of a DataFrame or Series through chained assignment using an inplace method.\n",
            "The behavior will change in pandas 3.0. This inplace method will never work because the intermediate object on which we are setting values always behaves as a copy.\n",
            "\n",
            "For example, when doing 'df[col].method(value, inplace=True)', try using 'df.method({col: value}, inplace=True)' or df[col] = df[col].method(value) instead, to perform the operation inplace on the original object.\n",
            "\n",
            "\n",
            "  df['Q4: country'].replace(np.nan,'Unknown',inplace=True)\n"
          ]
        }
      ]
    },
    {
      "cell_type": "code",
      "source": [
        "df['Q4: country'].unique()"
      ],
      "metadata": {
        "colab": {
          "base_uri": "https://localhost:8080/"
        },
        "id": "sfBoETD9UkyL",
        "outputId": "4bbe511d-5100-4f87-96c2-906457cd6fca"
      },
      "execution_count": 486,
      "outputs": [
        {
          "output_type": "execute_result",
          "data": {
            "text/plain": [
              "array(['United States', 'Unknown', 'Canada', 'United Kingdom', 'Mexico',\n",
              "       'France', 'Finland', 'Netherlands', 'Germany', 'Australia',\n",
              "       'South Korea', 'Japan', 'Denmark', 'Switzerland', 'Singapore',\n",
              "       'Hong Kong', 'Spain', 'Sweden'], dtype=object)"
            ]
          },
          "metadata": {},
          "execution_count": 486
        }
      ]
    },
    {
      "cell_type": "code",
      "source": [
        "df['Q5: state/province'].unique()"
      ],
      "metadata": {
        "colab": {
          "base_uri": "https://localhost:8080/"
        },
        "id": "X0LlHgXjTUXQ",
        "outputId": "39ac3bf7-8f9c-4dc2-9650-ff34e0dffd65"
      },
      "execution_count": 487,
      "outputs": [
        {
          "output_type": "execute_result",
          "data": {
            "text/plain": [
              "array(['NM', 'Virginia', 'or', 'exton pa', nan, 'Colorado', 'ontario',\n",
              "       'Ontario', 'Wa', 'Quebec', 'NY', 'California', 'Texas', 'NEW YORK',\n",
              "       'CO', 'IN', 'MN', 'aberdeenshire', 'Alberta', 'Wisconsin, 53705',\n",
              "       'RI', 'NC', 'Scotland', 'minnesota', 'Michigan', 'Florida',\n",
              "       'New Jersey', 'VA', 'Los Angeles, California', 'CA', 'New York',\n",
              "       'Chicago, Illinois', 'Nj', 'Wisconsin', 'Minnesota', 'London',\n",
              "       'mn', 'TEXAS', 'Illinois', 'District of Columbia', 'Washington',\n",
              "       'Massachusetts', 'OR', 'Montana', 'massachusetts', 'Abu Dhabi',\n",
              "       'TX', 'Arizona', 'Dc', 'yukon', 'Pennsylvania', 'MD', 'Ohio',\n",
              "       'OXFORDSHIRE', 'DC', 'Iowa', 'Mn', 'TN', 'BC', 'Maryland', 'MI',\n",
              "       'alaska', 'Ny', 'Colorado, Jefferson county ', 'Louisiana', 'pa',\n",
              "       'CO, Larimer County', 'Nebraska', 'Oregon', 'UT', 'ny', 'CDMX',\n",
              "       'north carolina', 'Tennessee', 'Knox county, Tennessee',\n",
              "       'New Mexico', 'Maine', 'maine', 'Virginia, Arlington', 'WA', 'MO',\n",
              "       'Mi', 'MA', 'Alaska', 'New York, NY', 'Il', 'PA', 'New Hampshire',\n",
              "       'Georgia', 'IL', 'Washington, Clark ', 'NE', 'Oklahoma', 'SC',\n",
              "       'mi', 'Nevada', 'va', 'vancouver, bc',\n",
              "       'Oregon - but will be in Washington for Halloween', 'Ri',\n",
              "       'Washington, King', 'Ca', 'wa', 'md', 'new york', 'Rhode island',\n",
              "       'VT, Chittenden', 'North Carolina', 'pennsylvania', 'PEnnsylvania',\n",
              "       'Alabama', 'GA', 'FL, Orange County', 'Nope', 'manitoba',\n",
              "       'colorado', 'california', 'South Carolina', 'Baja California',\n",
              "       'illinois', 'Santa Cruz County, California', 'MARYLAND', 'NJ',\n",
              "       'North Dakota', 'Pennsylvania, Montgomery County', 'Astoria NY',\n",
              "       'ca', 'Kansas', 'sk', 'Missouri', 'Oxfordshire',\n",
              "       'British Columbia', 'West Virginia', 'Harris County, Texas', 'USA',\n",
              "       'ohio', 'ma', 'nc', 'Bc', 'oregon', 'philadelphia', 'Kentucky',\n",
              "       'HI', 'South Holland', 'Derbyshire', 'hesse',\n",
              "       'Massachusetts, Plymouth county', 'hi', 'Co', 'Cali', 'vt',\n",
              "       'CA, Alameda', 'Utah', 'FL', 'Michigan, Shiawassee County',\n",
              "       'Newfoundland', 'Indiana', 'wisconsin', 'Idaho ada', 'La',\n",
              "       'America', 'Hawaii', 'California, Alameda', 'Az', 'VT', 'AZ',\n",
              "       'Sub Earth', 'North dakota', 'virginia', 'Ga',\n",
              "       'alameda county, california', 'Greater London', 'bc', 'nm', 'AB',\n",
              "       'WV, Kanawha County ', 'michigan', 'tx', 'Washington State',\n",
              "       'Sussex', 48, 'Washington, King County', 'San Jose', 'florida',\n",
              "       'Connecticut', 'Orlando, FL', 'ON', 'Saskatchewan', 'texas',\n",
              "       'newfoundland', 'mississippi', 'washington', 'Manitoba',\n",
              "       'Manchester', 'cascadia', 'in', 'rhode island', 'Pa', 'Ut',\n",
              "       'Sydney', 'CT', 'oblivion if things keep going this way',\n",
              "       'connecticut', 'Nunya, Bizness, USA', 'OH', 'Washington state',\n",
              "       'Oakland, California', 'Washington, Seattle, king',\n",
              "       'Ontario,  Canada', 'ri', 'phoenix, maricopa county, arizona',\n",
              "       'Merlin', 'NS', 'Washington state, Kitsap County', 'cailifornia',\n",
              "       'oakland,ca', 'QC', 'Pittsburgh pa', 'Issaquah, WA, King County ',\n",
              "       'Washington, seattle, king', 'Massachussets', 'Whatcom County, WA',\n",
              "       'Mt', 'NH', 'Michigin', 'Ma', 'KS', 'Oakland County, Michigan',\n",
              "       'Albeqrrta', 'Marne', 'Noord-Holland', 'Tennessee, Knox County',\n",
              "       'Henrico, VA', 'Washington State, King County, City of Seattle',\n",
              "       'Washington, DC', 'nyc', 'Brooklyn', 'qld',\n",
              "       'Santa Barbara co. California', 'Ky', 'New Orleans la',\n",
              "       'colorado, boulder', 'mo', 'COLORADO', 'Nh', 'Greater Manchester',\n",
              "       'Fife, Scotland', 'A', 'Kalamazoo County, MI', 'OREGON', 'Wi',\n",
              "       'wv', 'ulster county, NY', 'NJ, Gloucester', 'calif', 'Or', 'tn',\n",
              "       'MS', 'NB', 'Queens', 'Vermont', 'Kildare', 'ND', 'tennessee',\n",
              "       'Washington DC', 'Kings, New York ', 'Cook', 'Toronto, Ontario',\n",
              "       'Victoria', 'On', 'nova scotia', 'Tehama', 'suffolk county ny',\n",
              "       'Santa Clara County, California', 'louisiana', 'SD', 'Md',\n",
              "       'Missoure', 'IA', 'Colorado larimer county', 'Tokyo',\n",
              "       'New Mexico, USA', 'ont', 'Califor', 'Idaho', 'NV',\n",
              "       'Brooklyn, kings county ny', 'King County, Washington', 'WI',\n",
              "       'Washington, Island county', 'KwaZulu-Natal', 'Carver county, MN',\n",
              "       'DUTCHESS COUNTY NY', 'Wyoming', 'Bristol', 'british columbia',\n",
              "       'California, San Francisco', 'Glendora, Los Angeles, California',\n",
              "       'Edinburgh', 'Strathclyde', 'Lancasire', 'Ørbæk', 'pr', 'Idf',\n",
              "       'Zuid Holland', 'Osaka', 'Surrey', 'Northern ireland', 'Vaud',\n",
              "       'Nova Scotia', 'az', 'see question 2', 'Midlothian',\n",
              "       'Durham County, North Carolina', 'Missouri, Miller County',\n",
              "       'Glasgow', 'ct', 'Cuyahoga County, Ohio', 'Seoul', 'Canada',\n",
              "       'Kanagawa', 'The Shore', 'Devonshire', 'Tx.', 'maryland',\n",
              "       'PENNSYLVANIA', 'ONTARIO', 'Jakarta', 'kansas',\n",
              "       'Mannheim, Baden-Württemberg ', '|NC', 'Rotterdam', 'Ar',\n",
              "       'Arkansas', 'renton,wa ', 'N-Brabant', 'missouri', 'Greifswald',\n",
              "       'ar', 'British Columbia, Canada', 'kent', 'Hessen', 'NOYB',\n",
              "       'New york', 'South Dakota', 'Emerald City, Petrolia',\n",
              "       'New York, New York', 'wa, spokane',\n",
              "       'Buncombe County, North Carolina', 'California, San Diego',\n",
              "       'new hampshire', 'California, Ventura County',\n",
              "       'NY, Tompkins County', 'Arlington, VA', 'kentucky', 'alberta',\n",
              "       'Philadelphia', 'Portland, maine', 'sc', 'nh', 'NSW', 'califormia',\n",
              "       'New jersey', 'montana', 'indiana', 'Mexico city', 'GA - Georgia',\n",
              "       'il', 'WV', 'Oregon, Multnomah County', 'Vancouver, Wa', 'Nc',\n",
              "       'Atlanta, GA', 'Singapore', 'west virginia', 'North carolina',\n",
              "       'KY', 'United States', 'Mo', 'Colorado (CO)', 'Fl', 'wyoming',\n",
              "       'Nm', 'Dona Ana county, New Mexico', 'UT, Salt Lake', 'Ks',\n",
              "       'California, Contra Costa County, Pleasant Hill',\n",
              "       'Shanghai, Chang Ning district ', 'Vt', 'Monroe county',\n",
              "       'Hong Kong', 'Washingto', 'Dublin', 'California, Mendocino County',\n",
              "       'na', 'madrid', 'Hesse', 'Noord-Brabant', 'Skane', 'Zürich',\n",
              "       'Tree Town, USA', 'Philadelphia, PA',\n",
              "       'Bristol County, Rhode Island', 'georgia',\n",
              "       'Newfoundland and Labrador', 'Oshawa, Ontario, Canada', 'NL',\n",
              "       'oklahoma', 'NJ; Essex', 'Va', 'Delaware', 'Mich', 'Ia', 'Québec',\n",
              "       'orange county, ca', 'BERKELEY, CA', 'California, USA', 'NYC',\n",
              "       'St. Louis County, Missouri', 'Munster', 'Chicago, IL',\n",
              "       'Philadelphia PA', 'Rappahannock County, VA', 'OK', 'Chicago, IL ',\n",
              "       'Mexico City', 'dc', 'WASHINGTON DC', 'Tn', 'ill', 'Stockholm',\n",
              "       'New York County, New York City, New York State', 'Chicago',\n",
              "       'West Yorkshire', 'Berlin', 'arlington, va', 1, 'ur mom',\n",
              "       'Alaska, Matanuska-Susitna Borough', 'utah', 'Marietta, GA',\n",
              "       'Northbrook, IL', 'delaware', 'Tx', 'Ont',\n",
              "       'Northampton County, PA', 'Rhode Island',\n",
              "       'Pa.   Northampton county', 'California, San Diego county',\n",
              "       'Bloomington, IN', 'Quenec', 'Londom', 'nj',\n",
              "       'st. augustine florida', 'iowa',\n",
              "       \"The Democratic People's Republic of North Carolina\",\n",
              "       'pennsylvania, northampton couny, easton', 'St Louis mo', 'mt',\n",
              "       'Psychotic', 'québec'], dtype=object)"
            ]
          },
          "metadata": {},
          "execution_count": 487
        }
      ]
    },
    {
      "cell_type": "code",
      "source": [
        "state_province_mapping = {\n",
        "    # California\n",
        "    'california': 'California', 'ca': 'California', 'cali': 'California',\n",
        "    'los angeles': 'California', 'oakland': 'California', 'gloucester': 'California',\n",
        "    'san diego': 'California', 'ventura': 'California', 'queens': 'California',\n",
        "    # New York\n",
        "    'new york': 'New York', 'ny': 'New York', 'brooklyn': 'New York',\n",
        "    'dutchess county': 'New York', 'ulster county': 'New York',\n",
        "    # Texas\n",
        "    'texas': 'Texas', 'tx': 'Texas',\n",
        "    # Pennsylvania\n",
        "    'pennsylvania': 'Pennsylvania', 'pa': 'Pennsylvania', 'pittsburgh': 'Pennsylvania',\n",
        "    'philadelphia': 'Pennsylvania', 'northampton county': 'Pennsylvania', 'raphahannock county': 'Pennsylvania',\n",
        "    # Virginia\n",
        "    'virginia': 'Virginia', 'va': 'Virginia', 'henrico': 'Virginia', 'arlington': 'Virginia',\n",
        "    # Florida\n",
        "    'florida': 'Florida', 'fl': 'Florida', 'orlando': 'Florida', 'st. augustine': 'Florida',\n",
        "    # Ohio\n",
        "    'ohio': 'Ohio', 'cuyahoga county': 'Ohio',\n",
        "    # Michigan\n",
        "    'michigan': 'Michigan', 'mi': 'Michigan', 'albuquerque': 'Michigan',\n",
        "    # Washington\n",
        "    'washington': 'Washington', 'wa': 'Washington', 'king county': 'Washington',\n",
        "    'issaquah': 'Washington', 'washington state': 'Washington', 'island county': 'Washington',\n",
        "    # Arizona\n",
        "    'arizona': 'Arizona', 'az': 'Arizona', 'maricopa': 'Arizona', 'phoenix': 'Arizona',\n",
        "    # Maryland\n",
        "    'maryland': 'Maryland', 'md': 'Maryland',\n",
        "    # Massachusetts\n",
        "    'massachusetts': 'Massachusetts', 'ma': 'Massachusetts', 'suffolk': 'Massachusetts',\n",
        "    # Illinois\n",
        "    'illinois': 'Illinois', 'il': 'Illinois',\n",
        "    # Georgia\n",
        "    'georgia': 'Georgia', 'ga': 'Georgia',\n",
        "    # Colorado\n",
        "    'colorado': 'Colorado', 'co': 'Colorado', 'boulder': 'Colorado',\n",
        "    # New Jersey\n",
        "    'new jersey': 'New Jersey', 'nj': 'New Jersey', 'merlin': 'New Jersey',\n",
        "    # Oregon\n",
        "    'oregon': 'Oregon', 'or': 'Oregon', 'multnomah county': 'Oregon',\n",
        "    # Connecticut\n",
        "    'connecticut': 'Connecticut', 'ct': 'Connecticut',\n",
        "    # North Carolina\n",
        "    'north carolina': 'North Carolina', 'nc': 'North Carolina',\n",
        "    # South Carolina\n",
        "    'south carolina': 'South Carolina', 'sc': 'South Carolina',\n",
        "    # Tennessee\n",
        "    'tennessee': 'Tennessee', 'tn': 'Tennessee', 'knox county': 'Tennessee',\n",
        "    # Alabama\n",
        "    'alabama': 'Alabama', 'al': 'Alabama',\n",
        "    # Alaska\n",
        "    'alaska': 'Alaska', 'ak': 'Alaska',\n",
        "    # Hawaii\n",
        "    'hawaii': 'Hawaii', 'hi': 'Hawaii',\n",
        "    # Idaho\n",
        "    'idaho': 'Idaho', 'id': 'Idaho',\n",
        "    # Indiana\n",
        "    'indiana': 'Indiana', 'in': 'Indiana',\n",
        "    # Iowa\n",
        "    'iowa': 'Iowa', 'ia': 'Iowa',\n",
        "    # Kansas\n",
        "    'kansas': 'Kansas', 'ks': 'Kansas',\n",
        "    # Kentucky\n",
        "    'kentucky': 'Kentucky', 'ky': 'Kentucky',\n",
        "    # Louisiana\n",
        "    'louisiana': 'Louisiana', 'la': 'Louisiana',\n",
        "    # Maine\n",
        "    'maine': 'Maine', 'me': 'Maine',\n",
        "    # Minnesota\n",
        "    'minnesota': 'Minnesota', 'mn': 'Minnesota',\n",
        "    # Mississippi\n",
        "    'mississippi': 'Mississippi', 'ms': 'Mississippi',\n",
        "    # Missouri\n",
        "    'missouri': 'Missouri', 'mo': 'Missouri', 'st. louis county': 'Missouri',\n",
        "    # Montana\n",
        "    'montana': 'Montana', 'mt': 'Montana',\n",
        "    # Nebraska\n",
        "    'nebraska': 'Nebraska', 'ne': 'Nebraska',\n",
        "    # Nevada\n",
        "    'nevada': 'Nevada', 'nv': 'Nevada',\n",
        "    # New Hampshire\n",
        "    'new hampshire': 'New Hampshire', 'nh': 'New Hampshire',\n",
        "    # New Mexico\n",
        "    'new mexico': 'New Mexico', 'nm': 'New Mexico', 'dona ana county': 'New Mexico',\n",
        "    # North Dakota\n",
        "    'north dakota': 'North Dakota', 'nd': 'North Dakota',\n",
        "    # Oklahoma\n",
        "    'oklahoma': 'Oklahoma', 'ok': 'Oklahoma',\n",
        "    # Rhode Island\n",
        "    'rhode island': 'Rhode Island', 'ri': 'Rhode Island',\n",
        "    # South Dakota\n",
        "    'south dakota': 'South Dakota', 'sd': 'South Dakota',\n",
        "    # Utah\n",
        "    'utah': 'Utah', 'ut': 'Utah',\n",
        "    # Vermont\n",
        "    'vermont': 'Vermont', 'vt': 'Vermont',\n",
        "    # West Virginia\n",
        "    'west virginia': 'West Virginia', 'wv': 'West Virginia',\n",
        "    # Wisconsin\n",
        "    'wisconsin': 'Wisconsin', 'wi': 'Wisconsin',\n",
        "    # Canada Provinces\n",
        "    'ontario': 'Ontario', 'ontario canada': 'Ontario', 'oshawa': 'Ontario',\n",
        "    'victoria': 'British Columbia', 'british columbia': 'British Columbia',\n",
        "    'nova scotia': 'Nova Scotia', 'kingston': 'Ontario',\n",
        "    # Other\n",
        "    'sydney': 'New South Wales', 'manchester': 'Greater Manchester',\n",
        "    'zurich': 'Zurich', 'greater london': 'Greater London',\n",
        "    #Weird\n",
        "    'oblivion': np.nan, 'cascadia': np.nan, 'kwazulu-natal': np.nan,\n",
        "}"
      ],
      "metadata": {
        "id": "QFOyqoLJThsc"
      },
      "execution_count": 488,
      "outputs": []
    },
    {
      "cell_type": "code",
      "source": [
        "df['Q5: state/province'] = df['Q5: state/province'].apply(\n",
        "    lambda x: state_province_mapping.get(str(x).strip().lower() if pd.notna(x) else np.nan, np.nan)\n",
        ")"
      ],
      "metadata": {
        "id": "-UuBELgXUUCC"
      },
      "execution_count": 489,
      "outputs": []
    },
    {
      "cell_type": "code",
      "source": [
        "df['Q5: state/province'].unique()"
      ],
      "metadata": {
        "colab": {
          "base_uri": "https://localhost:8080/"
        },
        "id": "d1EgEO3WUXAQ",
        "outputId": "e2b75052-576f-4678-d842-84c15e0985cf"
      },
      "execution_count": 490,
      "outputs": [
        {
          "output_type": "execute_result",
          "data": {
            "text/plain": [
              "array(['New Mexico', 'Virginia', 'Oregon', nan, 'Colorado', 'Ontario',\n",
              "       'Washington', 'New York', 'California', 'Texas', 'Indiana',\n",
              "       'Minnesota', 'Rhode Island', 'North Carolina', 'Michigan',\n",
              "       'Florida', 'New Jersey', 'Wisconsin', 'Illinois', 'Massachusetts',\n",
              "       'Montana', 'Arizona', 'Pennsylvania', 'Maryland', 'Ohio', 'Iowa',\n",
              "       'Tennessee', 'Alaska', 'Louisiana', 'Nebraska', 'Utah', 'Maine',\n",
              "       'Missouri', 'New Hampshire', 'Georgia', 'Oklahoma',\n",
              "       'South Carolina', 'Nevada', 'Alabama', 'North Dakota', 'Kansas',\n",
              "       'British Columbia', 'West Virginia', 'Kentucky', 'Hawaii',\n",
              "       'Vermont', 'Greater London', 'Connecticut', 'Mississippi',\n",
              "       'Greater Manchester', 'New South Wales', 'Nova Scotia',\n",
              "       'South Dakota', 'Idaho'], dtype=object)"
            ]
          },
          "metadata": {},
          "execution_count": 490
        }
      ]
    },
    {
      "cell_type": "code",
      "source": [
        "df['Q5: state/province'].replace(np.nan,'Unknown',inplace=True)"
      ],
      "metadata": {
        "colab": {
          "base_uri": "https://localhost:8080/"
        },
        "id": "-TyYABjQUbSW",
        "outputId": "0b2caa2b-2bc4-473b-9320-f6784f9c01fa"
      },
      "execution_count": 491,
      "outputs": [
        {
          "output_type": "stream",
          "name": "stderr",
          "text": [
            "/tmp/ipython-input-491-183843842.py:1: FutureWarning: A value is trying to be set on a copy of a DataFrame or Series through chained assignment using an inplace method.\n",
            "The behavior will change in pandas 3.0. This inplace method will never work because the intermediate object on which we are setting values always behaves as a copy.\n",
            "\n",
            "For example, when doing 'df[col].method(value, inplace=True)', try using 'df.method({col: value}, inplace=True)' or df[col] = df[col].method(value) instead, to perform the operation inplace on the original object.\n",
            "\n",
            "\n",
            "  df['Q5: state/province'].replace(np.nan,'Unknown',inplace=True)\n"
          ]
        }
      ]
    },
    {
      "cell_type": "code",
      "source": [
        "df['Q5: state/province'].unique()"
      ],
      "metadata": {
        "colab": {
          "base_uri": "https://localhost:8080/"
        },
        "id": "3fAsEUqfU2gn",
        "outputId": "110f80d2-f894-477a-f29f-f04b0865d967"
      },
      "execution_count": 492,
      "outputs": [
        {
          "output_type": "execute_result",
          "data": {
            "text/plain": [
              "array(['New Mexico', 'Virginia', 'Oregon', 'Unknown', 'Colorado',\n",
              "       'Ontario', 'Washington', 'New York', 'California', 'Texas',\n",
              "       'Indiana', 'Minnesota', 'Rhode Island', 'North Carolina',\n",
              "       'Michigan', 'Florida', 'New Jersey', 'Wisconsin', 'Illinois',\n",
              "       'Massachusetts', 'Montana', 'Arizona', 'Pennsylvania', 'Maryland',\n",
              "       'Ohio', 'Iowa', 'Tennessee', 'Alaska', 'Louisiana', 'Nebraska',\n",
              "       'Utah', 'Maine', 'Missouri', 'New Hampshire', 'Georgia',\n",
              "       'Oklahoma', 'South Carolina', 'Nevada', 'Alabama', 'North Dakota',\n",
              "       'Kansas', 'British Columbia', 'West Virginia', 'Kentucky',\n",
              "       'Hawaii', 'Vermont', 'Greater London', 'Connecticut',\n",
              "       'Mississippi', 'Greater Manchester', 'New South Wales',\n",
              "       'Nova Scotia', 'South Dakota', 'Idaho'], dtype=object)"
            ]
          },
          "metadata": {},
          "execution_count": 492
        }
      ]
    },
    {
      "cell_type": "code",
      "source": [
        "df['Q7: joy other'].unique()"
      ],
      "metadata": {
        "id": "looiru4rU7xb",
        "colab": {
          "base_uri": "https://localhost:8080/"
        },
        "outputId": "b314ecae-3d0b-4ab3-bfc5-ad931bb12a30"
      },
      "execution_count": 493,
      "outputs": [
        {
          "output_type": "execute_result",
          "data": {
            "text/plain": [
              "array(['Mounds', nan,\n",
              "       \"Reese's crispy crunchy bars, 5th avenue bars, ferrero rocher, dries fruit other than raisins\",\n",
              "       'using my elbows to get in front of the little kids in line.',\n",
              "       'Peanut butter m&ms', 'Quality brand dark chocolate',\n",
              "       'Cheesy Snax', 'Cadbury Fingers', 'Sour keys',\n",
              "       'Payday, baby Ruth ', 'Any full size candy bar', 'Beer',\n",
              "       'Mounds, Almond Joy (it’s in the name, for god’s sake), ',\n",
              "       'Chunky, Marathon Bar, Caramello, Almond Joy, Mounds, Charleston Chew',\n",
              "       'Puppies, pure sunshine, kombucha, and a kiss from my one true love',\n",
              "       'Jelly Belly jelly beans!',\n",
              "       'Cow Tails! Butterscotch! Sugar Babies!', 'Puppies',\n",
              "       'Marathon Bars (in England they are called Curly Wurlies). Pop rocks & Space dust, Almond Joy',\n",
              "       'Almost anything from Lindt', 'SIXLETS, WHOPPERS, ZERO',\n",
              "       'raw eggs and a map of neighborhood houses not giving out candy',\n",
              "       'A cappucino',\n",
              "       'Any chocolate covered fruit, those orange-flavored chocolate orbs that you crack into slices, chocolate covered pretzels',\n",
              "       'hot tamales or other cinnamon candies',\n",
              "       'Exotic international candies',\n",
              "       'Belly Flops (Irregular Jelly Belly from the Dollar Store)',\n",
              "       'Brussels sprouts, canned spinach, canned SPAM', 'Tootsie Rolls',\n",
              "       'Warheads', 'Almond Joy, Peanut Butter M&Ms, Bullseyes',\n",
              "       'Family, granddaughter',\n",
              "       'Puppies! Stickers! Temporary Tatoos! Beer (craft beer not the generic crap)',\n",
              "       'Andes mints (despite reminding me of my weird grandma). Also those pumpkin things that were made out of the same stuff as candy corn. Milky ways. As a kid, I also liked those little raspberry shaped things with candy on the outside and chewy stuff on the inside. Mints where the swirly colored bits meant it was fruit flavored (orange only).',\n",
              "       'Dime Bars, Reisens, kinder eggs, star bar, picnic and yorkies',\n",
              "       'Gummi Anything', 'Not appropriate to mention', 'Bourbon',\n",
              "       'Aero bars', 'Zagnut, Zero Bar', 'Sour gummy worms',\n",
              "       'M&M dark chocolate peanuts, dark chocolate KitKat, dark chocolate anything actually',\n",
              "       'Whiskey', 'Plastic spider rings! Fangs!', 'Zagnut!',\n",
              "       \"Almond Joy; Mounds Bar; anything Ghirardelli; Reese's Fast Break; Hershey's Cookie Layer Crunch all flavors.\",\n",
              "       'Anti-Trump literature', 'Butterfinger',\n",
              "       'Anything chocolate, whoppers, dark chocolate goobers, goober so, raisinetts, dark chocolate raisinettes, anything caramel, sugar babies, ',\n",
              "       'A quick shag in the bushes by the door.', 'Flint stones vitamins',\n",
              "       \"Brach's Mellowcream mix with the cats, corn, pumpkin, honey pot, moon, wheat shock, and I forget what else.\",\n",
              "       'sprees, sweet tarts', 'Homemade caramels',\n",
              "       'Sauvignon Blanc or any dry white wine that is NOT chardonnay. Honestly what is it with the love affair for chardonnay? Also, ecstasy could be cool.',\n",
              "       'Peanut Butter Snickers; most flavors of Ritter Sport; any waffled cookie; those plastic champagne poppers; Charleston Chews',\n",
              "       'Teriyaki from the GOOD place.', 'Dildos, fluffy cats, root beer',\n",
              "       'Jars of peanut butter (with spoon)',\n",
              "       'cadbury flake bar, violet crumbles', 'Plastic spider rings',\n",
              "       'Milky way',\n",
              "       'Oreos. Pumpkin shaped candy corn. Werther’s. Hard candies in the strawberry wrapper.',\n",
              "       'Spider rings, good stickers',\n",
              "       'Hostess Snowballs, the pink ones.  Those should be given out.  Pure Joy!',\n",
              "       'Tootsie pops', 'nothing else',\n",
              "       'Sour skittles. I know you listed skittles in general but the sour ones are head and shoulders above the rest.',\n",
              "       'play doh mini packs other small toys homemade baked goods (from scratch)',\n",
              "       'Temp tattoos Whoopers Fortune cookies Stickers',\n",
              "       'Twix, obviously',\n",
              "       'Peanut butter M&Ms, Famous Amos pecan chocolate chip cookies',\n",
              "       'Anything with peanut butter', 'Super Rope, cans of soda',\n",
              "       'Bubs  Daddy bubble gum', 'Psychedelic mushrooms',\n",
              "       'Single malt scotch, Cuban cigars, World of Warcraft',\n",
              "       'Popcorn balls.', \"Goldenberg's Peanut Chews, Payday\",\n",
              "       'Full-sized Snickers',\n",
              "       \"Actual toys, like stuffed animals and sling shot thingy's\", 'Sex',\n",
              "       'oh henry candy bar', 'Snowcaps', 'Coffee',\n",
              "       \"Tootsie rolls, mini.  Any chocolate mini-bar, pretty much, Mr. Goodbar and Nestle's Crunch are the best.  \",\n",
              "       'Homemade cookies with choc chips and marshmallows-but only the ones on Union St, NOT Princess or Jackson. ',\n",
              "       'Stuffed animals',\n",
              "       'Wind up robot toys Sparklers Loose Marlborough Lights',\n",
              "       \"Bit o' honey\", 'snowcaps', 'Peanut marzapan', 'Mounds bar',\n",
              "       'Almond Joy  Lifesavers  compliments  almonds  peanuts popcorn balls',\n",
              "       'popcorn balls,  licorice ice chalk,  pepperoni,  lik-a-stix',\n",
              "       'The little Kraft caramel/fudge cubes, Caramilk ',\n",
              "       'Bonobo Turkish Taffy (vanilla)',\n",
              "       'Heath Bars, Skor Bars, Hersey Dark Choloate',\n",
              "       'Books, comics, popcorn balls',\n",
              "       'There should be a special joy column for Resses Peanut Butter Cups (original)',\n",
              "       \"Goldenberg's Peanut chews\", 'regular mints', 'British chocolate',\n",
              "       'can of pop', 'Aero', 'Bit o honey',\n",
              "       'Original \"Mars Attacks\" trading cards Candy Apples Home-made popcorn balls Blunts Condoms (in un-opened, tamper-resistant packaging) .45 or 9mm ammunition Gift cards USB thumb drives Powerball tickets, unexpired',\n",
              "       'Dog treats (for my dog, not for me)',\n",
              "       'Mounds, 85% Dark Chocolate',\n",
              "       'Witty Prose Inventive Popular Music', 'ice cream cone',\n",
              "       'Do they still make Nutrageous?  Also Baby Ruth.',\n",
              "       'Salted Licorice',\n",
              "       \"Pretzel M&Ms, ponies, Neil Gaiman books, honey roasted peanut Reese's\",\n",
              "       'Peanut Butter M&Ms', 'none',\n",
              "       'White chocolate M&Ms. (There’s a thing, if a rare thing.)',\n",
              "       'Almond Joy',\n",
              "       'mini packs of Jelly Belly jelly beans, a big handful of those cheap plastic spider rings, Twinkies',\n",
              "       'Music CDs books',\n",
              "       \"Some unidentifiable tube-shaped, Asian-language rice treat that I think is made with eggs. It's kind of like a Rice Krispy combined with a puffed Cheeto.\",\n",
              "       'Belgian Chocolate, Minstrels, chocolate cupcakes',\n",
              "       'Swedish salted licorice, Charleston Chew, salt water taffy.',\n",
              "       'Milky Way Dark', 'Salt Water Taffy', 'beer',\n",
              "       'Caramels, anything gummi, Sixlets, soda pop',\n",
              "       'Everlasting Gobstopper', 'Rockets (a.k.a. Smarties, American)',\n",
              "       'European Milky Way Maoam (Pinballs preferred) Hi-Chew Proper solid block chocolate - Lindt, Green&Blacks, Willies Solid block Cadbury Bournville',\n",
              "       'puppies, the warmth of summer sunshine, Hostess anything (especially ho-hos)',\n",
              "       'Dope rhymes haunted houses stuffed animals', 'Toddler smiles',\n",
              "       'Cheesy little plastic toys or games, like the plastic spider rings or Chinese yo-yos',\n",
              "       'Gobstoppers', 'Saturday morning bagpipes',\n",
              "       'milky way midnight, bitcoin, razors (sharp)',\n",
              "       'Donuts, spiked cider',\n",
              "       'Off brand candy corn. Candies made with those spicy near-oranges. Candies with xylitol, because dentistry is expensive.',\n",
              "       'Presharpened Blackwing 502 Pencils', 'Almond joy',\n",
              "       'Chocolate pudding cups!', 'Mounds Almond Joy', 'Babe Ruth',\n",
              "       'Sixlets', 'Powerpuff girls',\n",
              "       'Baby Ruth, monster-themed candies (chocolate eyeballs, zombie fingers, etc.), those assemble-a-skeleton sugar candies, Tootsie Rolls (but not the sectional turd-shaped ones)',\n",
              "       'Whoppers', 'Munch peanut bar',\n",
              "       'Toys stickers  happy meal toys. Icee coupons and Wendy’s free frostee coupons. Any free coupon. Mm peanut butter.  Cookies',\n",
              "       'Individually wrapped caramels. Chill dogs. Cabernet',\n",
              "       'blueberry pie',\n",
              "       'all the dark chocolate Ritter Sport bars, especially the one filled with marzipan; Lindt Excellence dark chocolate Touch of Sea Salt or Chili; champagne truffles; Peter Paul Mounds, turtles',\n",
              "       'Sugar Daddys',\n",
              "       \"Werther's. Don't roll your eyes-butterscotch is a solid flavor.\",\n",
              "       'Peanut butter m&m', 'Creepy seasonal trinkets',\n",
              "       'Little shot bottles of booze', 'Candy corn', 'Wax lips!',\n",
              "       'Super Lemons (from Japan) String cheese sticks', 'Book',\n",
              "       'Skittles', 'chewy mini sweet tarts.', 'Jelly beans',\n",
              "       'Chuckles (rectangular gumdrops) Wint-O-Green Lilfesavers',\n",
              "       'employer matched 401k, bitcoin, paid days off, bacon',\n",
              "       'Full Size Tootsie Rolls', 'milky way midnights', 'Pink nips',\n",
              "       'Candy Pumpkins!',\n",
              "       'Crunchie bar; EatMore. Home made popcorn balls. Puffed Wheat Squares.',\n",
              "       'Coffee, gin, mini wine bottles, baked goods including but not limited to brownies, blondies, butter tarts, Nanaimo bars, bagels and cream cheese, cupcakes, cake pops, croissants, books, gift cards for books, comics, silly buttons, socks, cool rocks, movie tickets',\n",
              "       'Pay day, sweettart ropes, mentos',\n",
              "       'autographs of minor celebrities',\n",
              "       'Massive \"Pound Plus\" trader-joe\\'s chocolate bars',\n",
              "       'Stem cells, new tennis shoes, consensual sexual touching',\n",
              "       'Physical bitcoins',\n",
              "       'Whoppers Apples with rusty razor blades Krugerrands',\n",
              "       'Homemade popcorn ball',\n",
              "       'caramel apples, caramel apple lollipops, chocolate covered nuts',\n",
              "       'Almond Joy, Mounds, Butterfinger Crisp, Milky Way Dark, Tim Tams Dark, Thin Mint Girl Scout Cookies',\n",
              "       'Mint M&Ms',\n",
              "       '70% or higher dark chocolates, Mounds / Almond Joy, marzipan candies',\n",
              "       '5th Ave bar, fireballs, warheads', 'Vanilla tootsie rolls.',\n",
              "       'Jelly Beans', 'Cheese Puffs',\n",
              "       'The New Star Trek.  Joy almond bars.  Sugar cubes.  Irish Whiskey.  Being overpaid.  mini Oreos',\n",
              "       'Junior Mints, Thin Mints',\n",
              "       'Marzipan Critters, Japanese Kit-Kat (any of their seventeen-thousand flavours).',\n",
              "       \"Cherry Mountain Candy Bar, Pearson's Salted Nut Roll, any doughnut with maple frosting\",\n",
              "       'Ring Pops! Mug of hot cocoa!',\n",
              "       'Almond Joy    Mounds    Strawberry Sugar Wafers    Lifesavers    Gummy Lifesavers',\n",
              "       'Payday, Baby Ruth, real shrunken head ',\n",
              "       'Slingshots, menthol cigarettes, vintage Swedish porn (1950-1977)',\n",
              "       'Kinder Bueno; Ferrero Rocher', 'toys', 'Tootsie rolls Lik m aid',\n",
              "       'Baby Ruths', 'Sour Punch straws, Airheads',\n",
              "       'Good and Fruity Cadbury Caramel Eggs', 'Hot Tamales (the candy)',\n",
              "       'Mounds bars Almond Joy bars Nips', 'Dank nugs',\n",
              "       \"Ritter Sport Dark Chocolate with Hazelnuts, candy cigarettes, Bit-o-honey, almond M&Ms, I'm really hoping for Hazelnut M&Ms one day\",\n",
              "       'Mounds bar, Milky Way, Idaho Spud', 'Uno bars',\n",
              "       \"Almond M&Ms, Hersey's Milk Chocolate with Almonds, Tootsie Pop Drops\",\n",
              "       \"Other brands of milk chocolate - Lake Champlain,  Divine, etc Baby Ruth bars Any candy sold at Whole Foods Markets - they're very high quality candies Larabars \",\n",
              "       'mars bar, tootsie rolls/pops!',\n",
              "       'wax lips, BBBats (chocolate, banana or strawberry taffy)',\n",
              "       'Crackle Bar, Twizzlers, Almond Joy, Mounds Bar',\n",
              "       'Popcorn balls Tootsie rolls Fake tattoos Real tattoos',\n",
              "       \"Trader Joe's Peanut butter Cups,\",\n",
              "       'Toffifay, Hi-Chew, Asian candy in general',\n",
              "       'Sixlets, Little Debbie snacks, Milka', \"Reese's fastbreak\",\n",
              "       'Extra toasty cheese its, cholula, jar of ice cream hot fudge, sour brite crawlers, wonka anything, werther’s original',\n",
              "       'Ghirardelli Chocolates, little paper umbrellas, Jelly Belly sour, Hostess Cup Cake, Baby Ruth',\n",
              "       'Tootsie roles', 'Milky way midnight',\n",
              "       'Candy necklaces, blow pops (bubblegum), tootsie roll pops, jawbreakers',\n",
              "       'Sno Caps', 'Cadbury Harvest Milk Chocolate Cadbury Mini eggs',\n",
              "       \"Zagnut, Peanut Butter M&Ms, Mint M&Ms, Basically any flavor of M&M that isn't milk chocolate, some weird Australian candy you've never hard of.\",\n",
              "       'reeses cups, baby ruth, ', 'Medjool dates, vegan enchiladas',\n",
              "       \"hershey's dark chocolate with roasted almonds, roasted almonds in dark chocolate\",\n",
              "       'Dark chocolate cherry cordials', 'Whole cans of quality soda',\n",
              "       'cannabis', 'Zero bar, abba zabba, tootsie roll, whoppers',\n",
              "       'Starburst',\n",
              "       'Big tootsie rolls, andies mints, Milky Way, any dark chocolate, Godiva ',\n",
              "       \"Any dark chocolate that isn't Hershey's weird, overly sweet, odd after-taste crap\",\n",
              "       'Almond Joy, mixed nuts', 'sky bar', 'Crispy Crunch!',\n",
              "       'cannabis brownies, sour beer, condoms, and dancing with skeletons',\n",
              "       'Charleston Chew',\n",
              "       \"Mint M&Ms Dark Reese's Mounds Zero Bars Godiva Gumdrops\",\n",
              "       'generic loperamide tablets',\n",
              "       'Salmiak, temporary tatoos, and oxycodone.', 'coconut chocolates',\n",
              "       'puppies', 'Orgasms, mathematics', 'Baby Ruth, 5th avenue',\n",
              "       'Abazaba (sp?) Bars', 'Ritter bars!! Homemade cookies!',\n",
              "       'Cans of pop',\n",
              "       'Beers, anything black licorice, naked photos of Alexander Skarsgård, Charleston Chews, something Godiva',\n",
              "       'Satellite wafers! zotz pop rocks',\n",
              "       'Any dark chocolate; lemon tarts, red wine',\n",
              "       'PB Max Milky Way Midnight Animals from different species getting along',\n",
              "       'Truffles - chocolate, not mushroom (although, come to think...) - the fancy kind. Also anything with caffeine.',\n",
              "       'Curly Wurly/Marathon bar, Baby Ruth', 'Tequila shots',\n",
              "       'The foil wrapped chocolate balls that look like a pumpkin',\n",
              "       'Lindor coconut chocolate balls',\n",
              "       \"Skor (performed better than Heath in a self-administered double-blind study) Payday (fuck you, it's good)\",\n",
              "       'Cherry Mountain, bag of chips/crisps, tube of cookie dough',\n",
              "       'Skor bar, better than Heath. Almond Joy!!! Sixlets! ',\n",
              "       'weed, red vines , fruit roll-ups, seaweed snacks, atomic warheads, oreos, starbucks giftcards, jello shots, legos, kinder eggs, anything haribo!',\n",
              "       'Kale Chips',\n",
              "       'Marshmallow rice crispies. Crunch. Aspic. Big League Chew. Cinnamon hots. Cinnabon.',\n",
              "       \"Tootsie Rolls, Candy Apples, Kerr's Molasses Kisses, Jelly Beans, Oh-Henry!,\",\n",
              "       'Payday, Sugar Babies, Sugar Daddy, Atomic Fire Balls, original Jolly Ranchers',\n",
              "       'Candy/fudge pumpkins Oh Henry  Mint or orange KitKat',\n",
              "       'Oh Henry!',\n",
              "       'Bourbon, Mini packs of Oreos, Payday bars, Gift certificates, Riesen, Lion bars, Maltesers',\n",
              "       'Salt water taffy, Crunchie, kisses (the actual kind)',\n",
              "       'Fresh lime aid',\n",
              "       'Peanut Butter M&Ms, Peanut Butter Snickers, Zagnut, Ferrero Rocher, ',\n",
              "       'Jolly Rancher Jellybeans which are the motherfucking BOMB.',\n",
              "       \"Jamison's Irish Whiskey\",\n",
              "       'To crush your enemies To see them driven before you And to hear the lamentations of their women',\n",
              "       'Milky Way midnight',\n",
              "       'Razorblade candy, and the candy injected with drugs, almond joy',\n",
              "       'Sugar daddy',\n",
              "       'Sugar Daddies, Sugar Babies, white chocolate anything. ',\n",
              "       'Ritter Jamaica Rum candy', 'Toffifay!!! Any cadburys chocolate',\n",
              "       'Cadburys Chocolate, Galaxy, Bounty, Almond Joy, After Eight Mints, Topic, Caramac, Yorkie, Fruit Pastilles, Wine Gums',\n",
              "       'A cold diet coke. Houses with short walking distances between them.',\n",
              "       'Wine',\n",
              "       \"Single Malt Scotch, Stout, Porter, Trader Joe's dark chocolate peanut butter cups\",\n",
              "       'My all-time favorite is the dark chocolate MOUNDS Bar.',\n",
              "       'Black jelly beans, Pot, Sex', 'Abba Zabba',\n",
              "       'Wunderbar, bags of Cheezies (any size)', 'Mexican sugar skull',\n",
              "       'Fast brake bars', 'almond joy',\n",
              "       'Those Italian hard candies filled with basically Alka Seltzer (zotz?)',\n",
              "       'Crispy Crunch', 'Midnight Milky Way Mounds', 'Craft beer',\n",
              "       'Fair trade chocolate, kinder bueno, caramel squares',\n",
              "       'Caramel m&ms, anything caramel', 'Drop: Dutch Salty Licorice',\n",
              "       'Actual caramel or otherwise candy coated apples, hot cocoa',\n",
              "       'THE LIQUOR! Especially this year.', 'Blow pops', 'Skybar',\n",
              "       \"Three Musketeers Bars, Scotch, Hershey's Krackle bars\",\n",
              "       \"Daim is the world's best candy. Also: Kinder Surprise, Kinder Bueno, Nerd Rope, After Eight, Pop Rocks, Fun Dip, Candy Cigarettes, Kasugai Japanese Gummy Candy, Halva, Warheads, Soda.\",\n",
              "       'Homemade cookies/brownies', 'Chocolate',\n",
              "       'Bit O Honey Gobstoppers',\n",
              "       'Candy buttons, Mounds and Almond Joy, Candy  cigarettes, Krabby Patties, any old fashioned non-chocolate candy',\n",
              "       'Callard and Bowser Butterscotch', \"hallowe'en kisses\",\n",
              "       'Homemade popcorn balls',\n",
              "       \"Almond Joy (duh) Almond Snickers Gluten free anything (Celiac) 5th Avenue Atkinson's Peanut Butter Bars (similar to Chick-O-Stick but they aren't as hard as granite and they look glorious)\",\n",
              "       'All da same candies but da ones made in da UK or dat dey sell in da UK.',\n",
              "       'Oatmeal Raisin Cookies',\n",
              "       'Dark Chocolate variants or Milky Ways and Reeses Peanut Butter Cups',\n",
              "       'Almond Joy Bars',\n",
              "       \"See's Candy milk chocolate caramels.  Caramel popcorn balls\",\n",
              "       'Mini-bottles of liquor', 'Mini Almond Joys Mini Mounds bars',\n",
              "       \"AERO BAR CANS O' POP\", 'Comic books', 'Gummi bears',\n",
              "       'Stuffed toy bunnies!',\n",
              "       'Free Access to a reliable and affordable Dog Babysitter; Free trip to Paris; Tiffany lamp; de-kippling device;',\n",
              "       'Ice cream cones, wax lips or teeth',\n",
              "       'Gel filled starburst, those weird cow tail candies, weed',\n",
              "       'Almond Joy, Mounds Bar, hard candy that fizzes, Abba Zabba, Big Hunk',\n",
              "       'Clark Bars!', 'chocolate frosted sugar bombs',\n",
              "       \"Um... I was trying to think of an individually wrapped snack size portion of anything I would actually want. Trader Joe's sells tiny bags of green olives, maybe that. I prefer almost any other flavor to sweet. Also, you left out horehound drops. Those would be great if they weren't so sweet. \",\n",
              "       'Milky way dark', 'Can of soda', 'Candy corn pumpkins',\n",
              "       'Charleston chews',\n",
              "       'Vampire teeth, Warheads, Actual non-religious comic books',\n",
              "       'Truffles', 'A', 'Sno Caps Zotz', 'ORGASM',\n",
              "       'Red vines, fruit stripe gum',\n",
              "       \"Any form of high quality chocolate (I know it's on the list, but it bears repeating)\",\n",
              "       'Crunchy bar/skor bar/crispy crunch', 'Zotz',\n",
              "       'Ghirardelli Chocolate', 'AirHeads', 'A box of Hot Tamales',\n",
              "       'Anything quality chocolate', 'Alcohol nips.',\n",
              "       'Grenada Chocolate Company bar', 'Boobies',\n",
              "       'Math and sciences, technology, the girl I like (with out her boy friend), soccer, running. ',\n",
              "       'caramel cubes Bit O Honey!', 'Mini cans of pop', 'Kittens',\n",
              "       'MINT ANYTHING', 'Payday...and the candy bar too', 'Popcorn ball',\n",
              "       'A horse', 'Almond Joy, Mounds Bar', 'Loose cigarettes',\n",
              "       'Popcorn ball, toffee, nilla wafer, milk duds, rice crispy treat',\n",
              "       'Chocolate expect heath', 'BBQ chips', 'Klonopin', 'Twizzlers',\n",
              "       'Red Vines', 'Clark bar', 'Turkish Delight',\n",
              "       'Special dark cholcolate mini bars',\n",
              "       'Almond joy Mounds Large Tootsie rolls', 'mini cans of soda',\n",
              "       'weed, softcore, tacos, popcorn balls, scotch eggs, scotch, really good hash browns with a side of gravy, The Clash box set, Photos of Jello Biafra and Ice T teaching Tipper Gore a thing or two. ',\n",
              "       \"Jelly Babies, Colt's Bolts, \",\n",
              "       'Payday Bars, Ritter Sport, Dark chocolate of any kind, caramel apples',\n",
              "       'Daim (from Sweden; found at IKEA and in Sweden)',\n",
              "       'Rockets, Rainblo gum, Pop Rocks',\n",
              "       'Being in Australia, we get Cadbury Chocolate, and the small Bounty, Crunchie, Violet Crumble, Picnic, and many other lovelies!',\n",
              "       'Mounds bars, caramel m&ms, red hots, chocolate covered raisins, ',\n",
              "       'Sees lollipops',\n",
              "       'Cherry Laffy Taffy, Sweetart Chews, Nobel Super Cola, Sour Beasties',\n",
              "       'Slice of pizza Beer', 'Mounds, Almond Joy', 'White chocolate',\n",
              "       'Zinfanbel, Real sugar.', 'Popcorn', 'Nut goodie',\n",
              "       'Almond Joy, duh!', 'Baby Ruth', 'Home made cookies/brownies',\n",
              "       'Baby Fucking Ruth',\n",
              "       \"Nutrageous, Brach's Royals, Mini Tootsie Rolls\",\n",
              "       'Whoppers malted balls', 'Oh Henry, Mounds',\n",
              "       'Cadbury Dairy Milk (even the lame US version), butterscotch, and real Scotch (preferably Johnnie Walker Red or Teacher’s).',\n",
              "       'Free kitten', 'bottled independenly-brewed beer',\n",
              "       'mallow cups, raisinettes, goobers, chunky bar',\n",
              "       'Cadbury chocolate', 'this survey', 'Charleston chew',\n",
              "       'Cupcakes and puppies', 'Runts Banana Runts', 'Real Estate',\n",
              "       'How could you omit Almond Joy?!? JOY IS IN THE VERY NAME, DAMMIT!!',\n",
              "       'Beer, 5th Avenue Bars', 'almond Joy, dark chocolate of any kind',\n",
              "       'Lady Godiva chocolates, Belgian chocolates, Bourbon Balls', 'Pez',\n",
              "       'Baby Ruth, popcorn balls, rice krispie treats',\n",
              "       'Ghirardelli Flix', 'Goldberg’s peanut chews', 'Marijuana edibles',\n",
              "       'Fresh Jujy Fruits, Large bags of Mini Swedish Fish, homemade cookies',\n",
              "       'M&M caramels, those little hazelnut balls covered with chocolate & coconut, those chinese sticks dipped in chocolate, nuts (especially cashews!)',\n",
              "       'Clark bars, 5th Avenue bars, Butterfingers bars',\n",
              "       'Big Turk; Jersey Milk; tiny packets of jelly beans.', 'Cake, ',\n",
              "       'Chocodiles',\n",
              "       'Can I vote twice for butterfinger? Also, almond joy. ',\n",
              "       'Beer or Whiskey',\n",
              "       \"Almond JOY (I really can't believe this is not on the list. I mention it every year.)\",\n",
              "       'any candy with chocolate AND peanut butter',\n",
              "       'Dried squid, moon cakes, mulitas, empenadas, sambusas, wasabi peas, brioche',\n",
              "       'Wax Teeth', 'Outrageous, plastic spider rings',\n",
              "       'Sunkist Gems, gummy drops, any tart candy',\n",
              "       'Almond Joy, Mounds Bar, caramels, butterscotch, Tootsie Pop, a nice IPA, barbecue',\n",
              "       'Beer. Puppies. Cheese. Roasted beets. Gummy worms. Chocolate covered almonds. Glosette Raisins. Those Kraft caramels. Dare jujubes.',\n",
              "       'Whiskey Shots.', 'abbazzaba',\n",
              "       'Puppies, after eights, fancy dark chocolate, score bar, crunchie bar',\n",
              "       'Any Chocolate Candy without Peanut Butter',\n",
              "       \"Old Faithful Bars!!!!!!!!   Chunky's  Twin Bings\", 'Sambucca',\n",
              "       'astronaut ice cream, caramel apple lollipops, cow tails, whoppers (chocolate)',\n",
              "       'A fatty', 'Wax juice bottles', 'Andes mints',\n",
              "       'Baby Ruth Almond Joy  Famous Amos cookies',\n",
              "       'Mini peanut butter cups are better than regular sized',\n",
              "       'Tootsie rolls, Carmel apples, circus frosted animal cookies, small bags of any kind of cookie, like famous Amos, beer',\n",
              "       'Lik-m-Aid', 'Mini eggs!', 'Small toys',\n",
              "       'Krackle, white chocolate anything, weird Japanese candy',\n",
              "       \"Mounds bar, Milky Way Midnight, Mentos Fruit, Reese's Dark, Hi-Chew\",\n",
              "       'Jelly Belly, Almond Joy, caramels',\n",
              "       'Nutrageous/nut bar After dinner mints Wurthers',\n",
              "       'aero bars! (much, much better than real housewives of orange county!)',\n",
              "       'Candy cigarettes', 'Whoppers! And Caramels!!!',\n",
              "       'bubble gum eye balls. jelly beans. chocolate bars that have halloween shapes & themes like scaries (the halloween smarties) or halloween pocky',\n",
              "       'Goobers', 'TV Guide', 'beer.  Beer.  BEER',\n",
              "       \"Thornton's chocolate or toffee, Green & Black's, flake, galaxy, wispa, maltesers, kinder bueno, refreshers, drumstick lollies, tablet, cake, Turkish delight\",\n",
              "       'Nuremburg Trials 2: The Trumpening 3-D glasses',\n",
              "       \"any sort of drug or drug paraphernalia. That's expensive and I'll take it free any time!\",\n",
              "       \"My mom. (Her name is Joy.) But I don't think she's likely to end up in your trick-or-treat bag.\",\n",
              "       'Sour gummy bears', 'Malted milk balls',\n",
              "       'Turkish pepper, Salty licorice (e.g. Piratos, Salte Fisk, Bogstaver, etc.), Sour winegums, Candy apples, Twizzlers (cherry), Anything Marabou.',\n",
              "       'Charleston Chews', \"Reese's big cups\", 'Oreos', 'Biltong',\n",
              "       'Inspired creative expression.', 'Beer!', 'Legos',\n",
              "       '50lb of $100 dollar bills!stale', 'Heath bars, vodka',\n",
              "       'Mounds bar Chocolate chip cookies Vodka', 'Southern comfort',\n",
              "       'Baby Ruth, Mallo Cups, tootsie rolls (regular or flavoured), tootsie pops',\n",
              "       'Airline bottles of booze',\n",
              "       'popcorn balls(homemade or shop bought), wax vampire teeth, malteasers (malted milk balls)',\n",
              "       'Nerds Baby Ruth',\n",
              "       'Those British peppermint thingies that melt in your mouth',\n",
              "       'Tootsie Pop, Milk Duds, Bottle Caps, Pop Rocks',\n",
              "       'M&M Mint, Bounty Dark, Fun-size anything, Gingernuts, Interesting fudge, Hugs from beautiful women (Males and girls, see: \"hugs\" answer above), Home made anything',\n",
              "       'Wasabi peas, powdered-sugar-coated toffee-chocolate-encased whole almonds, pepperoni or black pepper slathered salami (a whole stick, unsliced), Fruitastic twist-wrapped bubble gum, lemon creme sandwich cookies, garlic bread, kosher dill pickles, tiny super-sweet mandarin oranges, Riesen caramel chocolate lumps, Safeway Select diet grapefruit soda in crushed ice. Root beer barrels (the candy). Maple sugar candy. Whole unshelled salted roasted peanuts to chew up whole including the shell.',\n",
              "       'rub on tattoos, rubber bats, decapitated/broken dolls and doll parts reassembled with other toys (like in Toy Story), restaurant/fast food coupons for FREE item (npn)',\n",
              "       'Spree', 'Bubble gum, Clark bars',\n",
              "       'small toys that belong in a quarter machine',\n",
              "       'Dark chocolate covered fruit', 'Marshmallows',\n",
              "       \"Peanut Butter M&M's, big gummi Lifesavers, those little 2-packs of Oreos, Star Crunch\",\n",
              "       'Matcha Kit Kats', 'Joy dishwasher tabs', 'Rolos',\n",
              "       'Root Beer Barrels, malted milk balls', 'chicken noodle soup.',\n",
              "       'Rockets, where are the Rockets?!', 'Kit-kat chunky!',\n",
              "       'Can of Mountain Dew (That will teach those parents.)',\n",
              "       \"Milky Way Dark, Milky Way Simply Caramel, Russell's Marshmallow thingies, Hershey's Special Dark\",\n",
              "       'zero bar', 'Fun dip. Pop rocks',\n",
              "       'haribo frogs, clove gum, to clarify the Licorice (not black) - Twizzers = joy',\n",
              "       'Almond Joy.', 'Zagnut',\n",
              "       \"lick'em sticks, giant chewy sweetarts, Pearson Nutrolls, Nut Goodies\",\n",
              "       'Atomic fireballs cinnamon,  warheads sours, hot tamales,  tootsie pops',\n",
              "       'Payday bars, almond joy, big cherry',\n",
              "       'Gobstoppers, ring pops, cinnamon discs, butterscotch discs ',\n",
              "       \"Any chocolate other than Hershey's. Anything caramel.\",\n",
              "       'Pot brownies, cookies, rice crispy treats. Basically anything with pot in it.',\n",
              "       'Root beer', 'Manhattan',\n",
              "       'Payday bars, almond joys, red vines, successful removal of trump from office ',\n",
              "       'Petting my dogs', 'Bags of pretzels',\n",
              "       'Cherry Blossom (do they still make those?), individually wrapped caramels',\n",
              "       'Almond Joy, puppies', 'full box of mallow cups', 'Books, Steak',\n",
              "       'Pumpkin anything.', 'Skor bars',\n",
              "       'The sweet release of death The Holy Emo Trinity (and TØP)',\n",
              "       'adderal, BIG HUNK!,',\n",
              "       'Girhardelli dark, Ferro Rocher dark, Leonidas dark, Ritter dark, Cadbury dark, Guylian dark',\n",
              "       'Rockets',\n",
              "       'Homemade fudge (I really got it once egocentric or treating)',\n",
              "       'dark kit kat', 'Kinder Surprise! Charleston chew',\n",
              "       'horehound candy', 'Wunderbar, cans of soda, juice box, Aero,',\n",
              "       'Toys', 'Payday, Hershey’s cookies and cream',\n",
              "       'home-baked goodies', 'Kinder Eggs Token for ice cream',\n",
              "       'Halloween decorations, Halloween events, block parties',\n",
              "       'Almond Joy Ferrero Roche HazelNut Hershey Kisses Candy Corn',\n",
              "       'Zagnut bars',\n",
              "       'Dark chocolate Milky Way. Squeeze-It drinks. Homemade popcorn balls.',\n",
              "       'Packaged donuts', \"Andes mints Hershey's nuggets\",\n",
              "       'Almond Joy Jucyfruits', 'Lion Bars, HobNobs, Red Vines',\n",
              "       'Minibag of Halloween-shaped cheese puffs; overly precious hipster chocolate bars with flavors like popcorn or smoked bacon; goobers; zagnut bars; malted balls',\n",
              "       'Anything with DARK chocolate', 'Coffee - hot and black!', 'Skor',\n",
              "       'Traditional Halloween Candy Corn', 'cow tails',\n",
              "       'Mini bags of Andy Capp Hot Fries Root Beer Barrels', 'Gum',\n",
              "       'popcorn balls',\n",
              "       \"Trader Joe's Dark Chocolate Peanut Butter Cups Trader Joe's Dark Chocolate Turbinado Sea Salt Almonds  Whoppers/Chocolate malt balls Ferrero Rocher Neopolitan Klondike Bars (not yet melted) Artisanal sodas (bottled) News of Trump's impeachment, and/or the criminal prosecution of most of his cabinet and his VP\",\n",
              "       'Jawbreakers', 'Snickers Almond, previously known as Mars',\n",
              "       'NERDS ON A ROPE, FRUIT BY THE FOOT', 'Whitmans Sampler',\n",
              "       'Cadbury Wispa', 'Whipped cream, birth control, temporary tattoos',\n",
              "       'Chewy sweet tarts, elections buttons', 'pretzels',\n",
              "       'Malt balls, Charleston Chew', 'Big Turk Crispy Crunch Aero',\n",
              "       'Beer. The neighbour down the road from us used to give me a beer in my bag to give to my dad when I was little. He also would wrap Hershey\\'s kisses and cloves of garlic in tin foil, put them all in one big bowl, and then have the kids choose one out of it (\"choose wisely\"). ',\n",
              "       'Air Nerds', 'Fried chicken, beer, rye whiskey',\n",
              "       'Ice Cubes chocolates, melocreme pumpkins', 'tootsie rolls',\n",
              "       'sugar daddies, sugar babies, hot tamales, abba zabba, pull and peel twizzlers, vanilla tootsie rolls, blow pops, milk duds, mallocream pumpkins',\n",
              "       'Mallo Cups, Toffifay.', 'Ice cream, bonus points',\n",
              "       'Gobstoppers, Jelly Bellies, Sprees',\n",
              "       \"1970s willy wonka super scrunch bar (like a butterfinger, except it didn't stick in your teeth). I think Quaker Oats owned the brand at that time but stopped making them. Also Mars Almond bar (the snickers almond is not exactly the same...it behaves differently when frozen)\",\n",
              "       'Movie tickets, tootsie rolls',\n",
              "       'those chocolate covered peanut things, dark chocolate anything, pop, yogurt covered raisins, chocolate covered raisins, bubbles, pencils, fake vampire teeth, yarn',\n",
              "       '5mg edibles',\n",
              "       'Reeses Sticks, Ghirardelli Squares, Cadbury Top Deck (mint chocolate), Blow Pops (lollipops with gum), Tootsie Pop (lollipop with Tootsie Rolls inside)',\n",
              "       'cracker jacks box', 'Cookie dough',\n",
              "       'blow pops, haribo anything, gummy cokes, milky way dark',\n",
              "       'Mounds, Almond Joy, Baby Ruth, Rice Krispie Treats or Caramel Apples by Neighbors I Know, Candy Cigarettes',\n",
              "       'Atomic Fireballs Root Beer Barrels Mega Warheads',\n",
              "       'Flowers, ice cream, puppies, wine',\n",
              "       'kittens,Rice Krispie treats,warm sweaters,Jane Austen books',\n",
              "       'Wax bottles. Bottle caps',\n",
              "       'Tootsie rolls. Fruit tootsie rolls. Frooties ( are by the tootsie fool people)',\n",
              "       'Big Hunk', 'Mounds bar.  Almond Joy Bar.',\n",
              "       'Good quality black tea, fountain Coke with lots of ice, oyster crackers, the thought of Trump and the entire GOP going down in incandescent flames (this is not candy, but I would happily give up ALL candy for an entire decade to see this happen - does this mean I’m in the bargaining stage of grief?)',\n",
              "       'raisinets, chocolate orange, ',\n",
              "       'Full sizes cans of pop/soda/coke, Candy Apples, Toffee Apples, ',\n",
              "       'dolls, other toys', 'Cookies!', 'Buncha Crunch',\n",
              "       'Almond Joy gives me joy.', 'Saltwater taffy, sugar daddy',\n",
              "       'Atomic Fireballs', \"Nestle's crunch\", 'Rockets!!!!', 'Cheetos',\n",
              "       'Jolly Rancher Sour Bites Skor', 'Anything Haribo',\n",
              "       'French Ice Box Cake, ginger jalapeño chocolate, candied pecans, crystallized ginger, Chartreuse Green',\n",
              "       'Kittens, mountain biking, movies based on comic books',\n",
              "       'Tootsie Rolls/pops, tequila.',\n",
              "       'Cailler apricotine - these are apricot brandy filled chocolates from Switzerland',\n",
              "       'Gummy Frogs', 'small fireworks', 'Tootsie Rolls, Tootsie Pops',\n",
              "       'Gummies and sexy ladies',\n",
              "       'Babe Ruth, Sky Bar, Powerhouse, Mallo Cups, Mounds', 'dum-dums',\n",
              "       'Dark Chocolate Kit Kat', 'Everything bagel', 'turtles',\n",
              "       'Mounds, almond joy', 'Fifth Avenue',\n",
              "       'Jellybeans!  Fazer Mints!  Those raspberry hard candies with jam in the middle!',\n",
              "       'Reese’s Fast Break',\n",
              "       'Little bottles of hard liquor, fair trade chocolate, sugar free mint gum',\n",
              "       'Single serving alcohol bottles (aka airline bottles)',\n",
              "       'Sexy costumes',\n",
              "       'Twizzlers, Squirrel Nut Zippers, Mini bags of cookies',\n",
              "       'String cheese', 'A free toy', 'Yarn', 'Zero bars',\n",
              "       'Tootsie Roll Pops! Rice Krispie Treats!',\n",
              "       'Oh Henry bars (mini or full)', 'Payday', 'Midnight Milky Way',\n",
              "       'Mini pretzels, water bottles, gelt',\n",
              "       'More reeces to put in my top hat.',\n",
              "       'Dark chocolate, ginger, raspberries, those hard candy raspberries with soft centers',\n",
              "       'Rockets - Canadian',\n",
              "       'Kinder eggs, Hi-chew, white rabbits, hello pandas',\n",
              "       'Orange slices candy Cans of soda Snack cakes', 'Sunflower seeds.',\n",
              "       'honey roasted macadamia nuts, Ritter Sport bars (most flavors), artisan milk chocolate',\n",
              "       'Ritter sport, atomic fireballs', 'Almond Joy, IPA',\n",
              "       'Airplane miniature booze bottles', 'Pumpkin face Licorice Taffy',\n",
              "       'Ghirardelli Sea Salt Caramel bar', 'Mellowcreme Pumpkins',\n",
              "       \"Zero bars, malted milk balls, neopolitan coconut candy, Brachs Royals, Brach's strawberry candy\",\n",
              "       'BJ', 'kittens (live)', 'N/a',\n",
              "       'Canadian Rockets!!!!!!!!!!!!!!!!!!!!!!!!!!',\n",
              "       'Little Debbie snacks.', 'Puzzles',\n",
              "       'Toffifay, chewy sweettarts, Baci Perugina, Ferrero Roche.',\n",
              "       \"Real (not Hershey's) dark chocolate\",\n",
              "       \"When I was young we had a guy on our street who gave out pads of cardboard-ish colored paper at Hallowe'en (I believe he worked at a paper factory). We thought it was weird, but we always looked forward to going to his house on Hallowe'en. I also loved people who would let you choose your own candy and even take a handful if you wanted...now I let kids do that. C'mon! It's Hallowe'en.\",\n",
              "       'Reeses peanut butter cups', 'Cherry mash',\n",
              "       'Tootsie Rolls, Slo-Pokes (where did they GO?! I miss them so much)',\n",
              "       'Spree, Anything Willy Wonka', 'Grilled hot dogs',\n",
              "       'Pinot noir, Beer, condoms, marijuana, NyQuil, absinthe, BBQ, hot wings, Frank’s Red Hot, Little Debbie, pineapple chunks',\n",
              "       'sixlets', \"Hershey's White Chocolate (yes, yes, I know...)\",\n",
              "       'Skor bar', 'Malteasers, Smoked Salmon',\n",
              "       'cans of pop/soda were always good', 'Rice crispy treats',\n",
              "       'Dairy Milk',\n",
              "       'Almond Joy, Tootsie Rolls, Tootsie Pops (chocolate), Gummi Worms, ',\n",
              "       'Cadbury milk chocolate',\n",
              "       'Almond M&Ms, Chunky bars, Raisinettes, candy Monster cigarettes, wax fangs and pop bottles, temporary tattoos, mini bubbles',\n",
              "       \"Xanax, toenail clippers, 1970's pornography, airline bottles of alcohol (NOT hotel bottles)\",\n",
              "       'Caramel Deviled eggs Cotton candy Candy cigarettes',\n",
              "       \"Peanut Butter M&M's\",\n",
              "       'more Cadbury Creme Eggs Cadbury Fruit and Nut bars Brachs Bridge Mix',\n",
              "       'Chubby Soft Drink, cans of pop, pixie sticks, Fun Dip, Aero, Warheads',\n",
              "       \"Hershey's cookies and cream bar\",\n",
              "       'Full sized candy bars. Dark chocolate.', 'Tootsie Pop', 'MOUNDS',\n",
              "       'Fun Dip',\n",
              "       \"Scratch Tickets, bitcoin and various other crypto, precious metals, personalized songs or haiku, oh shit dog you guys don't have Abbazabba or Big Hunk on your list .Those are the best.\",\n",
              "       'Porn',\n",
              "       'Charleston Chew Cigars Airplane size bottle of booze (Wild Turkey prefered) Shaving Cream in a can',\n",
              "       'APPLES', 'Almond Joy, Butterfingers, ',\n",
              "       \"Beer, Small Pumpkin, LED toys, Mini Reese's cups\",\n",
              "       'Twix, Kit-Kat, Ghiradelli',\n",
              "       'Cabernet, Merlot wines from Sonoma County. Free gasoline, a new car, perfectly seared ribeye steak with shrimp caesar salad, winning lotto ticket.',\n",
              "       'snack sized bags of chips (like lays)',\n",
              "       'Wax figures filled with sugar Water',\n",
              "       'deep fried everything encapsulated whatever packaged anything',\n",
              "       'Turkish Delight, Halva', 'Well carved pumpkins', 'Popcorn Balls',\n",
              "       'Martinis',\n",
              "       'Starbucks Gift Cards Chocolate Covered Bacon Scotch (liquid) Mini Babybell Cheese Lasagna',\n",
              "       'Wunderbars', 'a bottle of beer',\n",
              "       'Milky Way Midnight vs. plain Milky Way Goo Goo *Supreme* vs. plain Goo Goo Clusters Charms Blow Pops Tootsie Pops with that hydrogenated goodness in the center Turrón Swiss milk chocolate, even Swiss store brands Zero bar Wacky Packages (see Q9) Cotton candy',\n",
              "       'other forms of candy corn (pumpkin shaped, differently favored), root beer bottles',\n",
              "       'Almond Joys, Mounds',\n",
              "       'Peanut butter m&ms Tootsie roll pops Mounds',\n",
              "       'Tootsie rolls, wunderbar, everlasting gobstoppers, hubba bubba or bubbilicious gum',\n",
              "       \"Cadbury's ANYTHING\", 'Gummy Lifesavers', 'Bourbon, comic books',\n",
              "       'Sour Blue Big Foot candy, Rockets', 'PayDay Bars',\n",
              "       'Extra sharp aged cheddar, a good dry hard cider', 'Pot brownies.',\n",
              "       'Whoppers, Mounds, Almond Joy, crushing your enemies, seeing them driven before you, hearing the lamentation of their women',\n",
              "       'Although chocolate is tops, puzzles or games make for a nice inedible treat. Live music on the porch is a nice treat but it should never replace candy.',\n",
              "       'Tire sTe Catherine', 'Mochi, Everlasting Gobstopers', 'SKOR Bar.',\n",
              "       'Any chocolates with 60% cocoa or higher (especially sea salt and almond variants) Single Malt whiskys clearly labeled cannabis candies (Washington, Oregon, Colorado and elsewhere) vegan marshmallows Pocky!!!',\n",
              "       'Yogurt covered cranberries', 'english crunchy bar',\n",
              "       'Lifesaver Gummies Peanut Butter M&Ms',\n",
              "       'Most any dark chocolate derivative of popular candy bars: eg dark chocolate snickers!',\n",
              "       'Any form of gummy candy, sour candies', 'Irn-Bru, Tablet',\n",
              "       'People who understand your Halloween costume', 'Almond Joy!',\n",
              "       'Baby Ruth Bar', 'Black Crows', 'JujyFruit',\n",
              "       'Crispy Crunch; Oh Henry', '5th Avenue bar',\n",
              "       'peanut butter spooned into my mouth. barbiturates.',\n",
              "       'mini-packs of cookies (like what get put in lunches for school)',\n",
              "       'Women, Nail Clippers, Hot drinks with alcohol in them',\n",
              "       'Hershey cookies and cream, whoppers, pop rocks',\n",
              "       'Skor Any chocolate bar Can of pop Pop rocks',\n",
              "       \"Real chocolate is my passion. I don't expect it at Halloween though\",\n",
              "       'boobs',\n",
              "       'Charms Lollipops Tootsie Pops Dubble Bubble chewing gum.',\n",
              "       'Stickers', 'Sour Punch Straws (red or green)', 'True Love.',\n",
              "       'Glass bottle of soda pop, Brown Bag of Candy from a farm family who has the decency to get a town family to hand out candy on their behalf',\n",
              "       'Gobstoppers, unpopped bags of microwave popcorn, Nik-L-Nip Wax Bottles Candy (just weird but fun), Cola bottles gummies.',\n",
              "       'Almond Joy duh Also peanut butter M&Ms', 'Almond Joy, Mounds',\n",
              "       'Licorice All-Sorts ! https://en.wikipedia.org/wiki/Liquorice_allsorts',\n",
              "       'Brach\"s Neapolitain Coconut Chew Almond Joy Mounds Wax Bottles of Sweet Liquid Tootsie Pops Lik-a-stix',\n",
              "       'Freshly baked chocolate cookies would be nice.', 'Edibles',\n",
              "       'Foot rubs', \"Choco-tacos, Chocodiles, Twinkies, Hoho's, \",\n",
              "       'Werthers Original , double stuff oreos, ',\n",
              "       'Kettle corn, Oreo Cookies, Peanut Chew, Bloody Mary',\n",
              "       'Chocolate advent calendar crispy crunch (how could you forget) payday (USA only)',\n",
              "       \"Bowls of candy left on porch so you don't have to knock to score.\",\n",
              "       'Payday Bar', \"Kit Harrington's butt\",\n",
              "       'batteries (any size), Haribo fizzy cola, gummi worms, Underberg mini shots, sour warheads, nicotine patches, fortune cookies (with fortune)',\n",
              "       'clark bar almond joy mounds chunky slo-poke', 'Coffee ice cream',\n",
              "       'GREEN SKITTLES',\n",
              "       \"Bueno chocolate (mostly in Europe but can be found occasionally here) Justin's dark chocolate peanut butter cups\",\n",
              "       'large bags of chips (any flavour)', 'Gummy Worms',\n",
              "       'Local Craft Beer', \"MRE's!\", 'Mounds and Almond Joy',\n",
              "       'Buckeyes Maple syrup candy', 'Gum, Any sort.',\n",
              "       'Almond Joy, Mounds.Licorice Allsorts', 'My dog.',\n",
              "       '1969 Boss 302 Mustang', 'jokes, liquor!',\n",
              "       'Chocolate coffee beans', 'mello creme', 'Jar of nutella',\n",
              "       'Airline size bottles of Jack Daniels',\n",
              "       'Phish Tapes, Guitar Picks',\n",
              "       'Dark chocolate Chocolate with nuts Cookies Cupcakes Candied or caramel or chocolate-covered or similar apples on a stick',\n",
              "       'My Children', 'Food',\n",
              "       'These: https://www.candywarehouse.com/products/peanut-butter-bars-candy-3lb-bag/',\n",
              "       \"Reese's Peanut Butter Cups\",\n",
              "       'Anything with caffeine, individually packaged shots of liquor, caramel apples, Runts, Airheads, Fun Dip, jelly beans, Pop Rocks, glucose tablets',\n",
              "       \"watching dm4uz3's videos\", 'Live Rock Music', 'Fastbreak',\n",
              "       'Having good health insurance. The block button.',\n",
              "       'Candy necklaces, the big chewy sweet tarts',\n",
              "       'People who set up in their driveway to cook hotdogs or scones for trick-or-treaters.',\n",
              "       \"Safety suckers. I don't know what it is about the flavoring used for those loop-sticked suckers, but they are great!\",\n",
              "       \"Everlasting GobStoppers, Atomic Fire Balls, unethical massages, Bit O' Honey\",\n",
              "       'Jolly Rancher Chews',\n",
              "       'Baby Ruth, Cadbury Mini Eggs, Hershey with Almonds, ', 'daim',\n",
              "       'Homebrew served from garage-based kegs in big red Solo cups.',\n",
              "       'Maltesers; Milky Way Midnight; Tootsie Rolls; Tootsie Pops; most forms of chocolate',\n",
              "       'Gobbstoppers',\n",
              "       \"Shoving an entire Reese's Peanut Butter Cup into my mouth.\",\n",
              "       'Charleston Chew, Peanut Butter M&Ms',\n",
              "       'Grilled cheese, Calvin and Hobbes strips your dad cut out of the paper, washi tape, wooden nickels, pinecones, gerbils',\n",
              "       'Ferrero rocher', 'KITTENS', 'Rockets! The candy.',\n",
              "       '5th avenue   greatest candybar ever',\n",
              "       'bourbon, DVDs of Buffy the Vampire Slayer (all seasons), six-pack of Coca-Cola, hand-knit hat',\n",
              "       'Bonomo Turkish Taffy, Chuckles',\n",
              "       'Bit O Honey. And also Chuckles.',\n",
              "       'Tootsie Rolls, Pocky (any flavor).  ', 'Sexual favors.',\n",
              "       'Popcorn balls', 'My family steak, burgers, fries',\n",
              "       'Whoppers, or just a plastic jug filled with malted milk powder.',\n",
              "       'Cactus fruit, Pomeranian puppies, river rocks, semi-precious stones, gems, little parachute men, hopping frog toys, Amazon gift cards, muscle relaxers, high-quality medical marijuana, whiskey, cognac, cucumber vodka, ginger ale in a can, Slinky™, dinosaur figurines, religious relics, ancient Egyptian beads, trilobites and other fossils, ',\n",
              "       'Almond Joy, Mounds, Cadbury bars',\n",
              "       'Individually sized liquor bottles', 'skybars, Ritter Bars',\n",
              "       'Butter toffee pecans', 'Lindt Dark Chocolate, the snobby kind',\n",
              "       'Sunsets, puppies', 'MDMA',\n",
              "       'Almond Joy Alcohol Of Any Kind Whole Caramel Apples',\n",
              "       \"Theo brand dark chocolate, Endangered species brand dark chocolate (fair trade), chocolate oranges (the kind you whack), Almond Joy, Mounds, Blow Pops, Ring Pops, Haribo gummy bears, dried cranberries, dried cherries, chocolate covered almonds, chocolate covered blueberries, chocolate covered cherries, Dove small chocolates including salted caramel, Ghirardelli squares, those fruit-shaped hard candies in the round tins, those lavender pearl candies in the oval tin with the lady on it, Werther's butterscotch candies in the gold wrappers, Hershey's hugs (zebra striped wrappers), honey sticks \",\n",
              "       'grape flavor bubble gum', \"Goetze's Caramel Rolls - Rock Candy -\",\n",
              "       'Mounds, vanilla tootsie rolls, peanut butter m&ms',\n",
              "       'Cuddles with cats',\n",
              "       \"Peanut butter M&M's, Ghirardelli chocolates, wine, mint M&M's\",\n",
              "       'Root Beer Barrels Neapolitan Chews Spree Razzles Wax Bottles Tearjerkers',\n",
              "       'Butterfinger bars, sugar daddies, pocky, baby ruth, payday, tootsie rolls, jelly belly beans, Japanese kit kats. ',\n",
              "       'Milky Way Midnight',\n",
              "       'Freddos (the price of Freddos is absurd these days)',\n",
              "       'Almond Joy, Mounds, Chocolove bars, walks on the beach, cappuccino with croissant (at a Parisian cafe), candlelit dinners, swimming with dolphins (or manatees)',\n",
              "       'Caramels', 'Cherry BonBons (A.K.A. Granny candy)',\n",
              "       'dark chocolate with almonds, payday, ',\n",
              "       'SOUR sweet tarts... and Shock Tarts.... Whisky.', 'Toffifay',\n",
              "       'seeing kids have fun', 'Big Hunk Bars, the Ever Encroaching Void',\n",
              "       'Cow Tails/Caramel Creams',\n",
              "       'Almond JOY!  Raisinettes. Mounds. Oreos. \"Trick r Treat\" the movie. (NOT \"Trick or Treat\" the movie.) Counting and swapping candy. Cold and wind and blowing leaves and smoky fire places.',\n",
              "       'Payday bar, Ferrero Rocher, ', 'Little Debbie snack cakes.',\n",
              "       'halloween pumpkin candies, like candy corn.   suck it!   and stale hamentaschen',\n",
              "       \"1 lb Reese's Cup. It's real. Fresh watermelon slices. Lagavulin 16. Lingerie model.\",\n",
              "       'Good sex toys', 'kittens',\n",
              "       'Free trade organic milk chocolate bars. beer.',\n",
              "       'Things that fiit', 'Ergodox Keyboard',\n",
              "       'whoppers, hot tamales &  tootsie rolls', 'Mambas',\n",
              "       'Chuao Firecracker chocolate bar (anything by Chuao gives me intense joy feelings). Butterscotch. BUTTER RUM LIFESAVERS. Skor bar (superior to Heath bars, though I will gladly accept either. Preferably, both). Baci® Perugina® Dark. Anything filled with liquor, like chocolate, or tiny bottles. Pop Rocks.',\n",
              "       'Pez Alexander the Grape', 'Blow pops!', 'Peeps',\n",
              "       'salted caramels', 'Pumpkin candies (like candy corn)',\n",
              "       'carved pumpkins, ALMOND JOY (obviously), Coffee, Valomilk, Butterscotch',\n",
              "       \"Anything Reese's. Like a fast break. The mini cups.  Ferrero Rocher.\",\n",
              "       'Peanut butter M&Ms, peanut butter twix',\n",
              "       \"getting to sort the distribution of different types of candy after my friends' kids come back in from trick or treating. the smell of a carved pumpkin burning a little from the candle inside. wigwams, the totally racist chocolate bar i had as a kid that was strands of woven toffee covered in chocolate. \",\n",
              "       'can of pop, cool toys',\n",
              "       'Tiny bottles of maple syrup as given out by Cracker Barrel restaurants'],\n",
              "      dtype=object)"
            ]
          },
          "metadata": {},
          "execution_count": 493
        }
      ]
    },
    {
      "cell_type": "code",
      "source": [
        "df['Q7: joy other'].isnull().sum()"
      ],
      "metadata": {
        "id": "Njh4jEowdDR-",
        "colab": {
          "base_uri": "https://localhost:8080/"
        },
        "outputId": "be3de3de-7f05-43ae-a6f0-166090b8cc01"
      },
      "execution_count": 494,
      "outputs": [
        {
          "output_type": "execute_result",
          "data": {
            "text/plain": [
              "np.int64(1528)"
            ]
          },
          "metadata": {},
          "execution_count": 494
        }
      ]
    },
    {
      "cell_type": "code",
      "source": [
        "df=df.drop(columns=['Q7: joy other'])"
      ],
      "metadata": {
        "id": "bUTefQQhDHBy"
      },
      "execution_count": 495,
      "outputs": []
    },
    {
      "cell_type": "code",
      "source": [
        "df['Q8: despair other'].isnull().sum()"
      ],
      "metadata": {
        "colab": {
          "base_uri": "https://localhost:8080/"
        },
        "id": "ZLWu9u9jDNKx",
        "outputId": "51f3d8be-ce2b-4e94-fb48-5e58a02ca769"
      },
      "execution_count": 496,
      "outputs": [
        {
          "output_type": "execute_result",
          "data": {
            "text/plain": [
              "np.int64(1722)"
            ]
          },
          "metadata": {},
          "execution_count": 496
        }
      ]
    },
    {
      "cell_type": "code",
      "source": [
        "df=df.drop(columns=['Q8: despair other'])"
      ],
      "metadata": {
        "id": "P-8-oGpIDUUr"
      },
      "execution_count": 497,
      "outputs": []
    },
    {
      "cell_type": "code",
      "source": [
        "df['Q9: other comments'].isnull().sum()"
      ],
      "metadata": {
        "colab": {
          "base_uri": "https://localhost:8080/"
        },
        "id": "koxIC5qEDsAT",
        "outputId": "7de68d2d-1397-4555-9e2e-a1389dd3367d"
      },
      "execution_count": 498,
      "outputs": [
        {
          "output_type": "execute_result",
          "data": {
            "text/plain": [
              "np.int64(2053)"
            ]
          },
          "metadata": {},
          "execution_count": 498
        }
      ]
    },
    {
      "cell_type": "code",
      "source": [
        "df=df.drop(columns=['Q9: other comments'])"
      ],
      "metadata": {
        "id": "eipeI9UVK4v9"
      },
      "execution_count": 499,
      "outputs": []
    },
    {
      "cell_type": "code",
      "source": [
        "df['Q10: dress'].isnull().sum()"
      ],
      "metadata": {
        "colab": {
          "base_uri": "https://localhost:8080/"
        },
        "id": "oD6Fl7ucLO6D",
        "outputId": "d93ef386-4742-4093-a70f-6f7c5766a44c"
      },
      "execution_count": 500,
      "outputs": [
        {
          "output_type": "execute_result",
          "data": {
            "text/plain": [
              "np.int64(723)"
            ]
          },
          "metadata": {},
          "execution_count": 500
        }
      ]
    },
    {
      "cell_type": "code",
      "source": [
        "df['Q10: dress'].unique()"
      ],
      "metadata": {
        "colab": {
          "base_uri": "https://localhost:8080/"
        },
        "id": "IZIc9L-aLWd4",
        "outputId": "4b4f4341-fc1c-4a3f-849f-92e971a9f9f7"
      },
      "execution_count": 501,
      "outputs": [
        {
          "output_type": "execute_result",
          "data": {
            "text/plain": [
              "array(['White and gold', nan, 'Blue and black'], dtype=object)"
            ]
          },
          "metadata": {},
          "execution_count": 501
        }
      ]
    },
    {
      "cell_type": "code",
      "source": [
        "df['Q10: dress'].replace(np.nan,'Unknown',inplace=True)"
      ],
      "metadata": {
        "colab": {
          "base_uri": "https://localhost:8080/"
        },
        "id": "yuhAE53QV5CS",
        "outputId": "a4c975ff-1dea-44ea-f0d8-5843dca1968f"
      },
      "execution_count": 502,
      "outputs": [
        {
          "output_type": "stream",
          "name": "stderr",
          "text": [
            "/tmp/ipython-input-502-3810667938.py:1: FutureWarning: A value is trying to be set on a copy of a DataFrame or Series through chained assignment using an inplace method.\n",
            "The behavior will change in pandas 3.0. This inplace method will never work because the intermediate object on which we are setting values always behaves as a copy.\n",
            "\n",
            "For example, when doing 'df[col].method(value, inplace=True)', try using 'df.method({col: value}, inplace=True)' or df[col] = df[col].method(value) instead, to perform the operation inplace on the original object.\n",
            "\n",
            "\n",
            "  df['Q10: dress'].replace(np.nan,'Unknown',inplace=True)\n"
          ]
        }
      ]
    },
    {
      "cell_type": "code",
      "source": [
        "df['Q11: day'].isnull().sum()"
      ],
      "metadata": {
        "colab": {
          "base_uri": "https://localhost:8080/"
        },
        "id": "DCOAAORBWQ68",
        "outputId": "bc4830ef-3337-4a5d-d103-3f8c722fbaa8"
      },
      "execution_count": 503,
      "outputs": [
        {
          "output_type": "execute_result",
          "data": {
            "text/plain": [
              "np.int64(704)"
            ]
          },
          "metadata": {},
          "execution_count": 503
        }
      ]
    },
    {
      "cell_type": "code",
      "source": [
        "df['Q11: day'].unique()"
      ],
      "metadata": {
        "colab": {
          "base_uri": "https://localhost:8080/"
        },
        "id": "xuTRohR5WiMP",
        "outputId": "e2a33cff-476e-4e8a-a871-5e64aa507d6d"
      },
      "execution_count": 504,
      "outputs": [
        {
          "output_type": "execute_result",
          "data": {
            "text/plain": [
              "array(['Sunday', nan, 'Friday'], dtype=object)"
            ]
          },
          "metadata": {},
          "execution_count": 504
        }
      ]
    },
    {
      "cell_type": "code",
      "source": [
        "df['Q11: day'].replace(np.nan,'Unknown',inplace=True)"
      ],
      "metadata": {
        "colab": {
          "base_uri": "https://localhost:8080/"
        },
        "id": "gGM5ZD5yWl2i",
        "outputId": "66f8d201-28c4-454a-9d34-e0280fa74ff4"
      },
      "execution_count": 505,
      "outputs": [
        {
          "output_type": "stream",
          "name": "stderr",
          "text": [
            "/tmp/ipython-input-505-2452173286.py:1: FutureWarning: A value is trying to be set on a copy of a DataFrame or Series through chained assignment using an inplace method.\n",
            "The behavior will change in pandas 3.0. This inplace method will never work because the intermediate object on which we are setting values always behaves as a copy.\n",
            "\n",
            "For example, when doing 'df[col].method(value, inplace=True)', try using 'df.method({col: value}, inplace=True)' or df[col] = df[col].method(value) instead, to perform the operation inplace on the original object.\n",
            "\n",
            "\n",
            "  df['Q11: day'].replace(np.nan,'Unknown',inplace=True)\n"
          ]
        }
      ]
    },
    {
      "cell_type": "code",
      "source": [
        "def clean_df(df):\n",
        "  Q6_columns=[col for col in df.columns if col.startswith('Q6')]\n",
        "  df[Q6_columns] = df[Q6_columns].apply(lambda x: x.str.capitalize() if x.dtype == 'object' else x)\n",
        "  df[Q6_columns] = df[Q6_columns].fillna('Meh')\n",
        "  return df\n",
        "df=clean_df(df)"
      ],
      "metadata": {
        "id": "lX9RY86WWsJh"
      },
      "execution_count": 506,
      "outputs": []
    },
    {
      "cell_type": "code",
      "source": [
        "df.head()"
      ],
      "metadata": {
        "colab": {
          "base_uri": "https://localhost:8080/",
          "height": 533
        },
        "id": "WJQyR5hoyKOm",
        "outputId": "2102dcfc-9be8-4dd5-b725-6cf8faea7d4c"
      },
      "execution_count": 507,
      "outputs": [
        {
          "output_type": "execute_result",
          "data": {
            "text/plain": [
              "  Q1: going out? Q2: gender  Q3: age    Q4: country Q5: state/province  \\\n",
              "1             No       Male       44  United States         New Mexico   \n",
              "2        Unknown       Male       49  United States           Virginia   \n",
              "3             No       Male       40  United States             Oregon   \n",
              "4             No       Male       23  United States            Unknown   \n",
              "5             No       Male     <NA>        Unknown            Unknown   \n",
              "\n",
              "  Q6 | 100 Grand Bar  \\\n",
              "1                Meh   \n",
              "2                Meh   \n",
              "3                Meh   \n",
              "4                Joy   \n",
              "5                Joy   \n",
              "\n",
              "  Q6 | Anonymous brown globs that come in black and orange wrappers\\t(a.k.a. Mary Janes)  \\\n",
              "1                                            Despair                                       \n",
              "2                                                Meh                                       \n",
              "3                                            Despair                                       \n",
              "4                                            Despair                                       \n",
              "5                                            Despair                                       \n",
              "\n",
              "  Q6 | Any full-sized candy bar Q6 | Black Jacks Q6 | Bonkers (the candy)  \\\n",
              "1                           Joy              Meh                  Despair   \n",
              "2                           Meh              Meh                      Meh   \n",
              "3                           Joy              Meh                      Meh   \n",
              "4                           Joy          Despair                      Meh   \n",
              "5                           Joy              Meh                      Meh   \n",
              "\n",
              "   ... Q6 | Trail Mix Q6 | Twix  \\\n",
              "1  ...        Despair       Joy   \n",
              "2  ...            Meh       Meh   \n",
              "3  ...            Meh       Joy   \n",
              "4  ...        Despair       Joy   \n",
              "5  ...            Meh       Joy   \n",
              "\n",
              "  Q6 | Vials of pure high fructose corn syrup, for main-lining into your vein  \\\n",
              "1                                            Despair                            \n",
              "2                                                Meh                            \n",
              "3                                            Despair                            \n",
              "4                                                Meh                            \n",
              "5                                            Despair                            \n",
              "\n",
              "  Q6 | Vicodin Q6 | Whatchamacallit Bars Q6 | White Bread  \\\n",
              "1      Despair                   Despair          Despair   \n",
              "2          Meh                       Meh              Meh   \n",
              "3          Joy                       Joy          Despair   \n",
              "4          Joy                       Joy          Despair   \n",
              "5      Despair                       Joy          Despair   \n",
              "\n",
              "  Q6 | Whole Wheat anything Q6 | York Peppermint Patties      Q10: dress  \\\n",
              "1                   Despair                      Despair  White and gold   \n",
              "2                       Meh                          Meh         Unknown   \n",
              "3                   Despair                      Despair  White and gold   \n",
              "4                   Despair                          Joy  White and gold   \n",
              "5                   Despair                          Joy         Unknown   \n",
              "\n",
              "  Q11: day  \n",
              "1   Sunday  \n",
              "2  Unknown  \n",
              "3   Sunday  \n",
              "4   Friday  \n",
              "5  Unknown  \n",
              "\n",
              "[5 rows x 110 columns]"
            ],
            "text/html": [
              "\n",
              "  <div id=\"df-05be7c61-4eb3-4941-ad98-eb062313a3a1\" class=\"colab-df-container\">\n",
              "    <div>\n",
              "<style scoped>\n",
              "    .dataframe tbody tr th:only-of-type {\n",
              "        vertical-align: middle;\n",
              "    }\n",
              "\n",
              "    .dataframe tbody tr th {\n",
              "        vertical-align: top;\n",
              "    }\n",
              "\n",
              "    .dataframe thead th {\n",
              "        text-align: right;\n",
              "    }\n",
              "</style>\n",
              "<table border=\"1\" class=\"dataframe\">\n",
              "  <thead>\n",
              "    <tr style=\"text-align: right;\">\n",
              "      <th></th>\n",
              "      <th>Q1: going out?</th>\n",
              "      <th>Q2: gender</th>\n",
              "      <th>Q3: age</th>\n",
              "      <th>Q4: country</th>\n",
              "      <th>Q5: state/province</th>\n",
              "      <th>Q6 | 100 Grand Bar</th>\n",
              "      <th>Q6 | Anonymous brown globs that come in black and orange wrappers\\t(a.k.a. Mary Janes)</th>\n",
              "      <th>Q6 | Any full-sized candy bar</th>\n",
              "      <th>Q6 | Black Jacks</th>\n",
              "      <th>Q6 | Bonkers (the candy)</th>\n",
              "      <th>...</th>\n",
              "      <th>Q6 | Trail Mix</th>\n",
              "      <th>Q6 | Twix</th>\n",
              "      <th>Q6 | Vials of pure high fructose corn syrup, for main-lining into your vein</th>\n",
              "      <th>Q6 | Vicodin</th>\n",
              "      <th>Q6 | Whatchamacallit Bars</th>\n",
              "      <th>Q6 | White Bread</th>\n",
              "      <th>Q6 | Whole Wheat anything</th>\n",
              "      <th>Q6 | York Peppermint Patties</th>\n",
              "      <th>Q10: dress</th>\n",
              "      <th>Q11: day</th>\n",
              "    </tr>\n",
              "  </thead>\n",
              "  <tbody>\n",
              "    <tr>\n",
              "      <th>1</th>\n",
              "      <td>No</td>\n",
              "      <td>Male</td>\n",
              "      <td>44</td>\n",
              "      <td>United States</td>\n",
              "      <td>New Mexico</td>\n",
              "      <td>Meh</td>\n",
              "      <td>Despair</td>\n",
              "      <td>Joy</td>\n",
              "      <td>Meh</td>\n",
              "      <td>Despair</td>\n",
              "      <td>...</td>\n",
              "      <td>Despair</td>\n",
              "      <td>Joy</td>\n",
              "      <td>Despair</td>\n",
              "      <td>Despair</td>\n",
              "      <td>Despair</td>\n",
              "      <td>Despair</td>\n",
              "      <td>Despair</td>\n",
              "      <td>Despair</td>\n",
              "      <td>White and gold</td>\n",
              "      <td>Sunday</td>\n",
              "    </tr>\n",
              "    <tr>\n",
              "      <th>2</th>\n",
              "      <td>Unknown</td>\n",
              "      <td>Male</td>\n",
              "      <td>49</td>\n",
              "      <td>United States</td>\n",
              "      <td>Virginia</td>\n",
              "      <td>Meh</td>\n",
              "      <td>Meh</td>\n",
              "      <td>Meh</td>\n",
              "      <td>Meh</td>\n",
              "      <td>Meh</td>\n",
              "      <td>...</td>\n",
              "      <td>Meh</td>\n",
              "      <td>Meh</td>\n",
              "      <td>Meh</td>\n",
              "      <td>Meh</td>\n",
              "      <td>Meh</td>\n",
              "      <td>Meh</td>\n",
              "      <td>Meh</td>\n",
              "      <td>Meh</td>\n",
              "      <td>Unknown</td>\n",
              "      <td>Unknown</td>\n",
              "    </tr>\n",
              "    <tr>\n",
              "      <th>3</th>\n",
              "      <td>No</td>\n",
              "      <td>Male</td>\n",
              "      <td>40</td>\n",
              "      <td>United States</td>\n",
              "      <td>Oregon</td>\n",
              "      <td>Meh</td>\n",
              "      <td>Despair</td>\n",
              "      <td>Joy</td>\n",
              "      <td>Meh</td>\n",
              "      <td>Meh</td>\n",
              "      <td>...</td>\n",
              "      <td>Meh</td>\n",
              "      <td>Joy</td>\n",
              "      <td>Despair</td>\n",
              "      <td>Joy</td>\n",
              "      <td>Joy</td>\n",
              "      <td>Despair</td>\n",
              "      <td>Despair</td>\n",
              "      <td>Despair</td>\n",
              "      <td>White and gold</td>\n",
              "      <td>Sunday</td>\n",
              "    </tr>\n",
              "    <tr>\n",
              "      <th>4</th>\n",
              "      <td>No</td>\n",
              "      <td>Male</td>\n",
              "      <td>23</td>\n",
              "      <td>United States</td>\n",
              "      <td>Unknown</td>\n",
              "      <td>Joy</td>\n",
              "      <td>Despair</td>\n",
              "      <td>Joy</td>\n",
              "      <td>Despair</td>\n",
              "      <td>Meh</td>\n",
              "      <td>...</td>\n",
              "      <td>Despair</td>\n",
              "      <td>Joy</td>\n",
              "      <td>Meh</td>\n",
              "      <td>Joy</td>\n",
              "      <td>Joy</td>\n",
              "      <td>Despair</td>\n",
              "      <td>Despair</td>\n",
              "      <td>Joy</td>\n",
              "      <td>White and gold</td>\n",
              "      <td>Friday</td>\n",
              "    </tr>\n",
              "    <tr>\n",
              "      <th>5</th>\n",
              "      <td>No</td>\n",
              "      <td>Male</td>\n",
              "      <td>&lt;NA&gt;</td>\n",
              "      <td>Unknown</td>\n",
              "      <td>Unknown</td>\n",
              "      <td>Joy</td>\n",
              "      <td>Despair</td>\n",
              "      <td>Joy</td>\n",
              "      <td>Meh</td>\n",
              "      <td>Meh</td>\n",
              "      <td>...</td>\n",
              "      <td>Meh</td>\n",
              "      <td>Joy</td>\n",
              "      <td>Despair</td>\n",
              "      <td>Despair</td>\n",
              "      <td>Joy</td>\n",
              "      <td>Despair</td>\n",
              "      <td>Despair</td>\n",
              "      <td>Joy</td>\n",
              "      <td>Unknown</td>\n",
              "      <td>Unknown</td>\n",
              "    </tr>\n",
              "  </tbody>\n",
              "</table>\n",
              "<p>5 rows × 110 columns</p>\n",
              "</div>\n",
              "    <div class=\"colab-df-buttons\">\n",
              "\n",
              "  <div class=\"colab-df-container\">\n",
              "    <button class=\"colab-df-convert\" onclick=\"convertToInteractive('df-05be7c61-4eb3-4941-ad98-eb062313a3a1')\"\n",
              "            title=\"Convert this dataframe to an interactive table.\"\n",
              "            style=\"display:none;\">\n",
              "\n",
              "  <svg xmlns=\"http://www.w3.org/2000/svg\" height=\"24px\" viewBox=\"0 -960 960 960\">\n",
              "    <path d=\"M120-120v-720h720v720H120Zm60-500h600v-160H180v160Zm220 220h160v-160H400v160Zm0 220h160v-160H400v160ZM180-400h160v-160H180v160Zm440 0h160v-160H620v160ZM180-180h160v-160H180v160Zm440 0h160v-160H620v160Z\"/>\n",
              "  </svg>\n",
              "    </button>\n",
              "\n",
              "  <style>\n",
              "    .colab-df-container {\n",
              "      display:flex;\n",
              "      gap: 12px;\n",
              "    }\n",
              "\n",
              "    .colab-df-convert {\n",
              "      background-color: #E8F0FE;\n",
              "      border: none;\n",
              "      border-radius: 50%;\n",
              "      cursor: pointer;\n",
              "      display: none;\n",
              "      fill: #1967D2;\n",
              "      height: 32px;\n",
              "      padding: 0 0 0 0;\n",
              "      width: 32px;\n",
              "    }\n",
              "\n",
              "    .colab-df-convert:hover {\n",
              "      background-color: #E2EBFA;\n",
              "      box-shadow: 0px 1px 2px rgba(60, 64, 67, 0.3), 0px 1px 3px 1px rgba(60, 64, 67, 0.15);\n",
              "      fill: #174EA6;\n",
              "    }\n",
              "\n",
              "    .colab-df-buttons div {\n",
              "      margin-bottom: 4px;\n",
              "    }\n",
              "\n",
              "    [theme=dark] .colab-df-convert {\n",
              "      background-color: #3B4455;\n",
              "      fill: #D2E3FC;\n",
              "    }\n",
              "\n",
              "    [theme=dark] .colab-df-convert:hover {\n",
              "      background-color: #434B5C;\n",
              "      box-shadow: 0px 1px 3px 1px rgba(0, 0, 0, 0.15);\n",
              "      filter: drop-shadow(0px 1px 2px rgba(0, 0, 0, 0.3));\n",
              "      fill: #FFFFFF;\n",
              "    }\n",
              "  </style>\n",
              "\n",
              "    <script>\n",
              "      const buttonEl =\n",
              "        document.querySelector('#df-05be7c61-4eb3-4941-ad98-eb062313a3a1 button.colab-df-convert');\n",
              "      buttonEl.style.display =\n",
              "        google.colab.kernel.accessAllowed ? 'block' : 'none';\n",
              "\n",
              "      async function convertToInteractive(key) {\n",
              "        const element = document.querySelector('#df-05be7c61-4eb3-4941-ad98-eb062313a3a1');\n",
              "        const dataTable =\n",
              "          await google.colab.kernel.invokeFunction('convertToInteractive',\n",
              "                                                    [key], {});\n",
              "        if (!dataTable) return;\n",
              "\n",
              "        const docLinkHtml = 'Like what you see? Visit the ' +\n",
              "          '<a target=\"_blank\" href=https://colab.research.google.com/notebooks/data_table.ipynb>data table notebook</a>'\n",
              "          + ' to learn more about interactive tables.';\n",
              "        element.innerHTML = '';\n",
              "        dataTable['output_type'] = 'display_data';\n",
              "        await google.colab.output.renderOutput(dataTable, element);\n",
              "        const docLink = document.createElement('div');\n",
              "        docLink.innerHTML = docLinkHtml;\n",
              "        element.appendChild(docLink);\n",
              "      }\n",
              "    </script>\n",
              "  </div>\n",
              "\n",
              "\n",
              "    <div id=\"df-3d210b3a-550c-4f8e-a6ef-347c8746dc3c\">\n",
              "      <button class=\"colab-df-quickchart\" onclick=\"quickchart('df-3d210b3a-550c-4f8e-a6ef-347c8746dc3c')\"\n",
              "                title=\"Suggest charts\"\n",
              "                style=\"display:none;\">\n",
              "\n",
              "<svg xmlns=\"http://www.w3.org/2000/svg\" height=\"24px\"viewBox=\"0 0 24 24\"\n",
              "     width=\"24px\">\n",
              "    <g>\n",
              "        <path d=\"M19 3H5c-1.1 0-2 .9-2 2v14c0 1.1.9 2 2 2h14c1.1 0 2-.9 2-2V5c0-1.1-.9-2-2-2zM9 17H7v-7h2v7zm4 0h-2V7h2v10zm4 0h-2v-4h2v4z\"/>\n",
              "    </g>\n",
              "</svg>\n",
              "      </button>\n",
              "\n",
              "<style>\n",
              "  .colab-df-quickchart {\n",
              "      --bg-color: #E8F0FE;\n",
              "      --fill-color: #1967D2;\n",
              "      --hover-bg-color: #E2EBFA;\n",
              "      --hover-fill-color: #174EA6;\n",
              "      --disabled-fill-color: #AAA;\n",
              "      --disabled-bg-color: #DDD;\n",
              "  }\n",
              "\n",
              "  [theme=dark] .colab-df-quickchart {\n",
              "      --bg-color: #3B4455;\n",
              "      --fill-color: #D2E3FC;\n",
              "      --hover-bg-color: #434B5C;\n",
              "      --hover-fill-color: #FFFFFF;\n",
              "      --disabled-bg-color: #3B4455;\n",
              "      --disabled-fill-color: #666;\n",
              "  }\n",
              "\n",
              "  .colab-df-quickchart {\n",
              "    background-color: var(--bg-color);\n",
              "    border: none;\n",
              "    border-radius: 50%;\n",
              "    cursor: pointer;\n",
              "    display: none;\n",
              "    fill: var(--fill-color);\n",
              "    height: 32px;\n",
              "    padding: 0;\n",
              "    width: 32px;\n",
              "  }\n",
              "\n",
              "  .colab-df-quickchart:hover {\n",
              "    background-color: var(--hover-bg-color);\n",
              "    box-shadow: 0 1px 2px rgba(60, 64, 67, 0.3), 0 1px 3px 1px rgba(60, 64, 67, 0.15);\n",
              "    fill: var(--button-hover-fill-color);\n",
              "  }\n",
              "\n",
              "  .colab-df-quickchart-complete:disabled,\n",
              "  .colab-df-quickchart-complete:disabled:hover {\n",
              "    background-color: var(--disabled-bg-color);\n",
              "    fill: var(--disabled-fill-color);\n",
              "    box-shadow: none;\n",
              "  }\n",
              "\n",
              "  .colab-df-spinner {\n",
              "    border: 2px solid var(--fill-color);\n",
              "    border-color: transparent;\n",
              "    border-bottom-color: var(--fill-color);\n",
              "    animation:\n",
              "      spin 1s steps(1) infinite;\n",
              "  }\n",
              "\n",
              "  @keyframes spin {\n",
              "    0% {\n",
              "      border-color: transparent;\n",
              "      border-bottom-color: var(--fill-color);\n",
              "      border-left-color: var(--fill-color);\n",
              "    }\n",
              "    20% {\n",
              "      border-color: transparent;\n",
              "      border-left-color: var(--fill-color);\n",
              "      border-top-color: var(--fill-color);\n",
              "    }\n",
              "    30% {\n",
              "      border-color: transparent;\n",
              "      border-left-color: var(--fill-color);\n",
              "      border-top-color: var(--fill-color);\n",
              "      border-right-color: var(--fill-color);\n",
              "    }\n",
              "    40% {\n",
              "      border-color: transparent;\n",
              "      border-right-color: var(--fill-color);\n",
              "      border-top-color: var(--fill-color);\n",
              "    }\n",
              "    60% {\n",
              "      border-color: transparent;\n",
              "      border-right-color: var(--fill-color);\n",
              "    }\n",
              "    80% {\n",
              "      border-color: transparent;\n",
              "      border-right-color: var(--fill-color);\n",
              "      border-bottom-color: var(--fill-color);\n",
              "    }\n",
              "    90% {\n",
              "      border-color: transparent;\n",
              "      border-bottom-color: var(--fill-color);\n",
              "    }\n",
              "  }\n",
              "</style>\n",
              "\n",
              "      <script>\n",
              "        async function quickchart(key) {\n",
              "          const quickchartButtonEl =\n",
              "            document.querySelector('#' + key + ' button');\n",
              "          quickchartButtonEl.disabled = true;  // To prevent multiple clicks.\n",
              "          quickchartButtonEl.classList.add('colab-df-spinner');\n",
              "          try {\n",
              "            const charts = await google.colab.kernel.invokeFunction(\n",
              "                'suggestCharts', [key], {});\n",
              "          } catch (error) {\n",
              "            console.error('Error during call to suggestCharts:', error);\n",
              "          }\n",
              "          quickchartButtonEl.classList.remove('colab-df-spinner');\n",
              "          quickchartButtonEl.classList.add('colab-df-quickchart-complete');\n",
              "        }\n",
              "        (() => {\n",
              "          let quickchartButtonEl =\n",
              "            document.querySelector('#df-3d210b3a-550c-4f8e-a6ef-347c8746dc3c button');\n",
              "          quickchartButtonEl.style.display =\n",
              "            google.colab.kernel.accessAllowed ? 'block' : 'none';\n",
              "        })();\n",
              "      </script>\n",
              "    </div>\n",
              "\n",
              "    </div>\n",
              "  </div>\n"
            ],
            "application/vnd.google.colaboratory.intrinsic+json": {
              "type": "dataframe",
              "variable_name": "df"
            }
          },
          "metadata": {},
          "execution_count": 507
        }
      ]
    },
    {
      "cell_type": "code",
      "source": [
        "Q6_columns = [col for col in df.columns if col.startswith('Q6')]\n",
        "for col in Q6_columns:\n",
        "        print(f\"{col}: {df[col].unique()}\")"
      ],
      "metadata": {
        "colab": {
          "base_uri": "https://localhost:8080/"
        },
        "id": "bT_OQgDIzOI4",
        "outputId": "d55794a6-6819-429c-f8f7-76a1900e38e9"
      },
      "execution_count": 508,
      "outputs": [
        {
          "output_type": "stream",
          "name": "stdout",
          "text": [
            "Q6 | 100 Grand Bar: ['Meh' 'Joy' 'Despair']\n",
            "Q6 | Anonymous brown globs that come in black and orange wrappers\t(a.k.a. Mary Janes): ['Despair' 'Meh' 'Joy']\n",
            "Q6 | Any full-sized candy bar: ['Joy' 'Meh' 'Despair']\n",
            "Q6 | Black Jacks: ['Meh' 'Despair' 'Joy']\n",
            "Q6 | Bonkers (the candy): ['Despair' 'Meh' 'Joy']\n",
            "Q6 | Bonkers (the board game): ['Despair' 'Meh' 'Joy']\n",
            "Q6 | Bottle Caps: ['Despair' 'Meh' 'Joy']\n",
            "Q6 | Box'o'Raisins: ['Despair' 'Meh' 'Joy']\n",
            "Q6 | Broken glow stick: ['Despair' 'Meh' 'Joy']\n",
            "Q6 | Butterfinger: ['Despair' 'Meh' 'Joy']\n",
            "Q6 | Cadbury Creme Eggs: ['Meh' 'Despair' 'Joy']\n",
            "Q6 | Candy Corn: ['Meh' 'Despair' 'Joy']\n",
            "Q6 | Candy that is clearly just the stuff given out for free at restaurants: ['Despair' 'Meh' 'Joy']\n",
            "Q6 | Caramellos: ['Meh' 'Joy' 'Despair']\n",
            "Q6 | Cash, or other forms of legal tender: ['Joy' 'Meh' 'Despair']\n",
            "Q6 | Chardonnay: ['Meh' 'Joy' 'Despair']\n",
            "Q6 | Chick-o-Sticks: ['Despair' 'Meh' 'Joy']\n",
            "Q6 | Chiclets: ['Despair' 'Meh' 'Joy']\n",
            "Q6 | Coffee Crisp: ['Despair' 'Meh' 'Joy']\n",
            "Q6 | Creepy Religious comics/Chick Tracts: ['Despair' 'Meh' 'Joy']\n",
            "Q6 | Dental paraphenalia: ['Despair' 'Meh' 'Joy']\n",
            "Q6 | Dots: ['Meh' 'Joy' 'Despair']\n",
            "Q6 | Dove Bars: ['Joy' 'Meh' 'Despair']\n",
            "Q6 | Fuzzy Peaches: ['Despair' 'Meh' 'Joy']\n",
            "Q6 | Generic Brand Acetaminophen: ['Despair' 'Meh' 'Joy']\n",
            "Q6 | Glow sticks: ['Despair' 'Meh' 'Joy']\n",
            "Q6 | Goo Goo Clusters: ['Despair' 'Meh' 'Joy']\n",
            "Q6 | Good N' Plenty: ['Meh' 'Despair' 'Joy']\n",
            "Q6 | Gum from baseball cards: ['Despair' 'Meh' 'Joy']\n",
            "Q6 | Gummy Bears straight up: ['Meh' 'Joy' 'Despair']\n",
            "Q6 | Hard Candy: ['Meh' 'Despair' 'Joy']\n",
            "Q6 | Healthy Fruit: ['Despair' 'Meh' 'Joy']\n",
            "Q6 | Heath Bar: ['Meh' 'Despair' 'Joy']\n",
            "Q6 | Hershey's Dark Chocolate: ['Joy' 'Meh' 'Despair']\n",
            "Q6 | Hershey Milk Chocolate: ['Joy' 'Meh' 'Despair']\n",
            "Q6 | Hershey's Kisses: ['Meh' 'Joy' 'Despair']\n",
            "Q6 | Hugs (actual physical hugs): ['Despair' 'Meh' 'Joy']\n",
            "Q6 | Jolly Rancher (bad flavor): ['Despair' 'Meh' 'Joy']\n",
            "Q6 | Jolly Ranchers (good flavor): ['Meh' 'Joy' 'Despair']\n",
            "Q6 | JoyJoy (Mit Iodine!): ['Despair' 'Meh' 'Joy']\n",
            "Q6 | Junior Mints: ['Despair' 'Meh' 'Joy']\n",
            "Q6 | Senior Mints: ['Despair' 'Meh' 'Joy']\n",
            "Q6 | Kale smoothie: ['Despair' 'Meh' 'Joy']\n",
            "Q6 | Kinder Happy Hippo: ['Despair' 'Meh' 'Joy']\n",
            "Q6 | Kit Kat: ['Joy' 'Meh' 'Despair']\n",
            "Q6 | LaffyTaffy: ['Despair' 'Meh' 'Joy']\n",
            "Q6 | LemonHeads: ['Meh' 'Joy' 'Despair']\n",
            "Q6 | Licorice (not black): ['Meh' 'Joy' 'Despair']\n",
            "Q6 | Licorice (yes black): ['Joy' 'Meh' 'Despair']\n",
            "Q6 | Lindt Truffle: ['Meh' 'Joy' 'Despair']\n",
            "Q6 | Lollipops: ['Despair' 'Meh' 'Joy']\n",
            "Q6 | Mars: ['Despair' 'Meh' 'Joy']\n",
            "Q6 | Maynards: ['Despair' 'Meh' 'Joy']\n",
            "Q6 | Mike and Ike: ['Meh' 'Joy' 'Despair']\n",
            "Q6 | Milk Duds: ['Meh' 'Despair' 'Joy']\n",
            "Q6 | Milky Way: ['Joy' 'Meh' 'Despair']\n",
            "Q6 | Regular M&Ms: ['Joy' 'Meh' 'Despair']\n",
            "Q6 | Peanut M&M's: ['Meh' 'Joy' 'Despair']\n",
            "Q6 | Blue M&M's: ['Joy' 'Meh' 'Despair']\n",
            "Q6 | Red M&M's: ['Joy' 'Meh' 'Despair']\n",
            "Q6 | Green Party M&M's: ['Joy' 'Meh' 'Despair']\n",
            "Q6 | Independent M&M's: ['Joy' 'Meh' 'Despair']\n",
            "Q6 | Abstained from M&M'ing.: ['Despair' 'Meh' 'Joy']\n",
            "Q6 | Minibags of chips: ['Despair' 'Meh' 'Joy']\n",
            "Q6 | Mint Kisses: ['Meh' 'Despair' 'Joy']\n",
            "Q6 | Mint Juleps: ['Despair' 'Meh' 'Joy']\n",
            "Q6 | Mr. Goodbar: ['Despair' 'Meh' 'Joy']\n",
            "Q6 | Necco Wafers: ['Despair' 'Meh' 'Joy']\n",
            "Q6 | Nerds: ['Despair' 'Meh' 'Joy']\n",
            "Q6 | Nestle Crunch: ['Joy' 'Meh' 'Despair']\n",
            "Q6 | Now'n'Laters: ['Despair' 'Meh' 'Joy']\n",
            "Q6 | Peeps: ['Despair' 'Meh' 'Joy']\n",
            "Q6 | Pencils: ['Despair' 'Meh' 'Joy']\n",
            "Q6 | Pixy Stix: ['Despair' 'Meh' 'Joy']\n",
            "Q6 | Real Housewives of Orange County Season 9 Blue-Ray: ['Despair' 'Meh' 'Joy']\n",
            "Q6 | Reese's Peanut Butter Cups: ['Joy' 'Meh' 'Despair']\n",
            "Q6 | Reese's Pieces: ['Joy' 'Meh' 'Despair']\n",
            "Q6 | Reggie Jackson Bar: ['Despair' 'Meh' 'Joy']\n",
            "Q6 | Rolos: ['Joy' 'Meh' 'Despair']\n",
            "Q6 | Sandwich-sized bags filled with BooBerry Crunch: ['Despair' 'Meh' 'Joy']\n",
            "Q6 | Skittles: ['Despair' 'Meh' 'Joy']\n",
            "Q6 | Smarties (American): ['Despair' 'Meh' 'Joy']\n",
            "Q6 | Smarties (Commonwealth): ['Despair' 'Meh' 'Joy']\n",
            "Q6 | Snickers: ['Meh' 'Joy' 'Despair']\n",
            "Q6 | Sourpatch Kids (i.e. abominations of nature): ['Despair' 'Meh' 'Joy']\n",
            "Q6 | Spotted Dick: ['Despair' 'Meh' 'Joy']\n",
            "Q6 | Starburst: ['Meh' 'Joy' 'Despair']\n",
            "Q6 | Sweet Tarts: ['Despair' 'Meh' 'Joy']\n",
            "Q6 | Swedish Fish: ['Meh' 'Joy' 'Despair']\n",
            "Q6 | Sweetums (a friend to diabetes): ['Despair' 'Meh' 'Joy']\n",
            "Q6 | Take 5: ['Despair' 'Meh' 'Joy']\n",
            "Q6 | Tic Tacs: ['Despair' 'Meh' 'Joy']\n",
            "Q6 | Those odd marshmallow circus peanut things: ['Despair' 'Meh' 'Joy']\n",
            "Q6 | Three Musketeers: ['Joy' 'Meh' 'Despair']\n",
            "Q6 | Tolberone something or other: ['Joy' 'Meh' 'Despair']\n",
            "Q6 | Trail Mix: ['Despair' 'Meh' 'Joy']\n",
            "Q6 | Twix: ['Joy' 'Meh' 'Despair']\n",
            "Q6 | Vials of pure high fructose corn syrup, for main-lining into your vein: ['Despair' 'Meh' 'Joy']\n",
            "Q6 | Vicodin: ['Despair' 'Meh' 'Joy']\n",
            "Q6 | Whatchamacallit Bars: ['Despair' 'Meh' 'Joy']\n",
            "Q6 | White Bread: ['Despair' 'Meh' 'Joy']\n",
            "Q6 | Whole Wheat anything: ['Despair' 'Meh' 'Joy']\n",
            "Q6 | York Peppermint Patties: ['Despair' 'Meh' 'Joy']\n"
          ]
        }
      ]
    },
    {
      "cell_type": "code",
      "source": [
        "def clean_column_names(df):\n",
        "    new_columns = []\n",
        "    for col in df.columns:\n",
        "        if '|' in col:\n",
        "            new_col = col.split('|', 1)[1].strip()\n",
        "        elif ':' in col:\n",
        "            new_col = col.split(':', 1)[1].strip()\n",
        "        else:\n",
        "            new_col = col.strip()\n",
        "        new_columns.append(new_col)\n",
        "    df.columns = new_columns\n",
        "    return df\n",
        "\n",
        "df = clean_column_names(df)\n",
        "df.head()"
      ],
      "metadata": {
        "colab": {
          "base_uri": "https://localhost:8080/",
          "height": 516
        },
        "id": "PesHoew1IeMr",
        "outputId": "79ec5c93-1f27-49d9-f9c4-d3af463e6af0"
      },
      "execution_count": 509,
      "outputs": [
        {
          "output_type": "execute_result",
          "data": {
            "text/plain": [
              "  going out? gender   age        country state/province 100 Grand Bar  \\\n",
              "1         No   Male    44  United States     New Mexico           Meh   \n",
              "2    Unknown   Male    49  United States       Virginia           Meh   \n",
              "3         No   Male    40  United States         Oregon           Meh   \n",
              "4         No   Male    23  United States        Unknown           Joy   \n",
              "5         No   Male  <NA>        Unknown        Unknown           Joy   \n",
              "\n",
              "  Anonymous brown globs that come in black and orange wrappers\\t(a.k.a. Mary Janes)  \\\n",
              "1                                            Despair                                  \n",
              "2                                                Meh                                  \n",
              "3                                            Despair                                  \n",
              "4                                            Despair                                  \n",
              "5                                            Despair                                  \n",
              "\n",
              "  Any full-sized candy bar Black Jacks Bonkers (the candy)  ... Trail Mix  \\\n",
              "1                      Joy         Meh             Despair  ...   Despair   \n",
              "2                      Meh         Meh                 Meh  ...       Meh   \n",
              "3                      Joy         Meh                 Meh  ...       Meh   \n",
              "4                      Joy     Despair                 Meh  ...   Despair   \n",
              "5                      Joy         Meh                 Meh  ...       Meh   \n",
              "\n",
              "  Twix Vials of pure high fructose corn syrup, for main-lining into your vein  \\\n",
              "1  Joy                                            Despair                       \n",
              "2  Meh                                                Meh                       \n",
              "3  Joy                                            Despair                       \n",
              "4  Joy                                                Meh                       \n",
              "5  Joy                                            Despair                       \n",
              "\n",
              "   Vicodin Whatchamacallit Bars White Bread Whole Wheat anything  \\\n",
              "1  Despair              Despair     Despair              Despair   \n",
              "2      Meh                  Meh         Meh                  Meh   \n",
              "3      Joy                  Joy     Despair              Despair   \n",
              "4      Joy                  Joy     Despair              Despair   \n",
              "5  Despair                  Joy     Despair              Despair   \n",
              "\n",
              "  York Peppermint Patties           dress      day  \n",
              "1                 Despair  White and gold   Sunday  \n",
              "2                     Meh         Unknown  Unknown  \n",
              "3                 Despair  White and gold   Sunday  \n",
              "4                     Joy  White and gold   Friday  \n",
              "5                     Joy         Unknown  Unknown  \n",
              "\n",
              "[5 rows x 110 columns]"
            ],
            "text/html": [
              "\n",
              "  <div id=\"df-5fa2d9f7-0b4b-480a-aedf-ee913b946310\" class=\"colab-df-container\">\n",
              "    <div>\n",
              "<style scoped>\n",
              "    .dataframe tbody tr th:only-of-type {\n",
              "        vertical-align: middle;\n",
              "    }\n",
              "\n",
              "    .dataframe tbody tr th {\n",
              "        vertical-align: top;\n",
              "    }\n",
              "\n",
              "    .dataframe thead th {\n",
              "        text-align: right;\n",
              "    }\n",
              "</style>\n",
              "<table border=\"1\" class=\"dataframe\">\n",
              "  <thead>\n",
              "    <tr style=\"text-align: right;\">\n",
              "      <th></th>\n",
              "      <th>going out?</th>\n",
              "      <th>gender</th>\n",
              "      <th>age</th>\n",
              "      <th>country</th>\n",
              "      <th>state/province</th>\n",
              "      <th>100 Grand Bar</th>\n",
              "      <th>Anonymous brown globs that come in black and orange wrappers\\t(a.k.a. Mary Janes)</th>\n",
              "      <th>Any full-sized candy bar</th>\n",
              "      <th>Black Jacks</th>\n",
              "      <th>Bonkers (the candy)</th>\n",
              "      <th>...</th>\n",
              "      <th>Trail Mix</th>\n",
              "      <th>Twix</th>\n",
              "      <th>Vials of pure high fructose corn syrup, for main-lining into your vein</th>\n",
              "      <th>Vicodin</th>\n",
              "      <th>Whatchamacallit Bars</th>\n",
              "      <th>White Bread</th>\n",
              "      <th>Whole Wheat anything</th>\n",
              "      <th>York Peppermint Patties</th>\n",
              "      <th>dress</th>\n",
              "      <th>day</th>\n",
              "    </tr>\n",
              "  </thead>\n",
              "  <tbody>\n",
              "    <tr>\n",
              "      <th>1</th>\n",
              "      <td>No</td>\n",
              "      <td>Male</td>\n",
              "      <td>44</td>\n",
              "      <td>United States</td>\n",
              "      <td>New Mexico</td>\n",
              "      <td>Meh</td>\n",
              "      <td>Despair</td>\n",
              "      <td>Joy</td>\n",
              "      <td>Meh</td>\n",
              "      <td>Despair</td>\n",
              "      <td>...</td>\n",
              "      <td>Despair</td>\n",
              "      <td>Joy</td>\n",
              "      <td>Despair</td>\n",
              "      <td>Despair</td>\n",
              "      <td>Despair</td>\n",
              "      <td>Despair</td>\n",
              "      <td>Despair</td>\n",
              "      <td>Despair</td>\n",
              "      <td>White and gold</td>\n",
              "      <td>Sunday</td>\n",
              "    </tr>\n",
              "    <tr>\n",
              "      <th>2</th>\n",
              "      <td>Unknown</td>\n",
              "      <td>Male</td>\n",
              "      <td>49</td>\n",
              "      <td>United States</td>\n",
              "      <td>Virginia</td>\n",
              "      <td>Meh</td>\n",
              "      <td>Meh</td>\n",
              "      <td>Meh</td>\n",
              "      <td>Meh</td>\n",
              "      <td>Meh</td>\n",
              "      <td>...</td>\n",
              "      <td>Meh</td>\n",
              "      <td>Meh</td>\n",
              "      <td>Meh</td>\n",
              "      <td>Meh</td>\n",
              "      <td>Meh</td>\n",
              "      <td>Meh</td>\n",
              "      <td>Meh</td>\n",
              "      <td>Meh</td>\n",
              "      <td>Unknown</td>\n",
              "      <td>Unknown</td>\n",
              "    </tr>\n",
              "    <tr>\n",
              "      <th>3</th>\n",
              "      <td>No</td>\n",
              "      <td>Male</td>\n",
              "      <td>40</td>\n",
              "      <td>United States</td>\n",
              "      <td>Oregon</td>\n",
              "      <td>Meh</td>\n",
              "      <td>Despair</td>\n",
              "      <td>Joy</td>\n",
              "      <td>Meh</td>\n",
              "      <td>Meh</td>\n",
              "      <td>...</td>\n",
              "      <td>Meh</td>\n",
              "      <td>Joy</td>\n",
              "      <td>Despair</td>\n",
              "      <td>Joy</td>\n",
              "      <td>Joy</td>\n",
              "      <td>Despair</td>\n",
              "      <td>Despair</td>\n",
              "      <td>Despair</td>\n",
              "      <td>White and gold</td>\n",
              "      <td>Sunday</td>\n",
              "    </tr>\n",
              "    <tr>\n",
              "      <th>4</th>\n",
              "      <td>No</td>\n",
              "      <td>Male</td>\n",
              "      <td>23</td>\n",
              "      <td>United States</td>\n",
              "      <td>Unknown</td>\n",
              "      <td>Joy</td>\n",
              "      <td>Despair</td>\n",
              "      <td>Joy</td>\n",
              "      <td>Despair</td>\n",
              "      <td>Meh</td>\n",
              "      <td>...</td>\n",
              "      <td>Despair</td>\n",
              "      <td>Joy</td>\n",
              "      <td>Meh</td>\n",
              "      <td>Joy</td>\n",
              "      <td>Joy</td>\n",
              "      <td>Despair</td>\n",
              "      <td>Despair</td>\n",
              "      <td>Joy</td>\n",
              "      <td>White and gold</td>\n",
              "      <td>Friday</td>\n",
              "    </tr>\n",
              "    <tr>\n",
              "      <th>5</th>\n",
              "      <td>No</td>\n",
              "      <td>Male</td>\n",
              "      <td>&lt;NA&gt;</td>\n",
              "      <td>Unknown</td>\n",
              "      <td>Unknown</td>\n",
              "      <td>Joy</td>\n",
              "      <td>Despair</td>\n",
              "      <td>Joy</td>\n",
              "      <td>Meh</td>\n",
              "      <td>Meh</td>\n",
              "      <td>...</td>\n",
              "      <td>Meh</td>\n",
              "      <td>Joy</td>\n",
              "      <td>Despair</td>\n",
              "      <td>Despair</td>\n",
              "      <td>Joy</td>\n",
              "      <td>Despair</td>\n",
              "      <td>Despair</td>\n",
              "      <td>Joy</td>\n",
              "      <td>Unknown</td>\n",
              "      <td>Unknown</td>\n",
              "    </tr>\n",
              "  </tbody>\n",
              "</table>\n",
              "<p>5 rows × 110 columns</p>\n",
              "</div>\n",
              "    <div class=\"colab-df-buttons\">\n",
              "\n",
              "  <div class=\"colab-df-container\">\n",
              "    <button class=\"colab-df-convert\" onclick=\"convertToInteractive('df-5fa2d9f7-0b4b-480a-aedf-ee913b946310')\"\n",
              "            title=\"Convert this dataframe to an interactive table.\"\n",
              "            style=\"display:none;\">\n",
              "\n",
              "  <svg xmlns=\"http://www.w3.org/2000/svg\" height=\"24px\" viewBox=\"0 -960 960 960\">\n",
              "    <path d=\"M120-120v-720h720v720H120Zm60-500h600v-160H180v160Zm220 220h160v-160H400v160Zm0 220h160v-160H400v160ZM180-400h160v-160H180v160Zm440 0h160v-160H620v160ZM180-180h160v-160H180v160Zm440 0h160v-160H620v160Z\"/>\n",
              "  </svg>\n",
              "    </button>\n",
              "\n",
              "  <style>\n",
              "    .colab-df-container {\n",
              "      display:flex;\n",
              "      gap: 12px;\n",
              "    }\n",
              "\n",
              "    .colab-df-convert {\n",
              "      background-color: #E8F0FE;\n",
              "      border: none;\n",
              "      border-radius: 50%;\n",
              "      cursor: pointer;\n",
              "      display: none;\n",
              "      fill: #1967D2;\n",
              "      height: 32px;\n",
              "      padding: 0 0 0 0;\n",
              "      width: 32px;\n",
              "    }\n",
              "\n",
              "    .colab-df-convert:hover {\n",
              "      background-color: #E2EBFA;\n",
              "      box-shadow: 0px 1px 2px rgba(60, 64, 67, 0.3), 0px 1px 3px 1px rgba(60, 64, 67, 0.15);\n",
              "      fill: #174EA6;\n",
              "    }\n",
              "\n",
              "    .colab-df-buttons div {\n",
              "      margin-bottom: 4px;\n",
              "    }\n",
              "\n",
              "    [theme=dark] .colab-df-convert {\n",
              "      background-color: #3B4455;\n",
              "      fill: #D2E3FC;\n",
              "    }\n",
              "\n",
              "    [theme=dark] .colab-df-convert:hover {\n",
              "      background-color: #434B5C;\n",
              "      box-shadow: 0px 1px 3px 1px rgba(0, 0, 0, 0.15);\n",
              "      filter: drop-shadow(0px 1px 2px rgba(0, 0, 0, 0.3));\n",
              "      fill: #FFFFFF;\n",
              "    }\n",
              "  </style>\n",
              "\n",
              "    <script>\n",
              "      const buttonEl =\n",
              "        document.querySelector('#df-5fa2d9f7-0b4b-480a-aedf-ee913b946310 button.colab-df-convert');\n",
              "      buttonEl.style.display =\n",
              "        google.colab.kernel.accessAllowed ? 'block' : 'none';\n",
              "\n",
              "      async function convertToInteractive(key) {\n",
              "        const element = document.querySelector('#df-5fa2d9f7-0b4b-480a-aedf-ee913b946310');\n",
              "        const dataTable =\n",
              "          await google.colab.kernel.invokeFunction('convertToInteractive',\n",
              "                                                    [key], {});\n",
              "        if (!dataTable) return;\n",
              "\n",
              "        const docLinkHtml = 'Like what you see? Visit the ' +\n",
              "          '<a target=\"_blank\" href=https://colab.research.google.com/notebooks/data_table.ipynb>data table notebook</a>'\n",
              "          + ' to learn more about interactive tables.';\n",
              "        element.innerHTML = '';\n",
              "        dataTable['output_type'] = 'display_data';\n",
              "        await google.colab.output.renderOutput(dataTable, element);\n",
              "        const docLink = document.createElement('div');\n",
              "        docLink.innerHTML = docLinkHtml;\n",
              "        element.appendChild(docLink);\n",
              "      }\n",
              "    </script>\n",
              "  </div>\n",
              "\n",
              "\n",
              "    <div id=\"df-8be9a0c7-1970-4856-93ff-7b3155a80f20\">\n",
              "      <button class=\"colab-df-quickchart\" onclick=\"quickchart('df-8be9a0c7-1970-4856-93ff-7b3155a80f20')\"\n",
              "                title=\"Suggest charts\"\n",
              "                style=\"display:none;\">\n",
              "\n",
              "<svg xmlns=\"http://www.w3.org/2000/svg\" height=\"24px\"viewBox=\"0 0 24 24\"\n",
              "     width=\"24px\">\n",
              "    <g>\n",
              "        <path d=\"M19 3H5c-1.1 0-2 .9-2 2v14c0 1.1.9 2 2 2h14c1.1 0 2-.9 2-2V5c0-1.1-.9-2-2-2zM9 17H7v-7h2v7zm4 0h-2V7h2v10zm4 0h-2v-4h2v4z\"/>\n",
              "    </g>\n",
              "</svg>\n",
              "      </button>\n",
              "\n",
              "<style>\n",
              "  .colab-df-quickchart {\n",
              "      --bg-color: #E8F0FE;\n",
              "      --fill-color: #1967D2;\n",
              "      --hover-bg-color: #E2EBFA;\n",
              "      --hover-fill-color: #174EA6;\n",
              "      --disabled-fill-color: #AAA;\n",
              "      --disabled-bg-color: #DDD;\n",
              "  }\n",
              "\n",
              "  [theme=dark] .colab-df-quickchart {\n",
              "      --bg-color: #3B4455;\n",
              "      --fill-color: #D2E3FC;\n",
              "      --hover-bg-color: #434B5C;\n",
              "      --hover-fill-color: #FFFFFF;\n",
              "      --disabled-bg-color: #3B4455;\n",
              "      --disabled-fill-color: #666;\n",
              "  }\n",
              "\n",
              "  .colab-df-quickchart {\n",
              "    background-color: var(--bg-color);\n",
              "    border: none;\n",
              "    border-radius: 50%;\n",
              "    cursor: pointer;\n",
              "    display: none;\n",
              "    fill: var(--fill-color);\n",
              "    height: 32px;\n",
              "    padding: 0;\n",
              "    width: 32px;\n",
              "  }\n",
              "\n",
              "  .colab-df-quickchart:hover {\n",
              "    background-color: var(--hover-bg-color);\n",
              "    box-shadow: 0 1px 2px rgba(60, 64, 67, 0.3), 0 1px 3px 1px rgba(60, 64, 67, 0.15);\n",
              "    fill: var(--button-hover-fill-color);\n",
              "  }\n",
              "\n",
              "  .colab-df-quickchart-complete:disabled,\n",
              "  .colab-df-quickchart-complete:disabled:hover {\n",
              "    background-color: var(--disabled-bg-color);\n",
              "    fill: var(--disabled-fill-color);\n",
              "    box-shadow: none;\n",
              "  }\n",
              "\n",
              "  .colab-df-spinner {\n",
              "    border: 2px solid var(--fill-color);\n",
              "    border-color: transparent;\n",
              "    border-bottom-color: var(--fill-color);\n",
              "    animation:\n",
              "      spin 1s steps(1) infinite;\n",
              "  }\n",
              "\n",
              "  @keyframes spin {\n",
              "    0% {\n",
              "      border-color: transparent;\n",
              "      border-bottom-color: var(--fill-color);\n",
              "      border-left-color: var(--fill-color);\n",
              "    }\n",
              "    20% {\n",
              "      border-color: transparent;\n",
              "      border-left-color: var(--fill-color);\n",
              "      border-top-color: var(--fill-color);\n",
              "    }\n",
              "    30% {\n",
              "      border-color: transparent;\n",
              "      border-left-color: var(--fill-color);\n",
              "      border-top-color: var(--fill-color);\n",
              "      border-right-color: var(--fill-color);\n",
              "    }\n",
              "    40% {\n",
              "      border-color: transparent;\n",
              "      border-right-color: var(--fill-color);\n",
              "      border-top-color: var(--fill-color);\n",
              "    }\n",
              "    60% {\n",
              "      border-color: transparent;\n",
              "      border-right-color: var(--fill-color);\n",
              "    }\n",
              "    80% {\n",
              "      border-color: transparent;\n",
              "      border-right-color: var(--fill-color);\n",
              "      border-bottom-color: var(--fill-color);\n",
              "    }\n",
              "    90% {\n",
              "      border-color: transparent;\n",
              "      border-bottom-color: var(--fill-color);\n",
              "    }\n",
              "  }\n",
              "</style>\n",
              "\n",
              "      <script>\n",
              "        async function quickchart(key) {\n",
              "          const quickchartButtonEl =\n",
              "            document.querySelector('#' + key + ' button');\n",
              "          quickchartButtonEl.disabled = true;  // To prevent multiple clicks.\n",
              "          quickchartButtonEl.classList.add('colab-df-spinner');\n",
              "          try {\n",
              "            const charts = await google.colab.kernel.invokeFunction(\n",
              "                'suggestCharts', [key], {});\n",
              "          } catch (error) {\n",
              "            console.error('Error during call to suggestCharts:', error);\n",
              "          }\n",
              "          quickchartButtonEl.classList.remove('colab-df-spinner');\n",
              "          quickchartButtonEl.classList.add('colab-df-quickchart-complete');\n",
              "        }\n",
              "        (() => {\n",
              "          let quickchartButtonEl =\n",
              "            document.querySelector('#df-8be9a0c7-1970-4856-93ff-7b3155a80f20 button');\n",
              "          quickchartButtonEl.style.display =\n",
              "            google.colab.kernel.accessAllowed ? 'block' : 'none';\n",
              "        })();\n",
              "      </script>\n",
              "    </div>\n",
              "\n",
              "    </div>\n",
              "  </div>\n"
            ],
            "application/vnd.google.colaboratory.intrinsic+json": {
              "type": "dataframe",
              "variable_name": "df"
            }
          },
          "metadata": {},
          "execution_count": 509
        }
      ]
    },
    {
      "cell_type": "code",
      "source": [
        "print(df.isnull().sum())"
      ],
      "metadata": {
        "colab": {
          "base_uri": "https://localhost:8080/"
        },
        "id": "qrfy80EnJhmo",
        "outputId": "fe040837-05e8-41fb-cc7a-bb7fe7dcbece"
      },
      "execution_count": 514,
      "outputs": [
        {
          "output_type": "stream",
          "name": "stdout",
          "text": [
            "going out?                  0\n",
            "gender                      0\n",
            "age                        92\n",
            "country                     0\n",
            "state/province              0\n",
            "                           ..\n",
            "White Bread                 0\n",
            "Whole Wheat anything        0\n",
            "York Peppermint Patties     0\n",
            "dress                       0\n",
            "day                         0\n",
            "Length: 110, dtype: int64\n"
          ]
        }
      ]
    },
    {
      "cell_type": "code",
      "source": [],
      "metadata": {
        "id": "fvgx0KxvJ7cd"
      },
      "execution_count": null,
      "outputs": []
    }
  ]
}