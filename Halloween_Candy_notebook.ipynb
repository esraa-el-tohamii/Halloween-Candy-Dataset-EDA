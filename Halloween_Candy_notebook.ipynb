{
  "nbformat": 4,
  "nbformat_minor": 0,
  "metadata": {
    "colab": {
      "provenance": [],
      "authorship_tag": "ABX9TyMemNmTvihLcqRqDA7A+tXS"
    },
    "kernelspec": {
      "name": "python3",
      "display_name": "Python 3"
    },
    "language_info": {
      "name": "python"
    }
  },
  "cells": [
    {
      "cell_type": "code",
      "execution_count": 295,
      "metadata": {
        "id": "VU4CAi4fz7R2"
      },
      "outputs": [],
      "source": [
        "import pandas as pd\n",
        "import numpy as np\n",
        "import matplotlib.pyplot as plt\n",
        "import seaborn as sns"
      ]
    },
    {
      "cell_type": "code",
      "source": [
        "df=pd.read_excel('/Halloween_candy.xlsx')\n",
        "df.head()"
      ],
      "metadata": {
        "colab": {
          "base_uri": "https://localhost:8080/",
          "height": 568
        },
        "id": "BDRwtTW50sHS",
        "outputId": "6c7ae376-0118-4168-d993-22e223f5b00b"
      },
      "execution_count": 296,
      "outputs": [
        {
          "output_type": "execute_result",
          "data": {
            "text/plain": [
              "         ID Q1: going out? Q2: gender Q3: age Q4: country Q5: state/province  \\\n",
              "0  90258773            NaN        NaN     NaN         NaN                NaN   \n",
              "1  90272821             No       Male      44         USA                 NM   \n",
              "2  90272829            NaN       Male      49         USA           Virginia   \n",
              "3  90272840             No       Male      40          us                 or   \n",
              "4  90272841             No       Male      23         usa           exton pa   \n",
              "\n",
              "  Q6 | 100 Grand Bar  \\\n",
              "0                NaN   \n",
              "1                MEH   \n",
              "2                NaN   \n",
              "3                MEH   \n",
              "4                JOY   \n",
              "\n",
              "  Q6 | Anonymous brown globs that come in black and orange wrappers\\t(a.k.a. Mary Janes)  \\\n",
              "0                                                NaN                                       \n",
              "1                                            DESPAIR                                       \n",
              "2                                                NaN                                       \n",
              "3                                            DESPAIR                                       \n",
              "4                                            DESPAIR                                       \n",
              "\n",
              "  Q6 | Any full-sized candy bar Q6 | Black Jacks  ... Q6 | Vicodin  \\\n",
              "0                           NaN              NaN  ...          NaN   \n",
              "1                           JOY              MEH  ...      DESPAIR   \n",
              "2                           NaN              NaN  ...          NaN   \n",
              "3                           JOY              MEH  ...          JOY   \n",
              "4                           JOY          DESPAIR  ...          JOY   \n",
              "\n",
              "  Q6 | Whatchamacallit Bars Q6 | White Bread Q6 | Whole Wheat anything  \\\n",
              "0                       NaN              NaN                       NaN   \n",
              "1                   DESPAIR          DESPAIR                   DESPAIR   \n",
              "2                       NaN              NaN                       NaN   \n",
              "3                       JOY          DESPAIR                   DESPAIR   \n",
              "4                       JOY          DESPAIR                   DESPAIR   \n",
              "\n",
              "  Q6 | York Peppermint Patties  \\\n",
              "0                          NaN   \n",
              "1                      DESPAIR   \n",
              "2                          NaN   \n",
              "3                      DESPAIR   \n",
              "4                          JOY   \n",
              "\n",
              "                                       Q7: joy other Q8: despair other  \\\n",
              "0                                                NaN               NaN   \n",
              "1                                             Mounds               NaN   \n",
              "2                                                NaN               NaN   \n",
              "3  Reese's crispy crunchy bars, 5th avenue bars, ...               NaN   \n",
              "4                                                NaN               NaN   \n",
              "\n",
              "                                  Q9: other comments      Q10: dress Q11: day  \n",
              "0                                                NaN             NaN      NaN  \n",
              "1  Bottom line is Twix is really the only candy w...  White and gold   Sunday  \n",
              "2                                                NaN             NaN      NaN  \n",
              "3                             Raisins can go to hell  White and gold   Sunday  \n",
              "4                                                NaN  White and gold   Friday  \n",
              "\n",
              "[5 rows x 114 columns]"
            ],
            "text/html": [
              "\n",
              "  <div id=\"df-0132428d-a799-4ef9-a056-04d6281c47df\" class=\"colab-df-container\">\n",
              "    <div>\n",
              "<style scoped>\n",
              "    .dataframe tbody tr th:only-of-type {\n",
              "        vertical-align: middle;\n",
              "    }\n",
              "\n",
              "    .dataframe tbody tr th {\n",
              "        vertical-align: top;\n",
              "    }\n",
              "\n",
              "    .dataframe thead th {\n",
              "        text-align: right;\n",
              "    }\n",
              "</style>\n",
              "<table border=\"1\" class=\"dataframe\">\n",
              "  <thead>\n",
              "    <tr style=\"text-align: right;\">\n",
              "      <th></th>\n",
              "      <th>ID</th>\n",
              "      <th>Q1: going out?</th>\n",
              "      <th>Q2: gender</th>\n",
              "      <th>Q3: age</th>\n",
              "      <th>Q4: country</th>\n",
              "      <th>Q5: state/province</th>\n",
              "      <th>Q6 | 100 Grand Bar</th>\n",
              "      <th>Q6 | Anonymous brown globs that come in black and orange wrappers\\t(a.k.a. Mary Janes)</th>\n",
              "      <th>Q6 | Any full-sized candy bar</th>\n",
              "      <th>Q6 | Black Jacks</th>\n",
              "      <th>...</th>\n",
              "      <th>Q6 | Vicodin</th>\n",
              "      <th>Q6 | Whatchamacallit Bars</th>\n",
              "      <th>Q6 | White Bread</th>\n",
              "      <th>Q6 | Whole Wheat anything</th>\n",
              "      <th>Q6 | York Peppermint Patties</th>\n",
              "      <th>Q7: joy other</th>\n",
              "      <th>Q8: despair other</th>\n",
              "      <th>Q9: other comments</th>\n",
              "      <th>Q10: dress</th>\n",
              "      <th>Q11: day</th>\n",
              "    </tr>\n",
              "  </thead>\n",
              "  <tbody>\n",
              "    <tr>\n",
              "      <th>0</th>\n",
              "      <td>90258773</td>\n",
              "      <td>NaN</td>\n",
              "      <td>NaN</td>\n",
              "      <td>NaN</td>\n",
              "      <td>NaN</td>\n",
              "      <td>NaN</td>\n",
              "      <td>NaN</td>\n",
              "      <td>NaN</td>\n",
              "      <td>NaN</td>\n",
              "      <td>NaN</td>\n",
              "      <td>...</td>\n",
              "      <td>NaN</td>\n",
              "      <td>NaN</td>\n",
              "      <td>NaN</td>\n",
              "      <td>NaN</td>\n",
              "      <td>NaN</td>\n",
              "      <td>NaN</td>\n",
              "      <td>NaN</td>\n",
              "      <td>NaN</td>\n",
              "      <td>NaN</td>\n",
              "      <td>NaN</td>\n",
              "    </tr>\n",
              "    <tr>\n",
              "      <th>1</th>\n",
              "      <td>90272821</td>\n",
              "      <td>No</td>\n",
              "      <td>Male</td>\n",
              "      <td>44</td>\n",
              "      <td>USA</td>\n",
              "      <td>NM</td>\n",
              "      <td>MEH</td>\n",
              "      <td>DESPAIR</td>\n",
              "      <td>JOY</td>\n",
              "      <td>MEH</td>\n",
              "      <td>...</td>\n",
              "      <td>DESPAIR</td>\n",
              "      <td>DESPAIR</td>\n",
              "      <td>DESPAIR</td>\n",
              "      <td>DESPAIR</td>\n",
              "      <td>DESPAIR</td>\n",
              "      <td>Mounds</td>\n",
              "      <td>NaN</td>\n",
              "      <td>Bottom line is Twix is really the only candy w...</td>\n",
              "      <td>White and gold</td>\n",
              "      <td>Sunday</td>\n",
              "    </tr>\n",
              "    <tr>\n",
              "      <th>2</th>\n",
              "      <td>90272829</td>\n",
              "      <td>NaN</td>\n",
              "      <td>Male</td>\n",
              "      <td>49</td>\n",
              "      <td>USA</td>\n",
              "      <td>Virginia</td>\n",
              "      <td>NaN</td>\n",
              "      <td>NaN</td>\n",
              "      <td>NaN</td>\n",
              "      <td>NaN</td>\n",
              "      <td>...</td>\n",
              "      <td>NaN</td>\n",
              "      <td>NaN</td>\n",
              "      <td>NaN</td>\n",
              "      <td>NaN</td>\n",
              "      <td>NaN</td>\n",
              "      <td>NaN</td>\n",
              "      <td>NaN</td>\n",
              "      <td>NaN</td>\n",
              "      <td>NaN</td>\n",
              "      <td>NaN</td>\n",
              "    </tr>\n",
              "    <tr>\n",
              "      <th>3</th>\n",
              "      <td>90272840</td>\n",
              "      <td>No</td>\n",
              "      <td>Male</td>\n",
              "      <td>40</td>\n",
              "      <td>us</td>\n",
              "      <td>or</td>\n",
              "      <td>MEH</td>\n",
              "      <td>DESPAIR</td>\n",
              "      <td>JOY</td>\n",
              "      <td>MEH</td>\n",
              "      <td>...</td>\n",
              "      <td>JOY</td>\n",
              "      <td>JOY</td>\n",
              "      <td>DESPAIR</td>\n",
              "      <td>DESPAIR</td>\n",
              "      <td>DESPAIR</td>\n",
              "      <td>Reese's crispy crunchy bars, 5th avenue bars, ...</td>\n",
              "      <td>NaN</td>\n",
              "      <td>Raisins can go to hell</td>\n",
              "      <td>White and gold</td>\n",
              "      <td>Sunday</td>\n",
              "    </tr>\n",
              "    <tr>\n",
              "      <th>4</th>\n",
              "      <td>90272841</td>\n",
              "      <td>No</td>\n",
              "      <td>Male</td>\n",
              "      <td>23</td>\n",
              "      <td>usa</td>\n",
              "      <td>exton pa</td>\n",
              "      <td>JOY</td>\n",
              "      <td>DESPAIR</td>\n",
              "      <td>JOY</td>\n",
              "      <td>DESPAIR</td>\n",
              "      <td>...</td>\n",
              "      <td>JOY</td>\n",
              "      <td>JOY</td>\n",
              "      <td>DESPAIR</td>\n",
              "      <td>DESPAIR</td>\n",
              "      <td>JOY</td>\n",
              "      <td>NaN</td>\n",
              "      <td>NaN</td>\n",
              "      <td>NaN</td>\n",
              "      <td>White and gold</td>\n",
              "      <td>Friday</td>\n",
              "    </tr>\n",
              "  </tbody>\n",
              "</table>\n",
              "<p>5 rows × 114 columns</p>\n",
              "</div>\n",
              "    <div class=\"colab-df-buttons\">\n",
              "\n",
              "  <div class=\"colab-df-container\">\n",
              "    <button class=\"colab-df-convert\" onclick=\"convertToInteractive('df-0132428d-a799-4ef9-a056-04d6281c47df')\"\n",
              "            title=\"Convert this dataframe to an interactive table.\"\n",
              "            style=\"display:none;\">\n",
              "\n",
              "  <svg xmlns=\"http://www.w3.org/2000/svg\" height=\"24px\" viewBox=\"0 -960 960 960\">\n",
              "    <path d=\"M120-120v-720h720v720H120Zm60-500h600v-160H180v160Zm220 220h160v-160H400v160Zm0 220h160v-160H400v160ZM180-400h160v-160H180v160Zm440 0h160v-160H620v160ZM180-180h160v-160H180v160Zm440 0h160v-160H620v160Z\"/>\n",
              "  </svg>\n",
              "    </button>\n",
              "\n",
              "  <style>\n",
              "    .colab-df-container {\n",
              "      display:flex;\n",
              "      gap: 12px;\n",
              "    }\n",
              "\n",
              "    .colab-df-convert {\n",
              "      background-color: #E8F0FE;\n",
              "      border: none;\n",
              "      border-radius: 50%;\n",
              "      cursor: pointer;\n",
              "      display: none;\n",
              "      fill: #1967D2;\n",
              "      height: 32px;\n",
              "      padding: 0 0 0 0;\n",
              "      width: 32px;\n",
              "    }\n",
              "\n",
              "    .colab-df-convert:hover {\n",
              "      background-color: #E2EBFA;\n",
              "      box-shadow: 0px 1px 2px rgba(60, 64, 67, 0.3), 0px 1px 3px 1px rgba(60, 64, 67, 0.15);\n",
              "      fill: #174EA6;\n",
              "    }\n",
              "\n",
              "    .colab-df-buttons div {\n",
              "      margin-bottom: 4px;\n",
              "    }\n",
              "\n",
              "    [theme=dark] .colab-df-convert {\n",
              "      background-color: #3B4455;\n",
              "      fill: #D2E3FC;\n",
              "    }\n",
              "\n",
              "    [theme=dark] .colab-df-convert:hover {\n",
              "      background-color: #434B5C;\n",
              "      box-shadow: 0px 1px 3px 1px rgba(0, 0, 0, 0.15);\n",
              "      filter: drop-shadow(0px 1px 2px rgba(0, 0, 0, 0.3));\n",
              "      fill: #FFFFFF;\n",
              "    }\n",
              "  </style>\n",
              "\n",
              "    <script>\n",
              "      const buttonEl =\n",
              "        document.querySelector('#df-0132428d-a799-4ef9-a056-04d6281c47df button.colab-df-convert');\n",
              "      buttonEl.style.display =\n",
              "        google.colab.kernel.accessAllowed ? 'block' : 'none';\n",
              "\n",
              "      async function convertToInteractive(key) {\n",
              "        const element = document.querySelector('#df-0132428d-a799-4ef9-a056-04d6281c47df');\n",
              "        const dataTable =\n",
              "          await google.colab.kernel.invokeFunction('convertToInteractive',\n",
              "                                                    [key], {});\n",
              "        if (!dataTable) return;\n",
              "\n",
              "        const docLinkHtml = 'Like what you see? Visit the ' +\n",
              "          '<a target=\"_blank\" href=https://colab.research.google.com/notebooks/data_table.ipynb>data table notebook</a>'\n",
              "          + ' to learn more about interactive tables.';\n",
              "        element.innerHTML = '';\n",
              "        dataTable['output_type'] = 'display_data';\n",
              "        await google.colab.output.renderOutput(dataTable, element);\n",
              "        const docLink = document.createElement('div');\n",
              "        docLink.innerHTML = docLinkHtml;\n",
              "        element.appendChild(docLink);\n",
              "      }\n",
              "    </script>\n",
              "  </div>\n",
              "\n",
              "\n",
              "    <div id=\"df-f2d9ca85-846f-44f6-b0b8-74db3e7336bd\">\n",
              "      <button class=\"colab-df-quickchart\" onclick=\"quickchart('df-f2d9ca85-846f-44f6-b0b8-74db3e7336bd')\"\n",
              "                title=\"Suggest charts\"\n",
              "                style=\"display:none;\">\n",
              "\n",
              "<svg xmlns=\"http://www.w3.org/2000/svg\" height=\"24px\"viewBox=\"0 0 24 24\"\n",
              "     width=\"24px\">\n",
              "    <g>\n",
              "        <path d=\"M19 3H5c-1.1 0-2 .9-2 2v14c0 1.1.9 2 2 2h14c1.1 0 2-.9 2-2V5c0-1.1-.9-2-2-2zM9 17H7v-7h2v7zm4 0h-2V7h2v10zm4 0h-2v-4h2v4z\"/>\n",
              "    </g>\n",
              "</svg>\n",
              "      </button>\n",
              "\n",
              "<style>\n",
              "  .colab-df-quickchart {\n",
              "      --bg-color: #E8F0FE;\n",
              "      --fill-color: #1967D2;\n",
              "      --hover-bg-color: #E2EBFA;\n",
              "      --hover-fill-color: #174EA6;\n",
              "      --disabled-fill-color: #AAA;\n",
              "      --disabled-bg-color: #DDD;\n",
              "  }\n",
              "\n",
              "  [theme=dark] .colab-df-quickchart {\n",
              "      --bg-color: #3B4455;\n",
              "      --fill-color: #D2E3FC;\n",
              "      --hover-bg-color: #434B5C;\n",
              "      --hover-fill-color: #FFFFFF;\n",
              "      --disabled-bg-color: #3B4455;\n",
              "      --disabled-fill-color: #666;\n",
              "  }\n",
              "\n",
              "  .colab-df-quickchart {\n",
              "    background-color: var(--bg-color);\n",
              "    border: none;\n",
              "    border-radius: 50%;\n",
              "    cursor: pointer;\n",
              "    display: none;\n",
              "    fill: var(--fill-color);\n",
              "    height: 32px;\n",
              "    padding: 0;\n",
              "    width: 32px;\n",
              "  }\n",
              "\n",
              "  .colab-df-quickchart:hover {\n",
              "    background-color: var(--hover-bg-color);\n",
              "    box-shadow: 0 1px 2px rgba(60, 64, 67, 0.3), 0 1px 3px 1px rgba(60, 64, 67, 0.15);\n",
              "    fill: var(--button-hover-fill-color);\n",
              "  }\n",
              "\n",
              "  .colab-df-quickchart-complete:disabled,\n",
              "  .colab-df-quickchart-complete:disabled:hover {\n",
              "    background-color: var(--disabled-bg-color);\n",
              "    fill: var(--disabled-fill-color);\n",
              "    box-shadow: none;\n",
              "  }\n",
              "\n",
              "  .colab-df-spinner {\n",
              "    border: 2px solid var(--fill-color);\n",
              "    border-color: transparent;\n",
              "    border-bottom-color: var(--fill-color);\n",
              "    animation:\n",
              "      spin 1s steps(1) infinite;\n",
              "  }\n",
              "\n",
              "  @keyframes spin {\n",
              "    0% {\n",
              "      border-color: transparent;\n",
              "      border-bottom-color: var(--fill-color);\n",
              "      border-left-color: var(--fill-color);\n",
              "    }\n",
              "    20% {\n",
              "      border-color: transparent;\n",
              "      border-left-color: var(--fill-color);\n",
              "      border-top-color: var(--fill-color);\n",
              "    }\n",
              "    30% {\n",
              "      border-color: transparent;\n",
              "      border-left-color: var(--fill-color);\n",
              "      border-top-color: var(--fill-color);\n",
              "      border-right-color: var(--fill-color);\n",
              "    }\n",
              "    40% {\n",
              "      border-color: transparent;\n",
              "      border-right-color: var(--fill-color);\n",
              "      border-top-color: var(--fill-color);\n",
              "    }\n",
              "    60% {\n",
              "      border-color: transparent;\n",
              "      border-right-color: var(--fill-color);\n",
              "    }\n",
              "    80% {\n",
              "      border-color: transparent;\n",
              "      border-right-color: var(--fill-color);\n",
              "      border-bottom-color: var(--fill-color);\n",
              "    }\n",
              "    90% {\n",
              "      border-color: transparent;\n",
              "      border-bottom-color: var(--fill-color);\n",
              "    }\n",
              "  }\n",
              "</style>\n",
              "\n",
              "      <script>\n",
              "        async function quickchart(key) {\n",
              "          const quickchartButtonEl =\n",
              "            document.querySelector('#' + key + ' button');\n",
              "          quickchartButtonEl.disabled = true;  // To prevent multiple clicks.\n",
              "          quickchartButtonEl.classList.add('colab-df-spinner');\n",
              "          try {\n",
              "            const charts = await google.colab.kernel.invokeFunction(\n",
              "                'suggestCharts', [key], {});\n",
              "          } catch (error) {\n",
              "            console.error('Error during call to suggestCharts:', error);\n",
              "          }\n",
              "          quickchartButtonEl.classList.remove('colab-df-spinner');\n",
              "          quickchartButtonEl.classList.add('colab-df-quickchart-complete');\n",
              "        }\n",
              "        (() => {\n",
              "          let quickchartButtonEl =\n",
              "            document.querySelector('#df-f2d9ca85-846f-44f6-b0b8-74db3e7336bd button');\n",
              "          quickchartButtonEl.style.display =\n",
              "            google.colab.kernel.accessAllowed ? 'block' : 'none';\n",
              "        })();\n",
              "      </script>\n",
              "    </div>\n",
              "\n",
              "    </div>\n",
              "  </div>\n"
            ],
            "application/vnd.google.colaboratory.intrinsic+json": {
              "type": "dataframe",
              "variable_name": "df"
            }
          },
          "metadata": {},
          "execution_count": 296
        }
      ]
    },
    {
      "cell_type": "code",
      "source": [
        "df.info()"
      ],
      "metadata": {
        "colab": {
          "base_uri": "https://localhost:8080/"
        },
        "id": "ljMjpohX016Z",
        "outputId": "cfbeeeea-4e7d-472c-d6fa-2f1f9a3d1d38"
      },
      "execution_count": 297,
      "outputs": [
        {
          "output_type": "stream",
          "name": "stdout",
          "text": [
            "<class 'pandas.core.frame.DataFrame'>\n",
            "RangeIndex: 2460 entries, 0 to 2459\n",
            "Columns: 114 entries, ID to Q11: day\n",
            "dtypes: int64(1), object(113)\n",
            "memory usage: 2.1+ MB\n"
          ]
        }
      ]
    },
    {
      "cell_type": "code",
      "source": [
        "df.shape"
      ],
      "metadata": {
        "colab": {
          "base_uri": "https://localhost:8080/"
        },
        "id": "sicIgXlO7yrG",
        "outputId": "34a0bd17-c4b3-426e-bfc2-7d825cf6f9e8"
      },
      "execution_count": 298,
      "outputs": [
        {
          "output_type": "execute_result",
          "data": {
            "text/plain": [
              "(2460, 114)"
            ]
          },
          "metadata": {},
          "execution_count": 298
        }
      ]
    },
    {
      "cell_type": "code",
      "source": [
        "df['Q1: going out?'].unique()"
      ],
      "metadata": {
        "colab": {
          "base_uri": "https://localhost:8080/"
        },
        "id": "6CPif1Ap75GS",
        "outputId": "e805d51b-2628-43cc-e165-e26189a31c21"
      },
      "execution_count": 299,
      "outputs": [
        {
          "output_type": "execute_result",
          "data": {
            "text/plain": [
              "array([nan, 'No', 'Yes'], dtype=object)"
            ]
          },
          "metadata": {},
          "execution_count": 299
        }
      ]
    },
    {
      "cell_type": "code",
      "source": [
        "df['Q1: going out?'].dtype"
      ],
      "metadata": {
        "colab": {
          "base_uri": "https://localhost:8080/"
        },
        "id": "6B36HthoArbr",
        "outputId": "529f0de5-7898-4d1e-d096-f781f85f0874"
      },
      "execution_count": 300,
      "outputs": [
        {
          "output_type": "execute_result",
          "data": {
            "text/plain": [
              "dtype('O')"
            ]
          },
          "metadata": {},
          "execution_count": 300
        }
      ]
    },
    {
      "cell_type": "code",
      "source": [
        "df['Q1: going out?'].isnull().sum()"
      ],
      "metadata": {
        "colab": {
          "base_uri": "https://localhost:8080/"
        },
        "id": "cYYXKsZSA-hG",
        "outputId": "bd79da61-0970-4cbb-87d7-d9f684bfeb13"
      },
      "execution_count": 301,
      "outputs": [
        {
          "output_type": "execute_result",
          "data": {
            "text/plain": [
              "np.int64(110)"
            ]
          },
          "metadata": {},
          "execution_count": 301
        }
      ]
    },
    {
      "cell_type": "code",
      "source": [
        "df['Q1: going out?'].value_counts()"
      ],
      "metadata": {
        "colab": {
          "base_uri": "https://localhost:8080/",
          "height": 178
        },
        "id": "QXFBluzxBKeb",
        "outputId": "f279608d-d5b6-41c7-ddd0-c8b6eca29165"
      },
      "execution_count": 302,
      "outputs": [
        {
          "output_type": "execute_result",
          "data": {
            "text/plain": [
              "Q1: going out?\n",
              "No     2038\n",
              "Yes     312\n",
              "Name: count, dtype: int64"
            ],
            "text/html": [
              "<div>\n",
              "<style scoped>\n",
              "    .dataframe tbody tr th:only-of-type {\n",
              "        vertical-align: middle;\n",
              "    }\n",
              "\n",
              "    .dataframe tbody tr th {\n",
              "        vertical-align: top;\n",
              "    }\n",
              "\n",
              "    .dataframe thead th {\n",
              "        text-align: right;\n",
              "    }\n",
              "</style>\n",
              "<table border=\"1\" class=\"dataframe\">\n",
              "  <thead>\n",
              "    <tr style=\"text-align: right;\">\n",
              "      <th></th>\n",
              "      <th>count</th>\n",
              "    </tr>\n",
              "    <tr>\n",
              "      <th>Q1: going out?</th>\n",
              "      <th></th>\n",
              "    </tr>\n",
              "  </thead>\n",
              "  <tbody>\n",
              "    <tr>\n",
              "      <th>No</th>\n",
              "      <td>2038</td>\n",
              "    </tr>\n",
              "    <tr>\n",
              "      <th>Yes</th>\n",
              "      <td>312</td>\n",
              "    </tr>\n",
              "  </tbody>\n",
              "</table>\n",
              "</div><br><label><b>dtype:</b> int64</label>"
            ]
          },
          "metadata": {},
          "execution_count": 302
        }
      ]
    },
    {
      "cell_type": "code",
      "source": [
        "df['Q1: going out?'].replace(np.nan,'Unknown',inplace=True)"
      ],
      "metadata": {
        "colab": {
          "base_uri": "https://localhost:8080/"
        },
        "id": "jcnxN1w_BiB-",
        "outputId": "e5e1c96b-c930-48e1-c97e-14c9286cc60f"
      },
      "execution_count": 303,
      "outputs": [
        {
          "output_type": "stream",
          "name": "stderr",
          "text": [
            "/tmp/ipython-input-303-2642988228.py:1: FutureWarning: A value is trying to be set on a copy of a DataFrame or Series through chained assignment using an inplace method.\n",
            "The behavior will change in pandas 3.0. This inplace method will never work because the intermediate object on which we are setting values always behaves as a copy.\n",
            "\n",
            "For example, when doing 'df[col].method(value, inplace=True)', try using 'df.method({col: value}, inplace=True)' or df[col] = df[col].method(value) instead, to perform the operation inplace on the original object.\n",
            "\n",
            "\n",
            "  df['Q1: going out?'].replace(np.nan,'Unknown',inplace=True)\n"
          ]
        }
      ]
    },
    {
      "cell_type": "code",
      "source": [
        "df['Q1: going out?'].value_counts()"
      ],
      "metadata": {
        "colab": {
          "base_uri": "https://localhost:8080/",
          "height": 209
        },
        "id": "3wPDGiZJChyb",
        "outputId": "f52a466e-61a7-4d55-f59d-96cd0800ea1e"
      },
      "execution_count": 304,
      "outputs": [
        {
          "output_type": "execute_result",
          "data": {
            "text/plain": [
              "Q1: going out?\n",
              "No         2038\n",
              "Yes         312\n",
              "Unknown     110\n",
              "Name: count, dtype: int64"
            ],
            "text/html": [
              "<div>\n",
              "<style scoped>\n",
              "    .dataframe tbody tr th:only-of-type {\n",
              "        vertical-align: middle;\n",
              "    }\n",
              "\n",
              "    .dataframe tbody tr th {\n",
              "        vertical-align: top;\n",
              "    }\n",
              "\n",
              "    .dataframe thead th {\n",
              "        text-align: right;\n",
              "    }\n",
              "</style>\n",
              "<table border=\"1\" class=\"dataframe\">\n",
              "  <thead>\n",
              "    <tr style=\"text-align: right;\">\n",
              "      <th></th>\n",
              "      <th>count</th>\n",
              "    </tr>\n",
              "    <tr>\n",
              "      <th>Q1: going out?</th>\n",
              "      <th></th>\n",
              "    </tr>\n",
              "  </thead>\n",
              "  <tbody>\n",
              "    <tr>\n",
              "      <th>No</th>\n",
              "      <td>2038</td>\n",
              "    </tr>\n",
              "    <tr>\n",
              "      <th>Yes</th>\n",
              "      <td>312</td>\n",
              "    </tr>\n",
              "    <tr>\n",
              "      <th>Unknown</th>\n",
              "      <td>110</td>\n",
              "    </tr>\n",
              "  </tbody>\n",
              "</table>\n",
              "</div><br><label><b>dtype:</b> int64</label>"
            ]
          },
          "metadata": {},
          "execution_count": 304
        }
      ]
    },
    {
      "cell_type": "code",
      "source": [
        "df['Q2: gender'].value_counts()"
      ],
      "metadata": {
        "colab": {
          "base_uri": "https://localhost:8080/",
          "height": 241
        },
        "id": "qGIzE_GBBrsX",
        "outputId": "42d1aa30-227b-4487-adef-a5d2f35a050e"
      },
      "execution_count": 305,
      "outputs": [
        {
          "output_type": "execute_result",
          "data": {
            "text/plain": [
              "Q2: gender\n",
              "Male                  1467\n",
              "Female                 839\n",
              "I'd rather not say      83\n",
              "Other                   30\n",
              "Name: count, dtype: int64"
            ],
            "text/html": [
              "<div>\n",
              "<style scoped>\n",
              "    .dataframe tbody tr th:only-of-type {\n",
              "        vertical-align: middle;\n",
              "    }\n",
              "\n",
              "    .dataframe tbody tr th {\n",
              "        vertical-align: top;\n",
              "    }\n",
              "\n",
              "    .dataframe thead th {\n",
              "        text-align: right;\n",
              "    }\n",
              "</style>\n",
              "<table border=\"1\" class=\"dataframe\">\n",
              "  <thead>\n",
              "    <tr style=\"text-align: right;\">\n",
              "      <th></th>\n",
              "      <th>count</th>\n",
              "    </tr>\n",
              "    <tr>\n",
              "      <th>Q2: gender</th>\n",
              "      <th></th>\n",
              "    </tr>\n",
              "  </thead>\n",
              "  <tbody>\n",
              "    <tr>\n",
              "      <th>Male</th>\n",
              "      <td>1467</td>\n",
              "    </tr>\n",
              "    <tr>\n",
              "      <th>Female</th>\n",
              "      <td>839</td>\n",
              "    </tr>\n",
              "    <tr>\n",
              "      <th>I'd rather not say</th>\n",
              "      <td>83</td>\n",
              "    </tr>\n",
              "    <tr>\n",
              "      <th>Other</th>\n",
              "      <td>30</td>\n",
              "    </tr>\n",
              "  </tbody>\n",
              "</table>\n",
              "</div><br><label><b>dtype:</b> int64</label>"
            ]
          },
          "metadata": {},
          "execution_count": 305
        }
      ]
    },
    {
      "cell_type": "code",
      "source": [
        "df['Q2: gender'].isnull().sum()"
      ],
      "metadata": {
        "colab": {
          "base_uri": "https://localhost:8080/"
        },
        "id": "NUqENKFQB4dN",
        "outputId": "a621ac2e-7e40-4ee2-d7f1-f5da50c152f0"
      },
      "execution_count": 306,
      "outputs": [
        {
          "output_type": "execute_result",
          "data": {
            "text/plain": [
              "np.int64(41)"
            ]
          },
          "metadata": {},
          "execution_count": 306
        }
      ]
    },
    {
      "cell_type": "code",
      "source": [
        "df['Q2: gender'].replace(np.nan,\"I'd rather not say\",inplace=True)"
      ],
      "metadata": {
        "colab": {
          "base_uri": "https://localhost:8080/"
        },
        "id": "PJUlt_3vB8_y",
        "outputId": "e89ca28b-c6a6-4085-de27-0cf902360887"
      },
      "execution_count": 307,
      "outputs": [
        {
          "output_type": "stream",
          "name": "stderr",
          "text": [
            "/tmp/ipython-input-307-2565006767.py:1: FutureWarning: A value is trying to be set on a copy of a DataFrame or Series through chained assignment using an inplace method.\n",
            "The behavior will change in pandas 3.0. This inplace method will never work because the intermediate object on which we are setting values always behaves as a copy.\n",
            "\n",
            "For example, when doing 'df[col].method(value, inplace=True)', try using 'df.method({col: value}, inplace=True)' or df[col] = df[col].method(value) instead, to perform the operation inplace on the original object.\n",
            "\n",
            "\n",
            "  df['Q2: gender'].replace(np.nan,\"I'd rather not say\",inplace=True)\n"
          ]
        }
      ]
    },
    {
      "cell_type": "code",
      "source": [
        "df['Q2: gender'].value_counts()"
      ],
      "metadata": {
        "colab": {
          "base_uri": "https://localhost:8080/",
          "height": 241
        },
        "id": "_qlztOVaCV6N",
        "outputId": "3efb57d1-3aee-422b-fcf9-cebb7554dbfe"
      },
      "execution_count": 308,
      "outputs": [
        {
          "output_type": "execute_result",
          "data": {
            "text/plain": [
              "Q2: gender\n",
              "Male                  1467\n",
              "Female                 839\n",
              "I'd rather not say     124\n",
              "Other                   30\n",
              "Name: count, dtype: int64"
            ],
            "text/html": [
              "<div>\n",
              "<style scoped>\n",
              "    .dataframe tbody tr th:only-of-type {\n",
              "        vertical-align: middle;\n",
              "    }\n",
              "\n",
              "    .dataframe tbody tr th {\n",
              "        vertical-align: top;\n",
              "    }\n",
              "\n",
              "    .dataframe thead th {\n",
              "        text-align: right;\n",
              "    }\n",
              "</style>\n",
              "<table border=\"1\" class=\"dataframe\">\n",
              "  <thead>\n",
              "    <tr style=\"text-align: right;\">\n",
              "      <th></th>\n",
              "      <th>count</th>\n",
              "    </tr>\n",
              "    <tr>\n",
              "      <th>Q2: gender</th>\n",
              "      <th></th>\n",
              "    </tr>\n",
              "  </thead>\n",
              "  <tbody>\n",
              "    <tr>\n",
              "      <th>Male</th>\n",
              "      <td>1467</td>\n",
              "    </tr>\n",
              "    <tr>\n",
              "      <th>Female</th>\n",
              "      <td>839</td>\n",
              "    </tr>\n",
              "    <tr>\n",
              "      <th>I'd rather not say</th>\n",
              "      <td>124</td>\n",
              "    </tr>\n",
              "    <tr>\n",
              "      <th>Other</th>\n",
              "      <td>30</td>\n",
              "    </tr>\n",
              "  </tbody>\n",
              "</table>\n",
              "</div><br><label><b>dtype:</b> int64</label>"
            ]
          },
          "metadata": {},
          "execution_count": 308
        }
      ]
    },
    {
      "cell_type": "code",
      "source": [
        "df['Q2: gender'].replace('Other',\"I'd rather not say\",inplace=True)"
      ],
      "metadata": {
        "colab": {
          "base_uri": "https://localhost:8080/"
        },
        "id": "I_7aCKNFCZDF",
        "outputId": "dc2bd736-373f-430d-fde9-75c37412980d"
      },
      "execution_count": 309,
      "outputs": [
        {
          "output_type": "stream",
          "name": "stderr",
          "text": [
            "/tmp/ipython-input-309-2551116041.py:1: FutureWarning: A value is trying to be set on a copy of a DataFrame or Series through chained assignment using an inplace method.\n",
            "The behavior will change in pandas 3.0. This inplace method will never work because the intermediate object on which we are setting values always behaves as a copy.\n",
            "\n",
            "For example, when doing 'df[col].method(value, inplace=True)', try using 'df.method({col: value}, inplace=True)' or df[col] = df[col].method(value) instead, to perform the operation inplace on the original object.\n",
            "\n",
            "\n",
            "  df['Q2: gender'].replace('Other',\"I'd rather not say\",inplace=True)\n"
          ]
        }
      ]
    },
    {
      "cell_type": "code",
      "source": [
        "df['Q2: gender'].value_counts()"
      ],
      "metadata": {
        "colab": {
          "base_uri": "https://localhost:8080/",
          "height": 209
        },
        "id": "Mq0QABYbDO75",
        "outputId": "64a07f41-ba72-4047-dd0e-9d5643758316"
      },
      "execution_count": 310,
      "outputs": [
        {
          "output_type": "execute_result",
          "data": {
            "text/plain": [
              "Q2: gender\n",
              "Male                  1467\n",
              "Female                 839\n",
              "I'd rather not say     154\n",
              "Name: count, dtype: int64"
            ],
            "text/html": [
              "<div>\n",
              "<style scoped>\n",
              "    .dataframe tbody tr th:only-of-type {\n",
              "        vertical-align: middle;\n",
              "    }\n",
              "\n",
              "    .dataframe tbody tr th {\n",
              "        vertical-align: top;\n",
              "    }\n",
              "\n",
              "    .dataframe thead th {\n",
              "        text-align: right;\n",
              "    }\n",
              "</style>\n",
              "<table border=\"1\" class=\"dataframe\">\n",
              "  <thead>\n",
              "    <tr style=\"text-align: right;\">\n",
              "      <th></th>\n",
              "      <th>count</th>\n",
              "    </tr>\n",
              "    <tr>\n",
              "      <th>Q2: gender</th>\n",
              "      <th></th>\n",
              "    </tr>\n",
              "  </thead>\n",
              "  <tbody>\n",
              "    <tr>\n",
              "      <th>Male</th>\n",
              "      <td>1467</td>\n",
              "    </tr>\n",
              "    <tr>\n",
              "      <th>Female</th>\n",
              "      <td>839</td>\n",
              "    </tr>\n",
              "    <tr>\n",
              "      <th>I'd rather not say</th>\n",
              "      <td>154</td>\n",
              "    </tr>\n",
              "  </tbody>\n",
              "</table>\n",
              "</div><br><label><b>dtype:</b> int64</label>"
            ]
          },
          "metadata": {},
          "execution_count": 310
        }
      ]
    },
    {
      "cell_type": "code",
      "source": [
        "df['Q3: age'].isnull().sum()"
      ],
      "metadata": {
        "colab": {
          "base_uri": "https://localhost:8080/"
        },
        "id": "l7ELmMvtDRqs",
        "outputId": "664bc6ab-7055-4c5c-f6cc-d21041b44a2b"
      },
      "execution_count": 311,
      "outputs": [
        {
          "output_type": "execute_result",
          "data": {
            "text/plain": [
              "np.int64(84)"
            ]
          },
          "metadata": {},
          "execution_count": 311
        }
      ]
    },
    {
      "cell_type": "code",
      "source": [
        "df['Q3: age'].dtype"
      ],
      "metadata": {
        "colab": {
          "base_uri": "https://localhost:8080/"
        },
        "id": "rQxD3KDDDaxm",
        "outputId": "a09b3b1f-3737-44d0-ace6-6e63d74bb71b"
      },
      "execution_count": 312,
      "outputs": [
        {
          "output_type": "execute_result",
          "data": {
            "text/plain": [
              "dtype('O')"
            ]
          },
          "metadata": {},
          "execution_count": 312
        }
      ]
    },
    {
      "cell_type": "code",
      "source": [
        "df['Q3: age'].value_counts()"
      ],
      "metadata": {
        "colab": {
          "base_uri": "https://localhost:8080/",
          "height": 489
        },
        "id": "_baK2-KlDz2i",
        "outputId": "68a03780-46fa-4e4d-c38b-01e89d9d295e"
      },
      "execution_count": 313,
      "outputs": [
        {
          "output_type": "execute_result",
          "data": {
            "text/plain": [
              "Q3: age\n",
              "40                                                  92\n",
              "34                                                  90\n",
              "37                                                  89\n",
              "43                                                  86\n",
              "36                                                  79\n",
              "                                                    ..\n",
              "59 on the day after Halloween                        1\n",
              "old enough                                           1\n",
              "your mom                                             1\n",
              "I can remember when Java was a cool new language     1\n",
              "60+                                                  1\n",
              "Name: count, Length: 106, dtype: int64"
            ],
            "text/html": [
              "<div>\n",
              "<style scoped>\n",
              "    .dataframe tbody tr th:only-of-type {\n",
              "        vertical-align: middle;\n",
              "    }\n",
              "\n",
              "    .dataframe tbody tr th {\n",
              "        vertical-align: top;\n",
              "    }\n",
              "\n",
              "    .dataframe thead th {\n",
              "        text-align: right;\n",
              "    }\n",
              "</style>\n",
              "<table border=\"1\" class=\"dataframe\">\n",
              "  <thead>\n",
              "    <tr style=\"text-align: right;\">\n",
              "      <th></th>\n",
              "      <th>count</th>\n",
              "    </tr>\n",
              "    <tr>\n",
              "      <th>Q3: age</th>\n",
              "      <th></th>\n",
              "    </tr>\n",
              "  </thead>\n",
              "  <tbody>\n",
              "    <tr>\n",
              "      <th>40</th>\n",
              "      <td>92</td>\n",
              "    </tr>\n",
              "    <tr>\n",
              "      <th>34</th>\n",
              "      <td>90</td>\n",
              "    </tr>\n",
              "    <tr>\n",
              "      <th>37</th>\n",
              "      <td>89</td>\n",
              "    </tr>\n",
              "    <tr>\n",
              "      <th>43</th>\n",
              "      <td>86</td>\n",
              "    </tr>\n",
              "    <tr>\n",
              "      <th>36</th>\n",
              "      <td>79</td>\n",
              "    </tr>\n",
              "    <tr>\n",
              "      <th>...</th>\n",
              "      <td>...</td>\n",
              "    </tr>\n",
              "    <tr>\n",
              "      <th>59 on the day after Halloween</th>\n",
              "      <td>1</td>\n",
              "    </tr>\n",
              "    <tr>\n",
              "      <th>old enough</th>\n",
              "      <td>1</td>\n",
              "    </tr>\n",
              "    <tr>\n",
              "      <th>your mom</th>\n",
              "      <td>1</td>\n",
              "    </tr>\n",
              "    <tr>\n",
              "      <th>I can remember when Java was a cool new language</th>\n",
              "      <td>1</td>\n",
              "    </tr>\n",
              "    <tr>\n",
              "      <th>60+</th>\n",
              "      <td>1</td>\n",
              "    </tr>\n",
              "  </tbody>\n",
              "</table>\n",
              "<p>106 rows × 1 columns</p>\n",
              "</div><br><label><b>dtype:</b> int64</label>"
            ]
          },
          "metadata": {},
          "execution_count": 313
        }
      ]
    },
    {
      "cell_type": "code",
      "source": [
        "df['Q3: age'].unique()"
      ],
      "metadata": {
        "colab": {
          "base_uri": "https://localhost:8080/"
        },
        "id": "bH_vouYdEFJm",
        "outputId": "cc576e39-ae3f-4e1e-905d-066659f7ad14"
      },
      "execution_count": 314,
      "outputs": [
        {
          "output_type": "execute_result",
          "data": {
            "text/plain": [
              "array([nan, 44, 49, 40, 23, 53, 33, 43, 56, 64, 37, 59, 48, 54, 36, 45,\n",
              "       25, 34, 35, 38, 58, 50, 47, 16, 52, 63, 65, 41, 27, 31, 61, 46, 42,\n",
              "       62, 29, 39, 32, 28, 69, 67, 30, 22, 26, 51, 70, 24, 18, 19,\n",
              "       'Old enough', 57, 60, 66, 12, 'Many', 55, 72, '?', 21, 11, 'no', 9,\n",
              "       68, 20, 6, 10, 71, 90, 13, '45-55', 312, 99, 7, 'hahahahaha', 88,\n",
              "       '39.4', 74, 102, 'older than dirt', 17, 15, 8, 75, '5u', 'Enough',\n",
              "       'See question 2', '24-50', 14, 'Over 50', 100, 76, 1000,\n",
              "       'sixty-nine', '46 Halloweens.', 'ancient', 77, 'OLD', 'old', 73,\n",
              "       '70 1/2', 1, 'MY NAME JEFF', 4, '59 on the day after Halloween',\n",
              "       'old enough', 'your mom',\n",
              "       'I can remember when Java was a cool new language', '60+'],\n",
              "      dtype=object)"
            ]
          },
          "metadata": {},
          "execution_count": 314
        }
      ]
    },
    {
      "cell_type": "code",
      "source": [
        "def clean_age(age):\n",
        "    if pd.isna(age):\n",
        "        return np.nan\n",
        "    age = str(age).strip().lower()\n",
        "    words = age.split()\n",
        "    for word in words:\n",
        "        if word.isdigit():\n",
        "            return int(word)\n",
        "        else:\n",
        "            return np.nan\n",
        "    if age == \"60+\":\n",
        "        return 60\n",
        "    elif age in [\"old enough\", \"Enough\"]:\n",
        "        return np.nan\n",
        "    elif '-' in age:\n",
        "        numbers = [int(x) for x in age.split('-') if x.isdigit()]\n",
        "        if len(numbers) == 2:\n",
        "            return (numbers[0] + numbers[1]) // 2\n",
        "    else:\n",
        "        return np.nan"
      ],
      "metadata": {
        "id": "crVt36iJEalu"
      },
      "execution_count": 315,
      "outputs": []
    },
    {
      "cell_type": "code",
      "source": [
        "df['Q3: age'] = df['Q3: age'].apply(clean_age)"
      ],
      "metadata": {
        "id": "-AItexglHNhM"
      },
      "execution_count": 316,
      "outputs": []
    },
    {
      "cell_type": "code",
      "source": [
        "df['Q3: age'] = pd.to_numeric(df['Q3: age'], errors='coerce')"
      ],
      "metadata": {
        "id": "PM_AyrqnHR_b"
      },
      "execution_count": 317,
      "outputs": []
    },
    {
      "cell_type": "code",
      "source": [
        "df['Q3: age'].unique()"
      ],
      "metadata": {
        "colab": {
          "base_uri": "https://localhost:8080/"
        },
        "id": "SdlJv183HV_u",
        "outputId": "fb67fc4f-d267-4718-bda7-911f5b818724"
      },
      "execution_count": 318,
      "outputs": [
        {
          "output_type": "execute_result",
          "data": {
            "text/plain": [
              "array([  nan,   44.,   49.,   40.,   23.,   53.,   33.,   43.,   56.,\n",
              "         64.,   37.,   59.,   48.,   54.,   36.,   45.,   25.,   34.,\n",
              "         35.,   38.,   58.,   50.,   47.,   16.,   52.,   63.,   65.,\n",
              "         41.,   27.,   31.,   61.,   46.,   42.,   62.,   29.,   39.,\n",
              "         32.,   28.,   69.,   67.,   30.,   22.,   26.,   51.,   70.,\n",
              "         24.,   18.,   19.,   57.,   60.,   66.,   12.,   55.,   72.,\n",
              "         21.,   11.,    9.,   68.,   20.,    6.,   10.,   71.,   90.,\n",
              "         13.,  312.,   99.,    7.,   88.,   74.,  102.,   17.,   15.,\n",
              "          8.,   75.,   14.,  100.,   76., 1000.,   77.,   73.,    1.,\n",
              "          4.])"
            ]
          },
          "metadata": {},
          "execution_count": 318
        }
      ]
    },
    {
      "cell_type": "code",
      "source": [
        "df['Q3: age'].isnull().sum()"
      ],
      "metadata": {
        "colab": {
          "base_uri": "https://localhost:8080/"
        },
        "id": "TDZzBPPnIFi0",
        "outputId": "1a5cd2d0-7465-49ce-f392-ffc92ec960a7"
      },
      "execution_count": 319,
      "outputs": [
        {
          "output_type": "execute_result",
          "data": {
            "text/plain": [
              "np.int64(107)"
            ]
          },
          "metadata": {},
          "execution_count": 319
        }
      ]
    },
    {
      "cell_type": "code",
      "source": [
        "df['Q3: age']=df['Q3: age'].apply(lambda x: np.nan if x>90 else x).astype('Int64')\n",
        "df['Q3: age'].unique()"
      ],
      "metadata": {
        "colab": {
          "base_uri": "https://localhost:8080/"
        },
        "id": "0jW4hxCmZ6gb",
        "outputId": "388d56d1-7625-4da8-d66d-2c982652f6f2"
      },
      "execution_count": 320,
      "outputs": [
        {
          "output_type": "execute_result",
          "data": {
            "text/plain": [
              "<IntegerArray>\n",
              "[<NA>,   44,   49,   40,   23,   53,   33,   43,   56,   64,   37,   59,   48,\n",
              "   54,   36,   45,   25,   34,   35,   38,   58,   50,   47,   16,   52,   63,\n",
              "   65,   41,   27,   31,   61,   46,   42,   62,   29,   39,   32,   28,   69,\n",
              "   67,   30,   22,   26,   51,   70,   24,   18,   19,   57,   60,   66,   12,\n",
              "   55,   72,   21,   11,    9,   68,   20,    6,   10,   71,   90,   13,    7,\n",
              "   88,   74,   17,   15,    8,   75,   14,   76,   77,   73,    1,    4]\n",
              "Length: 77, dtype: Int64"
            ]
          },
          "metadata": {},
          "execution_count": 320
        }
      ]
    },
    {
      "cell_type": "code",
      "source": [
        "df['Q3: age'].isnull().sum()"
      ],
      "metadata": {
        "colab": {
          "base_uri": "https://localhost:8080/"
        },
        "id": "sU0iwHF8brVm",
        "outputId": "4897342a-13a9-41a9-d11b-f7d9441878d0"
      },
      "execution_count": 335,
      "outputs": [
        {
          "output_type": "execute_result",
          "data": {
            "text/plain": [
              "np.int64(113)"
            ]
          },
          "metadata": {},
          "execution_count": 335
        }
      ]
    },
    {
      "cell_type": "code",
      "source": [
        "df['Q4: country'].unique()"
      ],
      "metadata": {
        "colab": {
          "base_uri": "https://localhost:8080/"
        },
        "id": "12wCb7h9IL2R",
        "outputId": "3f2e98d2-b66b-4ed6-ce04-c374dc86086d"
      },
      "execution_count": 321,
      "outputs": [
        {
          "output_type": "execute_result",
          "data": {
            "text/plain": [
              "array([nan, 'USA', 'us', 'usa', 'canada', 'Canada', 'Us', 'US', 'Murica',\n",
              "       'United States', 'uk', 'United Kingdom', 'united states', 'Usa',\n",
              "       'United staes', 'United States of America', 'UAE', 'England', 'UK',\n",
              "       'Mexico', 'United states', 'u.s.a.', 'USAUSAUSA', 'america', 35,\n",
              "       'france', 'U.S.A.', 'finland', 'unhinged states',\n",
              "       'united states of america', 'US of A', 'Unites States',\n",
              "       'The United States', 'North Carolina', 'Unied States',\n",
              "       'Netherlands', 'germany', 'Europe', 'Earth', 'U S', 'u.s.', 'U.K.',\n",
              "       'Costa Rica', 'The United States of America', 'unite states',\n",
              "       'U.S.', 46, 'cascadia', 'Australia', 'insanity lately', 'Greece',\n",
              "       'USA? Hard to tell anymore..', 'merica', 'usas', 'Pittsburgh', 45,\n",
              "       'United State', 32, 'France', 'australia', 'A', 'Can', 'Canae',\n",
              "       'New York', 'Trumpistan', 'Ireland', 'United Sates', 'Korea',\n",
              "       'California', 'Japan', 'USa', 'South africa',\n",
              "       'I pretend to be from Canada, but I am really from the United States.',\n",
              "       'Uk', 'Iceland', 'Germany', 'Canada`', 'Scotland', 'Denmark',\n",
              "       'United Stated', 'Switzerland', 'Ahem....Amerca', 'UD',\n",
              "       'South Korea', 'New Jersey', 'CANADA', 'Indonesia',\n",
              "       'United ststes', 'America', 'The Netherlands', 'United Statss',\n",
              "       'endland', 'Atlantis', 'murrika', 'USA! USA! USA!', 'USAA',\n",
              "       'Alaska', 'united States', 'soviet canuckistan', 'N. America',\n",
              "       'Singapore', 'USSA', 'China', 'Taiwan', 'hong kong', 'spain',\n",
              "       'Sweden', 'Hong Kong', 'Narnia', 'u s a', 'United Statea',\n",
              "       'united ststes', 1, 'subscribe to dm4uz3 on youtube',\n",
              "       'United kingdom', 'USA USA USA!!!!', \"I don't know anymore\",\n",
              "       'Fear and Loathing'], dtype=object)"
            ]
          },
          "metadata": {},
          "execution_count": 321
        }
      ]
    },
    {
      "cell_type": "code",
      "source": [
        "country_mapping = {\n",
        "    'usa': 'United States', 'us': 'United States', 'united states': 'United States',\n",
        "    'murica': 'United States', 'u.s.': 'United States', 'united states of america': 'United States',\n",
        "    'unites states': 'United States', 'united staes': 'United States', 'u s': 'United States',\n",
        "    'america': 'United States', 'us of a': 'United States', 'u.s.a': 'United States',\n",
        "    'canada': 'Canada', 'canada ': 'Canada',\n",
        "    'france': 'France', 'franc': 'France',\n",
        "    'germany': 'Germany', 'germ': 'Germany',\n",
        "    'uk': 'United Kingdom', 'united kingdom': 'United Kingdom', 'england': 'United Kingdom',\n",
        "    'britain': 'United Kingdom', 'u.k.': 'United Kingdom',\n",
        "    'australia': 'Australia', 'austral': 'Australia',\n",
        "    'mexico': 'Mexico',\n",
        "    'italy': 'Italy',\n",
        "    'japan': 'Japan',\n",
        "    'korea': 'South Korea', 'south korea': 'South Korea',\n",
        "    'switzerland': 'Switzerland', 'swiss': 'Switzerland',\n",
        "    'denmark': 'Denmark',\n",
        "    'sweden': 'Sweden',\n",
        "    'finland': 'Finland',\n",
        "    'netherlands': 'Netherlands', 'holland': 'Netherlands',\n",
        "    'belgium': 'Belgium',\n",
        "    'austria': 'Austria',\n",
        "    'norway': 'Norway',\n",
        "    'spain': 'Spain',\n",
        "    'singapore': 'Singapore',\n",
        "    'hong kong': 'Hong Kong',\n",
        "    'new york': 'United States', 'california': 'United States', 'new jersey': 'United States',\n",
        "    'pittsburgh': 'United States', 'trumpistan': 'United States', 'cascadia': 'United States',\n",
        "}"
      ],
      "metadata": {
        "id": "nb58jlQJIVCn"
      },
      "execution_count": 322,
      "outputs": []
    },
    {
      "cell_type": "code",
      "source": [
        "df['Q4: country'] = df['Q4: country'].apply(\n",
        "    lambda x: country_mapping.get(str(x).strip().lower() if pd.notna(x) else np.nan, np.nan)\n",
        ")"
      ],
      "metadata": {
        "id": "8zkV09ZsPRsX"
      },
      "execution_count": 323,
      "outputs": []
    },
    {
      "cell_type": "code",
      "source": [
        "df['Q4: country'].unique()"
      ],
      "metadata": {
        "colab": {
          "base_uri": "https://localhost:8080/"
        },
        "id": "I7LYpVfbTBru",
        "outputId": "9f85c4c9-4a36-4012-a93d-c4b26c419d2c"
      },
      "execution_count": 324,
      "outputs": [
        {
          "output_type": "execute_result",
          "data": {
            "text/plain": [
              "array([nan, 'United States', 'Canada', 'United Kingdom', 'Mexico',\n",
              "       'France', 'Finland', 'Netherlands', 'Germany', 'Australia',\n",
              "       'South Korea', 'Japan', 'Denmark', 'Switzerland', 'Singapore',\n",
              "       'Hong Kong', 'Spain', 'Sweden'], dtype=object)"
            ]
          },
          "metadata": {},
          "execution_count": 324
        }
      ]
    },
    {
      "cell_type": "code",
      "source": [
        "df['Q4: country'].isnull().sum()"
      ],
      "metadata": {
        "colab": {
          "base_uri": "https://localhost:8080/"
        },
        "id": "Sk0g54gSTPR4",
        "outputId": "d1bb17b6-b66e-4e31-98bd-c0e036b1efa7"
      },
      "execution_count": 325,
      "outputs": [
        {
          "output_type": "execute_result",
          "data": {
            "text/plain": [
              "np.int64(141)"
            ]
          },
          "metadata": {},
          "execution_count": 325
        }
      ]
    },
    {
      "cell_type": "code",
      "source": [
        "df['Q4: country'].replace(np.nan,'Unknown',inplace=True)"
      ],
      "metadata": {
        "colab": {
          "base_uri": "https://localhost:8080/"
        },
        "id": "44IMxjVMUfnS",
        "outputId": "4ea81fd8-f3f7-4b94-d04d-dd0a8b862c7f"
      },
      "execution_count": 326,
      "outputs": [
        {
          "output_type": "stream",
          "name": "stderr",
          "text": [
            "/tmp/ipython-input-326-3294763023.py:1: FutureWarning: A value is trying to be set on a copy of a DataFrame or Series through chained assignment using an inplace method.\n",
            "The behavior will change in pandas 3.0. This inplace method will never work because the intermediate object on which we are setting values always behaves as a copy.\n",
            "\n",
            "For example, when doing 'df[col].method(value, inplace=True)', try using 'df.method({col: value}, inplace=True)' or df[col] = df[col].method(value) instead, to perform the operation inplace on the original object.\n",
            "\n",
            "\n",
            "  df['Q4: country'].replace(np.nan,'Unknown',inplace=True)\n"
          ]
        }
      ]
    },
    {
      "cell_type": "code",
      "source": [
        "df['Q4: country'].unique()"
      ],
      "metadata": {
        "colab": {
          "base_uri": "https://localhost:8080/"
        },
        "id": "sfBoETD9UkyL",
        "outputId": "0aca074c-873c-4ce8-cb8e-4ca5a6581dd8"
      },
      "execution_count": 327,
      "outputs": [
        {
          "output_type": "execute_result",
          "data": {
            "text/plain": [
              "array(['Unknown', 'United States', 'Canada', 'United Kingdom', 'Mexico',\n",
              "       'France', 'Finland', 'Netherlands', 'Germany', 'Australia',\n",
              "       'South Korea', 'Japan', 'Denmark', 'Switzerland', 'Singapore',\n",
              "       'Hong Kong', 'Spain', 'Sweden'], dtype=object)"
            ]
          },
          "metadata": {},
          "execution_count": 327
        }
      ]
    },
    {
      "cell_type": "code",
      "source": [
        "df['Q5: state/province'].unique()"
      ],
      "metadata": {
        "colab": {
          "base_uri": "https://localhost:8080/"
        },
        "id": "X0LlHgXjTUXQ",
        "outputId": "1085e580-f0d2-4af5-ab5b-7d8c87cd05b6"
      },
      "execution_count": 328,
      "outputs": [
        {
          "output_type": "execute_result",
          "data": {
            "text/plain": [
              "array([nan, 'NM', 'Virginia', 'or', 'exton pa', 'Colorado', 'ontario',\n",
              "       'Ontario', 'Wa', 'Quebec', 'NY', 'California', 'Texas', 'NEW YORK',\n",
              "       'CO', 'IN', 'MN', 'aberdeenshire', 'Alberta', 'Wisconsin, 53705',\n",
              "       'RI', 'NC', 'Scotland', 'minnesota', 'Michigan', 'Florida',\n",
              "       'New Jersey', 'VA', 'Los Angeles, California', 'CA', 'New York',\n",
              "       'Chicago, Illinois', 'Nj', 'Wisconsin', 'Minnesota', 'London',\n",
              "       'mn', 'TEXAS', 'Illinois', 'District of Columbia', 'Washington',\n",
              "       'Massachusetts', 'OR', 'Montana', 'massachusetts', 'Abu Dhabi',\n",
              "       'TX', 'Arizona', 'Dc', 'yukon', 'Pennsylvania', 'MD', 'Ohio',\n",
              "       'OXFORDSHIRE', 'DC', 'Iowa', 'Mn', 'TN', 'BC', 'Maryland', 'MI',\n",
              "       'alaska', 'Ny', 'Colorado, Jefferson county ', 'Louisiana', 'pa',\n",
              "       'CO, Larimer County', 'Nebraska', 'Oregon', 'UT', 'ny', 'CDMX',\n",
              "       'north carolina', 'Tennessee', 'Knox county, Tennessee',\n",
              "       'New Mexico', 'Maine', 'maine', 'Virginia, Arlington', 'WA', 'MO',\n",
              "       'Mi', 'MA', 'Alaska', 'New York, NY', 'Il', 'PA', 'New Hampshire',\n",
              "       'Georgia', 'IL', 'Washington, Clark ', 'NE', 'Oklahoma', 'SC',\n",
              "       'mi', 'Nevada', 'va', 'vancouver, bc',\n",
              "       'Oregon - but will be in Washington for Halloween', 'Ri',\n",
              "       'Washington, King', 'Ca', 'wa', 'md', 'new york', 'Rhode island',\n",
              "       'VT, Chittenden', 'North Carolina', 'pennsylvania', 'PEnnsylvania',\n",
              "       'Alabama', 'GA', 'FL, Orange County', 'Nope', 'manitoba',\n",
              "       'colorado', 'california', 'South Carolina', 'Baja California',\n",
              "       'illinois', 'Santa Cruz County, California', 'MARYLAND', 'NJ',\n",
              "       'North Dakota', 'Pennsylvania, Montgomery County', 'Astoria NY',\n",
              "       'ca', 'Kansas', 'sk', 'Missouri', 'Oxfordshire',\n",
              "       'British Columbia', 'West Virginia', 'Harris County, Texas', 'USA',\n",
              "       'ohio', 'ma', 'nc', 'Bc', 'oregon', 'philadelphia', 'Kentucky',\n",
              "       'HI', 'South Holland', 'Derbyshire', 'hesse',\n",
              "       'Massachusetts, Plymouth county', 'hi', 'Co', 'Cali', 'vt',\n",
              "       'CA, Alameda', 'Utah', 'FL', 'Michigan, Shiawassee County',\n",
              "       'Newfoundland', 'Indiana', 'wisconsin', 'Idaho ada', 'La',\n",
              "       'America', 'Hawaii', 'California, Alameda', 'Az', 'VT', 'AZ',\n",
              "       'Sub Earth', 'North dakota', 'virginia', 'Ga',\n",
              "       'alameda county, california', 'Greater London', 'bc', 'nm', 'AB',\n",
              "       'WV, Kanawha County ', 'michigan', 'tx', 'Washington State',\n",
              "       'Sussex', 48, 'Washington, King County', 'San Jose', 'florida',\n",
              "       'Connecticut', 'Orlando, FL', 'ON', 'Saskatchewan', 'texas',\n",
              "       'newfoundland', 'mississippi', 'washington', 'Manitoba',\n",
              "       'Manchester', 'cascadia', 'in', 'rhode island', 'Pa', 'Ut',\n",
              "       'Sydney', 'CT', 'oblivion if things keep going this way',\n",
              "       'connecticut', 'Nunya, Bizness, USA', 'OH', 'Washington state',\n",
              "       'Oakland, California', 'Washington, Seattle, king',\n",
              "       'Ontario,  Canada', 'ri', 'phoenix, maricopa county, arizona',\n",
              "       'Merlin', 'NS', 'Washington state, Kitsap County', 'cailifornia',\n",
              "       'oakland,ca', 'QC', 'Pittsburgh pa', 'Issaquah, WA, King County ',\n",
              "       'Washington, seattle, king', 'Massachussets', 'Whatcom County, WA',\n",
              "       'Mt', 'NH', 'Michigin', 'Ma', 'KS', 'Oakland County, Michigan',\n",
              "       'Albeqrrta', 'Marne', 'Noord-Holland', 'Tennessee, Knox County',\n",
              "       'Henrico, VA', 'Washington State, King County, City of Seattle',\n",
              "       'Washington, DC', 'nyc', 'Brooklyn', 'qld',\n",
              "       'Santa Barbara co. California', 'Ky', 'New Orleans la',\n",
              "       'colorado, boulder', 'mo', 'COLORADO', 'Nh', 'Greater Manchester',\n",
              "       'Fife, Scotland', 'A', 'Kalamazoo County, MI', 'OREGON', 'Wi',\n",
              "       'wv', 'ulster county, NY', 'NJ, Gloucester', 'calif', 'Or', 'tn',\n",
              "       'MS', 'NB', 'Queens', 'Vermont', 'Kildare', 'ND', 'tennessee',\n",
              "       'Washington DC', 'Kings, New York ', 'Cook', 'Toronto, Ontario',\n",
              "       'Victoria', 'On', 'nova scotia', 'Tehama', 'suffolk county ny',\n",
              "       'Santa Clara County, California', 'louisiana', 'SD', 'Md',\n",
              "       'Missoure', 'IA', 'Colorado larimer county', 'Tokyo',\n",
              "       'New Mexico, USA', 'ont', 'Califor', 'Idaho', 'NV',\n",
              "       'Brooklyn, kings county ny', 'King County, Washington', 'WI',\n",
              "       'Washington, Island county', 'KwaZulu-Natal', 'Carver county, MN',\n",
              "       'DUTCHESS COUNTY NY', 'Wyoming', 'Bristol', 'british columbia',\n",
              "       'California, San Francisco', 'Glendora, Los Angeles, California',\n",
              "       'Edinburgh', 'Strathclyde', 'Lancasire', 'Ørbæk', 'pr', 'Idf',\n",
              "       'Zuid Holland', 'Osaka', 'Surrey', 'Northern ireland', 'Vaud',\n",
              "       'Nova Scotia', 'az', 'see question 2', 'Midlothian',\n",
              "       'Durham County, North Carolina', 'Missouri, Miller County',\n",
              "       'Glasgow', 'ct', 'Cuyahoga County, Ohio', 'Seoul', 'Canada',\n",
              "       'Kanagawa', 'The Shore', 'Devonshire', 'Tx.', 'maryland',\n",
              "       'PENNSYLVANIA', 'ONTARIO', 'Jakarta', 'kansas',\n",
              "       'Mannheim, Baden-Württemberg ', '|NC', 'Rotterdam', 'Ar',\n",
              "       'Arkansas', 'renton,wa ', 'N-Brabant', 'missouri', 'Greifswald',\n",
              "       'ar', 'British Columbia, Canada', 'kent', 'Hessen', 'NOYB',\n",
              "       'New york', 'South Dakota', 'Emerald City, Petrolia',\n",
              "       'New York, New York', 'wa, spokane',\n",
              "       'Buncombe County, North Carolina', 'California, San Diego',\n",
              "       'new hampshire', 'California, Ventura County',\n",
              "       'NY, Tompkins County', 'Arlington, VA', 'kentucky', 'alberta',\n",
              "       'Philadelphia', 'Portland, maine', 'sc', 'nh', 'NSW', 'califormia',\n",
              "       'New jersey', 'montana', 'indiana', 'Mexico city', 'GA - Georgia',\n",
              "       'il', 'WV', 'Oregon, Multnomah County', 'Vancouver, Wa', 'Nc',\n",
              "       'Atlanta, GA', 'Singapore', 'west virginia', 'North carolina',\n",
              "       'KY', 'United States', 'Mo', 'Colorado (CO)', 'Fl', 'wyoming',\n",
              "       'Nm', 'Dona Ana county, New Mexico', 'UT, Salt Lake', 'Ks',\n",
              "       'California, Contra Costa County, Pleasant Hill',\n",
              "       'Shanghai, Chang Ning district ', 'Vt', 'Monroe county',\n",
              "       'Hong Kong', 'Washingto', 'Dublin', 'California, Mendocino County',\n",
              "       'na', 'madrid', 'Hesse', 'Noord-Brabant', 'Skane', 'Zürich',\n",
              "       'Tree Town, USA', 'Philadelphia, PA',\n",
              "       'Bristol County, Rhode Island', 'georgia',\n",
              "       'Newfoundland and Labrador', 'Oshawa, Ontario, Canada', 'NL',\n",
              "       'oklahoma', 'NJ; Essex', 'Va', 'Delaware', 'Mich', 'Ia', 'Québec',\n",
              "       'orange county, ca', 'BERKELEY, CA', 'California, USA', 'NYC',\n",
              "       'St. Louis County, Missouri', 'Munster', 'Chicago, IL',\n",
              "       'Philadelphia PA', 'Rappahannock County, VA', 'OK', 'Chicago, IL ',\n",
              "       'Mexico City', 'dc', 'WASHINGTON DC', 'Tn', 'ill', 'Stockholm',\n",
              "       'New York County, New York City, New York State', 'Chicago',\n",
              "       'West Yorkshire', 'Berlin', 'arlington, va', 1, 'ur mom',\n",
              "       'Alaska, Matanuska-Susitna Borough', 'utah', 'Marietta, GA',\n",
              "       'Northbrook, IL', 'delaware', 'Tx', 'Ont',\n",
              "       'Northampton County, PA', 'Rhode Island',\n",
              "       'Pa.   Northampton county', 'California, San Diego county',\n",
              "       'Bloomington, IN', 'Quenec', 'Londom', 'nj',\n",
              "       'st. augustine florida', 'iowa',\n",
              "       \"The Democratic People's Republic of North Carolina\",\n",
              "       'pennsylvania, northampton couny, easton', 'St Louis mo', 'mt',\n",
              "       'Psychotic', 'québec'], dtype=object)"
            ]
          },
          "metadata": {},
          "execution_count": 328
        }
      ]
    },
    {
      "cell_type": "code",
      "source": [
        "state_province_mapping = {\n",
        "    # California\n",
        "    'california': 'California', 'ca': 'California', 'cali': 'California',\n",
        "    'los angeles': 'California', 'oakland': 'California', 'gloucester': 'California',\n",
        "    'san diego': 'California', 'ventura': 'California', 'queens': 'California',\n",
        "    # New York\n",
        "    'new york': 'New York', 'ny': 'New York', 'brooklyn': 'New York',\n",
        "    'dutchess county': 'New York', 'ulster county': 'New York',\n",
        "    # Texas\n",
        "    'texas': 'Texas', 'tx': 'Texas',\n",
        "    # Pennsylvania\n",
        "    'pennsylvania': 'Pennsylvania', 'pa': 'Pennsylvania', 'pittsburgh': 'Pennsylvania',\n",
        "    'philadelphia': 'Pennsylvania', 'northampton county': 'Pennsylvania', 'raphahannock county': 'Pennsylvania',\n",
        "    # Virginia\n",
        "    'virginia': 'Virginia', 'va': 'Virginia', 'henrico': 'Virginia', 'arlington': 'Virginia',\n",
        "    # Florida\n",
        "    'florida': 'Florida', 'fl': 'Florida', 'orlando': 'Florida', 'st. augustine': 'Florida',\n",
        "    # Ohio\n",
        "    'ohio': 'Ohio', 'cuyahoga county': 'Ohio',\n",
        "    # Michigan\n",
        "    'michigan': 'Michigan', 'mi': 'Michigan', 'albuquerque': 'Michigan',\n",
        "    # Washington\n",
        "    'washington': 'Washington', 'wa': 'Washington', 'king county': 'Washington',\n",
        "    'issaquah': 'Washington', 'washington state': 'Washington', 'island county': 'Washington',\n",
        "    # Arizona\n",
        "    'arizona': 'Arizona', 'az': 'Arizona', 'maricopa': 'Arizona', 'phoenix': 'Arizona',\n",
        "    # Maryland\n",
        "    'maryland': 'Maryland', 'md': 'Maryland',\n",
        "    # Massachusetts\n",
        "    'massachusetts': 'Massachusetts', 'ma': 'Massachusetts', 'suffolk': 'Massachusetts',\n",
        "    # Illinois\n",
        "    'illinois': 'Illinois', 'il': 'Illinois',\n",
        "    # Georgia\n",
        "    'georgia': 'Georgia', 'ga': 'Georgia',\n",
        "    # Colorado\n",
        "    'colorado': 'Colorado', 'co': 'Colorado', 'boulder': 'Colorado',\n",
        "    # New Jersey\n",
        "    'new jersey': 'New Jersey', 'nj': 'New Jersey', 'merlin': 'New Jersey',\n",
        "    # Oregon\n",
        "    'oregon': 'Oregon', 'or': 'Oregon', 'multnomah county': 'Oregon',\n",
        "    # Connecticut\n",
        "    'connecticut': 'Connecticut', 'ct': 'Connecticut',\n",
        "    # North Carolina\n",
        "    'north carolina': 'North Carolina', 'nc': 'North Carolina',\n",
        "    # South Carolina\n",
        "    'south carolina': 'South Carolina', 'sc': 'South Carolina',\n",
        "    # Tennessee\n",
        "    'tennessee': 'Tennessee', 'tn': 'Tennessee', 'knox county': 'Tennessee',\n",
        "    # Alabama\n",
        "    'alabama': 'Alabama', 'al': 'Alabama',\n",
        "    # Alaska\n",
        "    'alaska': 'Alaska', 'ak': 'Alaska',\n",
        "    # Hawaii\n",
        "    'hawaii': 'Hawaii', 'hi': 'Hawaii',\n",
        "    # Idaho\n",
        "    'idaho': 'Idaho', 'id': 'Idaho',\n",
        "    # Indiana\n",
        "    'indiana': 'Indiana', 'in': 'Indiana',\n",
        "    # Iowa\n",
        "    'iowa': 'Iowa', 'ia': 'Iowa',\n",
        "    # Kansas\n",
        "    'kansas': 'Kansas', 'ks': 'Kansas',\n",
        "    # Kentucky\n",
        "    'kentucky': 'Kentucky', 'ky': 'Kentucky',\n",
        "    # Louisiana\n",
        "    'louisiana': 'Louisiana', 'la': 'Louisiana',\n",
        "    # Maine\n",
        "    'maine': 'Maine', 'me': 'Maine',\n",
        "    # Minnesota\n",
        "    'minnesota': 'Minnesota', 'mn': 'Minnesota',\n",
        "    # Mississippi\n",
        "    'mississippi': 'Mississippi', 'ms': 'Mississippi',\n",
        "    # Missouri\n",
        "    'missouri': 'Missouri', 'mo': 'Missouri', 'st. louis county': 'Missouri',\n",
        "    # Montana\n",
        "    'montana': 'Montana', 'mt': 'Montana',\n",
        "    # Nebraska\n",
        "    'nebraska': 'Nebraska', 'ne': 'Nebraska',\n",
        "    # Nevada\n",
        "    'nevada': 'Nevada', 'nv': 'Nevada',\n",
        "    # New Hampshire\n",
        "    'new hampshire': 'New Hampshire', 'nh': 'New Hampshire',\n",
        "    # New Mexico\n",
        "    'new mexico': 'New Mexico', 'nm': 'New Mexico', 'dona ana county': 'New Mexico',\n",
        "    # North Dakota\n",
        "    'north dakota': 'North Dakota', 'nd': 'North Dakota',\n",
        "    # Oklahoma\n",
        "    'oklahoma': 'Oklahoma', 'ok': 'Oklahoma',\n",
        "    # Rhode Island\n",
        "    'rhode island': 'Rhode Island', 'ri': 'Rhode Island',\n",
        "    # South Dakota\n",
        "    'south dakota': 'South Dakota', 'sd': 'South Dakota',\n",
        "    # Utah\n",
        "    'utah': 'Utah', 'ut': 'Utah',\n",
        "    # Vermont\n",
        "    'vermont': 'Vermont', 'vt': 'Vermont',\n",
        "    # West Virginia\n",
        "    'west virginia': 'West Virginia', 'wv': 'West Virginia',\n",
        "    # Wisconsin\n",
        "    'wisconsin': 'Wisconsin', 'wi': 'Wisconsin',\n",
        "    # Canada Provinces\n",
        "    'ontario': 'Ontario', 'ontario canada': 'Ontario', 'oshawa': 'Ontario',\n",
        "    'victoria': 'British Columbia', 'british columbia': 'British Columbia',\n",
        "    'nova scotia': 'Nova Scotia', 'kingston': 'Ontario',\n",
        "    # Other\n",
        "    'sydney': 'New South Wales', 'manchester': 'Greater Manchester',\n",
        "    'zurich': 'Zurich', 'greater london': 'Greater London',\n",
        "    #Weird\n",
        "    'oblivion': np.nan, 'cascadia': np.nan, 'kwazulu-natal': np.nan,\n",
        "}"
      ],
      "metadata": {
        "id": "QFOyqoLJThsc"
      },
      "execution_count": 329,
      "outputs": []
    },
    {
      "cell_type": "code",
      "source": [
        "df['Q5: state/province'] = df['Q5: state/province'].apply(\n",
        "    lambda x: state_province_mapping.get(str(x).strip().lower() if pd.notna(x) else np.nan, np.nan)\n",
        ")"
      ],
      "metadata": {
        "id": "-UuBELgXUUCC"
      },
      "execution_count": 330,
      "outputs": []
    },
    {
      "cell_type": "code",
      "source": [
        "df['Q5: state/province'].unique()"
      ],
      "metadata": {
        "colab": {
          "base_uri": "https://localhost:8080/"
        },
        "id": "d1EgEO3WUXAQ",
        "outputId": "7f10393b-9fdb-45e4-9872-5be82dafa52a"
      },
      "execution_count": 331,
      "outputs": [
        {
          "output_type": "execute_result",
          "data": {
            "text/plain": [
              "array([nan, 'New Mexico', 'Virginia', 'Oregon', 'Colorado', 'Ontario',\n",
              "       'Washington', 'New York', 'California', 'Texas', 'Indiana',\n",
              "       'Minnesota', 'Rhode Island', 'North Carolina', 'Michigan',\n",
              "       'Florida', 'New Jersey', 'Wisconsin', 'Illinois', 'Massachusetts',\n",
              "       'Montana', 'Arizona', 'Pennsylvania', 'Maryland', 'Ohio', 'Iowa',\n",
              "       'Tennessee', 'Alaska', 'Louisiana', 'Nebraska', 'Utah', 'Maine',\n",
              "       'Missouri', 'New Hampshire', 'Georgia', 'Oklahoma',\n",
              "       'South Carolina', 'Nevada', 'Alabama', 'North Dakota', 'Kansas',\n",
              "       'British Columbia', 'West Virginia', 'Kentucky', 'Hawaii',\n",
              "       'Vermont', 'Greater London', 'Connecticut', 'Mississippi',\n",
              "       'Greater Manchester', 'New South Wales', 'Nova Scotia',\n",
              "       'South Dakota', 'Idaho'], dtype=object)"
            ]
          },
          "metadata": {},
          "execution_count": 331
        }
      ]
    },
    {
      "cell_type": "code",
      "source": [
        "df['Q5: state/province'].replace(np.nan,'Unknown',inplace=True)"
      ],
      "metadata": {
        "colab": {
          "base_uri": "https://localhost:8080/"
        },
        "id": "-TyYABjQUbSW",
        "outputId": "15635888-7ea8-4260-bb8d-75f0a5fa97bf"
      },
      "execution_count": 332,
      "outputs": [
        {
          "output_type": "stream",
          "name": "stderr",
          "text": [
            "/tmp/ipython-input-332-183843842.py:1: FutureWarning: A value is trying to be set on a copy of a DataFrame or Series through chained assignment using an inplace method.\n",
            "The behavior will change in pandas 3.0. This inplace method will never work because the intermediate object on which we are setting values always behaves as a copy.\n",
            "\n",
            "For example, when doing 'df[col].method(value, inplace=True)', try using 'df.method({col: value}, inplace=True)' or df[col] = df[col].method(value) instead, to perform the operation inplace on the original object.\n",
            "\n",
            "\n",
            "  df['Q5: state/province'].replace(np.nan,'Unknown',inplace=True)\n"
          ]
        }
      ]
    },
    {
      "cell_type": "code",
      "source": [
        "df['Q5: state/province'].unique()"
      ],
      "metadata": {
        "colab": {
          "base_uri": "https://localhost:8080/"
        },
        "id": "3fAsEUqfU2gn",
        "outputId": "754722db-2c9c-4df3-b71e-61b092ce863d"
      },
      "execution_count": 333,
      "outputs": [
        {
          "output_type": "execute_result",
          "data": {
            "text/plain": [
              "array(['Unknown', 'New Mexico', 'Virginia', 'Oregon', 'Colorado',\n",
              "       'Ontario', 'Washington', 'New York', 'California', 'Texas',\n",
              "       'Indiana', 'Minnesota', 'Rhode Island', 'North Carolina',\n",
              "       'Michigan', 'Florida', 'New Jersey', 'Wisconsin', 'Illinois',\n",
              "       'Massachusetts', 'Montana', 'Arizona', 'Pennsylvania', 'Maryland',\n",
              "       'Ohio', 'Iowa', 'Tennessee', 'Alaska', 'Louisiana', 'Nebraska',\n",
              "       'Utah', 'Maine', 'Missouri', 'New Hampshire', 'Georgia',\n",
              "       'Oklahoma', 'South Carolina', 'Nevada', 'Alabama', 'North Dakota',\n",
              "       'Kansas', 'British Columbia', 'West Virginia', 'Kentucky',\n",
              "       'Hawaii', 'Vermont', 'Greater London', 'Connecticut',\n",
              "       'Mississippi', 'Greater Manchester', 'New South Wales',\n",
              "       'Nova Scotia', 'South Dakota', 'Idaho'], dtype=object)"
            ]
          },
          "metadata": {},
          "execution_count": 333
        }
      ]
    },
    {
      "cell_type": "code",
      "source": [],
      "metadata": {
        "id": "looiru4rU7xb",
        "colab": {
          "base_uri": "https://localhost:8080/",
          "height": 569
        },
        "outputId": "9de9e35b-a9a9-44f2-f0ad-2c0e5bb58556"
      },
      "execution_count": 334,
      "outputs": [
        {
          "output_type": "error",
          "ename": "KeyError",
          "evalue": "''",
          "traceback": [
            "\u001b[0;31m---------------------------------------------------------------------------\u001b[0m",
            "\u001b[0;31mKeyError\u001b[0m                                  Traceback (most recent call last)",
            "\u001b[0;32m/usr/local/lib/python3.11/dist-packages/pandas/core/indexes/base.py\u001b[0m in \u001b[0;36mget_loc\u001b[0;34m(self, key)\u001b[0m\n\u001b[1;32m   3804\u001b[0m         \u001b[0;32mtry\u001b[0m\u001b[0;34m:\u001b[0m\u001b[0;34m\u001b[0m\u001b[0;34m\u001b[0m\u001b[0m\n\u001b[0;32m-> 3805\u001b[0;31m             \u001b[0;32mreturn\u001b[0m \u001b[0mself\u001b[0m\u001b[0;34m.\u001b[0m\u001b[0m_engine\u001b[0m\u001b[0;34m.\u001b[0m\u001b[0mget_loc\u001b[0m\u001b[0;34m(\u001b[0m\u001b[0mcasted_key\u001b[0m\u001b[0;34m)\u001b[0m\u001b[0;34m\u001b[0m\u001b[0;34m\u001b[0m\u001b[0m\n\u001b[0m\u001b[1;32m   3806\u001b[0m         \u001b[0;32mexcept\u001b[0m \u001b[0mKeyError\u001b[0m \u001b[0;32mas\u001b[0m \u001b[0merr\u001b[0m\u001b[0;34m:\u001b[0m\u001b[0;34m\u001b[0m\u001b[0;34m\u001b[0m\u001b[0m\n",
            "\u001b[0;32mindex.pyx\u001b[0m in \u001b[0;36mpandas._libs.index.IndexEngine.get_loc\u001b[0;34m()\u001b[0m\n",
            "\u001b[0;32mindex.pyx\u001b[0m in \u001b[0;36mpandas._libs.index.IndexEngine.get_loc\u001b[0;34m()\u001b[0m\n",
            "\u001b[0;32mpandas/_libs/hashtable_class_helper.pxi\u001b[0m in \u001b[0;36mpandas._libs.hashtable.PyObjectHashTable.get_item\u001b[0;34m()\u001b[0m\n",
            "\u001b[0;32mpandas/_libs/hashtable_class_helper.pxi\u001b[0m in \u001b[0;36mpandas._libs.hashtable.PyObjectHashTable.get_item\u001b[0;34m()\u001b[0m\n",
            "\u001b[0;31mKeyError\u001b[0m: ''",
            "\nThe above exception was the direct cause of the following exception:\n",
            "\u001b[0;31mKeyError\u001b[0m                                  Traceback (most recent call last)",
            "\u001b[0;32m/tmp/ipython-input-334-3776293459.py\u001b[0m in \u001b[0;36m<cell line: 0>\u001b[0;34m()\u001b[0m\n\u001b[0;32m----> 1\u001b[0;31m \u001b[0mdf\u001b[0m\u001b[0;34m[\u001b[0m\u001b[0;34m''\u001b[0m\u001b[0;34m]\u001b[0m\u001b[0;34m\u001b[0m\u001b[0;34m\u001b[0m\u001b[0m\n\u001b[0m",
            "\u001b[0;32m/usr/local/lib/python3.11/dist-packages/pandas/core/frame.py\u001b[0m in \u001b[0;36m__getitem__\u001b[0;34m(self, key)\u001b[0m\n\u001b[1;32m   4100\u001b[0m             \u001b[0;32mif\u001b[0m \u001b[0mself\u001b[0m\u001b[0;34m.\u001b[0m\u001b[0mcolumns\u001b[0m\u001b[0;34m.\u001b[0m\u001b[0mnlevels\u001b[0m \u001b[0;34m>\u001b[0m \u001b[0;36m1\u001b[0m\u001b[0;34m:\u001b[0m\u001b[0;34m\u001b[0m\u001b[0;34m\u001b[0m\u001b[0m\n\u001b[1;32m   4101\u001b[0m                 \u001b[0;32mreturn\u001b[0m \u001b[0mself\u001b[0m\u001b[0;34m.\u001b[0m\u001b[0m_getitem_multilevel\u001b[0m\u001b[0;34m(\u001b[0m\u001b[0mkey\u001b[0m\u001b[0;34m)\u001b[0m\u001b[0;34m\u001b[0m\u001b[0;34m\u001b[0m\u001b[0m\n\u001b[0;32m-> 4102\u001b[0;31m             \u001b[0mindexer\u001b[0m \u001b[0;34m=\u001b[0m \u001b[0mself\u001b[0m\u001b[0;34m.\u001b[0m\u001b[0mcolumns\u001b[0m\u001b[0;34m.\u001b[0m\u001b[0mget_loc\u001b[0m\u001b[0;34m(\u001b[0m\u001b[0mkey\u001b[0m\u001b[0;34m)\u001b[0m\u001b[0;34m\u001b[0m\u001b[0;34m\u001b[0m\u001b[0m\n\u001b[0m\u001b[1;32m   4103\u001b[0m             \u001b[0;32mif\u001b[0m \u001b[0mis_integer\u001b[0m\u001b[0;34m(\u001b[0m\u001b[0mindexer\u001b[0m\u001b[0;34m)\u001b[0m\u001b[0;34m:\u001b[0m\u001b[0;34m\u001b[0m\u001b[0;34m\u001b[0m\u001b[0m\n\u001b[1;32m   4104\u001b[0m                 \u001b[0mindexer\u001b[0m \u001b[0;34m=\u001b[0m \u001b[0;34m[\u001b[0m\u001b[0mindexer\u001b[0m\u001b[0;34m]\u001b[0m\u001b[0;34m\u001b[0m\u001b[0;34m\u001b[0m\u001b[0m\n",
            "\u001b[0;32m/usr/local/lib/python3.11/dist-packages/pandas/core/indexes/base.py\u001b[0m in \u001b[0;36mget_loc\u001b[0;34m(self, key)\u001b[0m\n\u001b[1;32m   3810\u001b[0m             ):\n\u001b[1;32m   3811\u001b[0m                 \u001b[0;32mraise\u001b[0m \u001b[0mInvalidIndexError\u001b[0m\u001b[0;34m(\u001b[0m\u001b[0mkey\u001b[0m\u001b[0;34m)\u001b[0m\u001b[0;34m\u001b[0m\u001b[0;34m\u001b[0m\u001b[0m\n\u001b[0;32m-> 3812\u001b[0;31m             \u001b[0;32mraise\u001b[0m \u001b[0mKeyError\u001b[0m\u001b[0;34m(\u001b[0m\u001b[0mkey\u001b[0m\u001b[0;34m)\u001b[0m \u001b[0;32mfrom\u001b[0m \u001b[0merr\u001b[0m\u001b[0;34m\u001b[0m\u001b[0;34m\u001b[0m\u001b[0m\n\u001b[0m\u001b[1;32m   3813\u001b[0m         \u001b[0;32mexcept\u001b[0m \u001b[0mTypeError\u001b[0m\u001b[0;34m:\u001b[0m\u001b[0;34m\u001b[0m\u001b[0;34m\u001b[0m\u001b[0m\n\u001b[1;32m   3814\u001b[0m             \u001b[0;31m# If we have a listlike key, _check_indexing_error will raise\u001b[0m\u001b[0;34m\u001b[0m\u001b[0;34m\u001b[0m\u001b[0m\n",
            "\u001b[0;31mKeyError\u001b[0m: ''"
          ]
        }
      ]
    }
  ]
}